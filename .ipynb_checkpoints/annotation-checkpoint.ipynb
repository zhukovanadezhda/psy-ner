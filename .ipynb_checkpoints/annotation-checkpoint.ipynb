{
 "cells": [
  {
   "cell_type": "markdown",
   "id": "516a7f18-5929-458f-929d-ed06709a8c70",
   "metadata": {},
   "source": [
    "# Creating a training dataset by applying a rule-based model to a set of texts"
   ]
  },
  {
   "cell_type": "code",
   "execution_count": 58,
   "id": "7f36362b-d7d9-44a0-b873-83a56a4a964a",
   "metadata": {},
   "outputs": [],
   "source": [
    "import spacy\n",
    "from spacy.lang.en import English\n",
    "from spacy.pipeline import EntityRuler\n",
    "from spacy.tokens import DocBin\n",
    "import json\n",
    "import os\n",
    "import random\n",
    "import matplotlib.pyplot as plt\n",
    "import numpy as np\n",
    "import os\n",
    "import pandas as pd\n",
    "import requests\n",
    "import warnings\n",
    "import xmltodict\n",
    "from datetime import datetime\n",
    "import time\n",
    "from tqdm import tqdm\n",
    "\n",
    "%reload_ext autoreload\n",
    "%autoreload 2\n",
    "import datahelper as dt"
   ]
  },
  {
   "cell_type": "markdown",
   "id": "878298a6-afc2-44cf-9bfe-cbb51b7d2adb",
   "metadata": {},
   "source": [
    "### Creating labeled vocabulary in json format"
   ]
  },
  {
   "cell_type": "code",
   "execution_count": 79,
   "id": "37035db3-22f2-4f4a-b464-a4ac4c1f38d4",
   "metadata": {},
   "outputs": [
    {
     "name": "stderr",
     "output_type": "stream",
     "text": [
      "100%|██████████████████████████████████████████████████████████████████████████████████| 22/22 [00:08<00:00,  2.67it/s]\n"
     ]
    }
   ],
   "source": [
    "dir_path = f\"{os.getcwd()}\\\\data_txt\"\n",
    "txt_files = [f for f in os.listdir(dir_path) if f.endswith(\".txt\")]\n",
    "\n",
    "for file in tqdm(txt_files):\n",
    "    dt.upgrade_data(f\"data_txt/{file}\")\n",
    "    dt.delete_dublicates(f\"data_txt/{file}\")\n",
    "    with open (f\"data_txt/{file}\", \"r\", encoding=\"utf-8\") as f:\n",
    "        names = []\n",
    "        for line in f.readlines():\n",
    "            if line.strip() != '':\n",
    "                names.append(line.strip())\n",
    "        names = list(set(names))\n",
    "    dt.save_data(f\"data_json/{file[:-4]}.json\", names)"
   ]
  },
  {
   "cell_type": "code",
   "execution_count": 80,
   "id": "75595fee-5fd7-4bee-ac75-3fb4ccc4ba6b",
   "metadata": {},
   "outputs": [],
   "source": [
    "labels = {\"anxiety\":\"ANXIETY DISORDERS\", \n",
    "          'bipolar':'BIPOLAR DISORDERS', \n",
    "          'depressive':\"DEPRESSIVE DISORDERS\", \n",
    "          'dissociative': \"DISSOCIATIVE DISORDERS\", \n",
    "          'drugs': \"PSYCHEDELIC DRUGS\", \n",
    "          'eating':\"EATING DISORDERS\", \n",
    "          'neurocog':\"NEURO-COGNITIVE DISORDERS\",\n",
    "          'neurodev':\"NEURO-DEVELOPMENTAL DISORDERS\", \n",
    "          'nonsubstance':\"NON-SUBSTANCE RELATED DISORDERS\", \n",
    "          'ocd':\"OBSESSIVE-COMPULSIVE AND RELATED DISORDERS\", \n",
    "          'other':\"OTHER DISORDERS\", \n",
    "          'paraphilias':\"PARAPHILIAS\",  \n",
    "          'personality':\"PERSONALITY DISORDERS\", \n",
    "          'schizophrenia':\"SCHIZOPHRENIA SPECTRUM AND OTHER PSYCHOTIC DISORDERS\", \n",
    "          'sexual':\"SEXUAL DYSFUNCTIONS\", \n",
    "          'sleep':\"SLEEP-WAKE DISORDERS\", \n",
    "          'somatic':\"SOMATIC SYMPTOM RELATED DISORDERS\", \n",
    "          'substance':\"SUBSTANCE-RELATED DISORDERS\", \n",
    "          'trauma':\"TRAUMA AND STRESS RELATED DISORDERS\",\n",
    "          'elimination':\"ELIMINATION DISORDERS\",\n",
    "          'disruptive':\"DISRUPTIVE IMPULSE-CONTROL, AND CONDUCT DISORDERS\",\n",
    "          'symptoms':'SYMPTOMS'}"
   ]
  },
  {
   "cell_type": "code",
   "execution_count": 81,
   "id": "9b81d466-85ef-4617-8bee-08d11e7f501b",
   "metadata": {},
   "outputs": [
    {
     "name": "stderr",
     "output_type": "stream",
     "text": [
      "100%|█████████████████████████████████████████████████████████████████████████████████| 22/22 [00:00<00:00, 867.96it/s]\n"
     ]
    }
   ],
   "source": [
    "patterns = []\n",
    "for file in tqdm(txt_files):\n",
    "    patterns = dt.create_training_data(patterns, f\"data_json/{file[:-4]}.json\", labels[file[:-4]])\n",
    "dt.generate_rules(patterns)"
   ]
  },
  {
   "cell_type": "markdown",
   "id": "ef260ba8-097c-45a1-9d43-d848d04b7bec",
   "metadata": {},
   "source": [
    "### Testing on a test sample"
   ]
  },
  {
   "cell_type": "code",
   "execution_count": 64,
   "id": "76ee8dd7-c5b2-417c-8131-658d10455a61",
   "metadata": {},
   "outputs": [],
   "source": [
    "test = \"After a decades-long pause, psychedelics are again being intensely investigated for treating a wide range of neuropsychiatric ailments including depression, anxiety, addiction, post-traumatic stress disorder, anorexia, and chronic pain syndromes. The classic serotonergic psychedelics psilocybin and lysergic acid diethylamide and nonclassic psychedelics 3,4-methylenedioxymethamphetamine and ketamine are increasingly appreciated as neuroplastogens given their potential to fundamentally alter mood and behavior well beyond the time window of measurable exposure. Imaging studies with psychedelics are also helping advance our understanding of neural networks and connectomics. This resurgence in psychedelic science and psychedelic-assisted therapy has potential significance for the fields of neurosurgery and neuro-oncology and their diverse and challenging patients, many of whom continue to have mental health issues and poor quality of life despite receiving state-of-the-art care. In this study, we review recent and ongoing clinical trials, the set and setting model of psychedelic-assisted therapy, potential risks and adverse events, proposed mechanisms of action, and provide a perspective on how the safe and evidence-based use of psychedelics could potentially benefit many patients, including those with brain tumors, pain syndromes, ruminative disorders, stroke, SAH, TBI, and movement disorders. By leveraging psychedelics' neuroplastic potential to rehabilitate the mind and brain, novel treatments may be possible for many of these patient populations, in some instances working synergistically with current treatments and in some using subpsychedelic doses that do not require mind-altering effects for efficacy. This review aims to encourage broader multidisciplinary collaboration across the neurosciences to explore and help realize the transdiagnostic healing potential of psychedelics.\""
   ]
  },
  {
   "cell_type": "code",
   "execution_count": 136,
   "id": "dfba968a-1dcf-434d-a4dd-8030bbc4e6ef",
   "metadata": {},
   "outputs": [],
   "source": [
    "nlp = spacy.load(\"psy_ner\")"
   ]
  },
  {
   "cell_type": "code",
   "execution_count": 7,
   "id": "e8c757d0-fe55-4bc7-8ba5-274c107ca4e9",
   "metadata": {},
   "outputs": [
    {
     "name": "stdout",
     "output_type": "stream",
     "text": [
      "depression DEPRESSIVE DISORDERS\n",
      "anxiety ANXIETY DISORDERS\n",
      "post-traumatic stress disorder TRAUMA AND STRESS RELATED DISORDERS\n",
      "anorexia EATING DISORDERS\n",
      "chronic pain SOMATIC SYMPTOM RELATED DISORDERS\n",
      "serotonergic psychedelics PSYCHEDELIC DRUGS\n",
      "psilocybin PSYCHEDELIC DRUGS\n",
      "lysergic acid diethylamide PSYCHEDELIC DRUGS\n",
      "3,4-methylenedioxymethamphetamine PSYCHEDELIC DRUGS\n",
      "ketamine PSYCHEDELIC DRUGS\n",
      "pain syndromes SOMATIC SYMPTOM RELATED DISORDERS\n"
     ]
    },
    {
     "data": {
      "text/plain": [
       "[\"After a decades-long pause, psychedelics are again being intensely investigated for treating a wide range of neuropsychiatric ailments including depression, anxiety, addiction, post-traumatic stress disorder, anorexia, and chronic pain syndromes. The classic serotonergic psychedelics psilocybin and lysergic acid diethylamide and nonclassic psychedelics 3,4-methylenedioxymethamphetamine and ketamine are increasingly appreciated as neuroplastogens given their potential to fundamentally alter mood and behavior well beyond the time window of measurable exposure. Imaging studies with psychedelics are also helping advance our understanding of neural networks and connectomics. This resurgence in psychedelic science and psychedelic-assisted therapy has potential significance for the fields of neurosurgery and neuro-oncology and their diverse and challenging patients, many of whom continue to have mental health issues and poor quality of life despite receiving state-of-the-art care. In this study, we review recent and ongoing clinical trials, the set and setting model of psychedelic-assisted therapy, potential risks and adverse events, proposed mechanisms of action, and provide a perspective on how the safe and evidence-based use of psychedelics could potentially benefit many patients, including those with brain tumors, pain syndromes, ruminative disorders, stroke, SAH, TBI, and movement disorders. By leveraging psychedelics' neuroplastic potential to rehabilitate the mind and brain, novel treatments may be possible for many of these patient populations, in some instances working synergistically with current treatments and in some using subpsychedelic doses that do not require mind-altering effects for efficacy. This review aims to encourage broader multidisciplinary collaboration across the neurosciences to explore and help realize the transdiagnostic healing potential of psychedelics.\",\n",
       " {'entities': [(145, 155, 'DEPRESSIVE DISORDERS'),\n",
       "   (157, 164, 'ANXIETY DISORDERS'),\n",
       "   (177, 207, 'TRAUMA AND STRESS RELATED DISORDERS'),\n",
       "   (209, 217, 'EATING DISORDERS'),\n",
       "   (223, 235, 'SOMATIC SYMPTOM RELATED DISORDERS'),\n",
       "   (259, 284, 'PSYCHEDELIC DRUGS'),\n",
       "   (285, 295, 'PSYCHEDELIC DRUGS'),\n",
       "   (300, 326, 'PSYCHEDELIC DRUGS'),\n",
       "   (355, 388, 'PSYCHEDELIC DRUGS'),\n",
       "   (393, 401, 'PSYCHEDELIC DRUGS'),\n",
       "   (1333, 1347, 'SOMATIC SYMPTOM RELATED DISORDERS')]}]"
      ]
     },
     "execution_count": 7,
     "metadata": {},
     "output_type": "execute_result"
    }
   ],
   "source": [
    "dt.test_model(nlp, test)"
   ]
  },
  {
   "cell_type": "markdown",
   "id": "0ab0aac9-e94b-4ccd-9c0b-047fb83d488a",
   "metadata": {},
   "source": [
    "### Geting more training samples from pubmed using entrez pubmed api"
   ]
  },
  {
   "cell_type": "code",
   "execution_count": 19,
   "id": "0c619e06-1a4f-40ce-b51e-abf4cd01df70",
   "metadata": {},
   "outputs": [
    {
     "name": "stderr",
     "output_type": "stream",
     "text": [
      "100%|██████████████████████████████████████████████████████████████████████████████████| 61/61 [00:41<00:00,  1.46it/s]\n"
     ]
    },
    {
     "data": {
      "text/plain": [
       "561"
      ]
     },
     "execution_count": 19,
     "metadata": {},
     "output_type": "execute_result"
    }
   ],
   "source": [
    "db = \"pubmed\"\n",
    "domain = \"https://www.ncbi.nlm.nih.gov/entrez/eutils\"\n",
    "retmode = \"json\"\n",
    "\n",
    "PMIDs = []\n",
    "stats = {}\n",
    "queries = []\n",
    "\n",
    "for year in range(1963,2024):\n",
    "    queries.append(f'(psychedelic anxiety depression) AND ((\"{year}/01/01\"[Date - Publication] : \"{year}/12/31\"[Date - Publication]))')\n",
    "\n",
    "\n",
    "for query in tqdm(queries):\n",
    "    nb = 0\n",
    "    queryLinkSearch = f\"{domain}/esearch.fcgi?db={db}&retmode={retmode}&retmax=15000&term={query}\"\n",
    "    response = requests.get(queryLinkSearch)\n",
    "    pubmed_json = response.json()\n",
    "    for id in pubmed_json[\"esearchresult\"][\"idlist\"]:\n",
    "        nb += 1\n",
    "        PMIDs.append(id)\n",
    "    stats[query[40:44]] = nb\n",
    "PMIDs = list(set(PMIDs))\n",
    "len(PMIDs)"
   ]
  },
  {
   "cell_type": "code",
   "execution_count": 26,
   "id": "598ad6ef-35e0-47c8-8e0b-2d4902a72f29",
   "metadata": {},
   "outputs": [
    {
     "data": {
      "image/png": "[encoded data removed]",
      "text/plain": [
       "<Figure size 1500x700 with 1 Axes>"
      ]
     },
     "metadata": {},
     "output_type": "display_data"
    }
   ],
   "source": [
    "years = list(stats.keys())\n",
    "values = list(stats.values())\n",
    "\n",
    "fig, ax = plt.subplots(figsize=(15, 7))\n",
    "\n",
    "ax.bar(years, values, color='cadetblue')\n",
    "\n",
    "ax.set_xlabel('Year')\n",
    "ax.set_ylabel('Number of publications')\n",
    "ax.set_title('Publications including words \"psychedelic\" \"anxiety\" \"depression\" per year')\n",
    "\n",
    "for i, value in enumerate(values):\n",
    "    ax.text(i, value, str(value), ha='center', va='bottom')\n",
    "\n",
    "plt.xticks(rotation=70)\n",
    "\n",
    "plt.show()"
   ]
  },
  {
   "cell_type": "markdown",
   "id": "cbb020aa-129c-49fd-b91d-bd0341b375f7",
   "metadata": {},
   "source": [
    "I will devide 561 article into train and test set so that in train set there will be 2/3 * 561 = 374 texts and in test set the ret texts"
   ]
  },
  {
   "cell_type": "code",
   "execution_count": 36,
   "id": "b8ad78cd-ac5d-4b84-81de-2685f9bec4f4",
   "metadata": {},
   "outputs": [
    {
     "name": "stderr",
     "output_type": "stream",
     "text": [
      " 17%|█████████████▊                                                                   | 64/374 [00:44<03:37,  1.42it/s]"
     ]
    },
    {
     "name": "stdout",
     "output_type": "stream",
     "text": [
      "No abstract\n"
     ]
    },
    {
     "name": "stderr",
     "output_type": "stream",
     "text": [
      " 18%|██████████████▋                                                                  | 68/374 [00:47<03:02,  1.67it/s]"
     ]
    },
    {
     "name": "stdout",
     "output_type": "stream",
     "text": [
      "No abstract\n"
     ]
    },
    {
     "name": "stderr",
     "output_type": "stream",
     "text": [
      " 19%|███████████████▏                                                                 | 70/374 [00:49<04:29,  1.13it/s]"
     ]
    },
    {
     "name": "stdout",
     "output_type": "stream",
     "text": [
      "No abstract\n"
     ]
    },
    {
     "name": "stderr",
     "output_type": "stream",
     "text": [
      " 21%|████████████████▋                                                                | 77/374 [00:53<03:03,  1.62it/s]"
     ]
    },
    {
     "name": "stdout",
     "output_type": "stream",
     "text": [
      "No abstract\n"
     ]
    },
    {
     "name": "stderr",
     "output_type": "stream",
     "text": [
      " 22%|█████████████████▉                                                               | 83/374 [00:58<03:25,  1.41it/s]"
     ]
    },
    {
     "name": "stdout",
     "output_type": "stream",
     "text": [
      "No abstract\n"
     ]
    },
    {
     "name": "stderr",
     "output_type": "stream",
     "text": [
      " 22%|██████████████████▏                                                              | 84/374 [00:58<03:02,  1.59it/s]"
     ]
    },
    {
     "name": "stdout",
     "output_type": "stream",
     "text": [
      "No abstract\n"
     ]
    },
    {
     "name": "stderr",
     "output_type": "stream",
     "text": [
      " 23%|██████████████████▋                                                              | 86/374 [00:59<02:59,  1.61it/s]"
     ]
    },
    {
     "name": "stdout",
     "output_type": "stream",
     "text": [
      "No abstract\n"
     ]
    },
    {
     "name": "stderr",
     "output_type": "stream",
     "text": [
      " 27%|█████████████████████▍                                                          | 100/374 [01:10<04:01,  1.13it/s]"
     ]
    },
    {
     "name": "stdout",
     "output_type": "stream",
     "text": [
      "No abstract\n"
     ]
    },
    {
     "name": "stderr",
     "output_type": "stream",
     "text": [
      " 31%|█████████████████████████                                                       | 117/374 [01:22<02:45,  1.55it/s]"
     ]
    },
    {
     "name": "stdout",
     "output_type": "stream",
     "text": [
      "No abstract\n"
     ]
    },
    {
     "name": "stderr",
     "output_type": "stream",
     "text": [
      " 34%|██████████████████████████▉                                                     | 126/374 [01:30<02:36,  1.59it/s]"
     ]
    },
    {
     "name": "stdout",
     "output_type": "stream",
     "text": [
      "No abstract\n"
     ]
    },
    {
     "name": "stderr",
     "output_type": "stream",
     "text": [
      " 35%|████████████████████████████▏                                                   | 132/374 [01:34<02:48,  1.44it/s]"
     ]
    },
    {
     "name": "stdout",
     "output_type": "stream",
     "text": [
      "No abstract\n"
     ]
    },
    {
     "name": "stderr",
     "output_type": "stream",
     "text": [
      " 41%|████████████████████████████████▉                                               | 154/374 [01:49<02:33,  1.43it/s]"
     ]
    },
    {
     "name": "stdout",
     "output_type": "stream",
     "text": [
      "No abstract\n"
     ]
    },
    {
     "name": "stderr",
     "output_type": "stream",
     "text": [
      " 42%|█████████████████████████████████▊                                              | 158/374 [01:52<02:10,  1.66it/s]"
     ]
    },
    {
     "name": "stdout",
     "output_type": "stream",
     "text": [
      "No abstract\n"
     ]
    },
    {
     "name": "stderr",
     "output_type": "stream",
     "text": [
      " 43%|██████████████████████████████████▏                                             | 160/374 [01:54<03:14,  1.10it/s]"
     ]
    },
    {
     "name": "stdout",
     "output_type": "stream",
     "text": [
      "No abstract\n"
     ]
    },
    {
     "name": "stderr",
     "output_type": "stream",
     "text": [
      " 45%|████████████████████████████████████▎                                           | 170/374 [02:00<02:52,  1.19it/s]"
     ]
    },
    {
     "name": "stdout",
     "output_type": "stream",
     "text": [
      "No abstract\n"
     ]
    },
    {
     "name": "stderr",
     "output_type": "stream",
     "text": [
      " 46%|████████████████████████████████████▊                                           | 172/374 [02:01<02:16,  1.48it/s]"
     ]
    },
    {
     "name": "stdout",
     "output_type": "stream",
     "text": [
      "No abstract\n"
     ]
    },
    {
     "name": "stderr",
     "output_type": "stream",
     "text": [
      " 48%|██████████████████████████████████████▋                                         | 181/374 [02:08<02:34,  1.25it/s]"
     ]
    },
    {
     "name": "stdout",
     "output_type": "stream",
     "text": [
      "No abstract\n"
     ]
    },
    {
     "name": "stderr",
     "output_type": "stream",
     "text": [
      " 49%|███████████████████████████████████████▌                                        | 185/374 [02:10<02:04,  1.52it/s]"
     ]
    },
    {
     "name": "stdout",
     "output_type": "stream",
     "text": [
      "No abstract\n"
     ]
    },
    {
     "name": "stderr",
     "output_type": "stream",
     "text": [
      " 52%|█████████████████████████████████████████▋                                      | 195/374 [02:17<01:59,  1.50it/s]"
     ]
    },
    {
     "name": "stdout",
     "output_type": "stream",
     "text": [
      "No abstract\n"
     ]
    },
    {
     "name": "stderr",
     "output_type": "stream",
     "text": [
      " 55%|████████████████████████████████████████████                                    | 206/374 [02:25<02:01,  1.39it/s]"
     ]
    },
    {
     "name": "stdout",
     "output_type": "stream",
     "text": [
      "No abstract\n"
     ]
    },
    {
     "name": "stderr",
     "output_type": "stream",
     "text": [
      " 58%|██████████████████████████████████████████████▏                                 | 216/374 [02:32<01:39,  1.59it/s]"
     ]
    },
    {
     "name": "stdout",
     "output_type": "stream",
     "text": [
      "No abstract\n"
     ]
    },
    {
     "name": "stderr",
     "output_type": "stream",
     "text": [
      " 59%|███████████████████████████████████████████████▍                                | 222/374 [02:38<01:55,  1.31it/s]"
     ]
    },
    {
     "name": "stdout",
     "output_type": "stream",
     "text": [
      "No abstract\n"
     ]
    },
    {
     "name": "stderr",
     "output_type": "stream",
     "text": [
      " 61%|████████████████████████████████████████████████▊                               | 228/374 [02:41<01:24,  1.72it/s]"
     ]
    },
    {
     "name": "stdout",
     "output_type": "stream",
     "text": [
      "No abstract\n"
     ]
    },
    {
     "name": "stderr",
     "output_type": "stream",
     "text": [
      " 71%|████████████████████████████████████████████████████████▋                       | 265/374 [03:08<01:18,  1.39it/s]"
     ]
    },
    {
     "name": "stdout",
     "output_type": "stream",
     "text": [
      "No abstract\n"
     ]
    },
    {
     "name": "stderr",
     "output_type": "stream",
     "text": [
      " 71%|█████████████████████████████████████████████████████████                       | 267/374 [03:09<01:04,  1.65it/s]"
     ]
    },
    {
     "name": "stdout",
     "output_type": "stream",
     "text": [
      "No abstract\n"
     ]
    },
    {
     "name": "stderr",
     "output_type": "stream",
     "text": [
      " 72%|█████████████████████████████████████████████████████████▎                      | 268/374 [03:10<01:02,  1.70it/s]"
     ]
    },
    {
     "name": "stdout",
     "output_type": "stream",
     "text": [
      "No abstract\n"
     ]
    },
    {
     "name": "stderr",
     "output_type": "stream",
     "text": [
      " 72%|█████████████████████████████████████████████████████████▌                      | 269/374 [03:10<01:00,  1.73it/s]"
     ]
    },
    {
     "name": "stdout",
     "output_type": "stream",
     "text": [
      "No abstract\n"
     ]
    },
    {
     "name": "stderr",
     "output_type": "stream",
     "text": [
      " 77%|█████████████████████████████████████████████████████████████▍                  | 287/374 [03:23<00:51,  1.70it/s]"
     ]
    },
    {
     "name": "stdout",
     "output_type": "stream",
     "text": [
      "No abstract\n"
     ]
    },
    {
     "name": "stderr",
     "output_type": "stream",
     "text": [
      " 79%|███████████████████████████████████████████████████████████████▌                | 297/374 [03:30<00:48,  1.57it/s]"
     ]
    },
    {
     "name": "stdout",
     "output_type": "stream",
     "text": [
      "No abstract\n"
     ]
    },
    {
     "name": "stderr",
     "output_type": "stream",
     "text": [
      " 80%|████████████████████████████████████████████████████████████████▍               | 301/374 [03:33<00:58,  1.25it/s]"
     ]
    },
    {
     "name": "stdout",
     "output_type": "stream",
     "text": [
      "No abstract\n"
     ]
    },
    {
     "name": "stderr",
     "output_type": "stream",
     "text": [
      " 81%|████████████████████████████████████████████████████████████████▌               | 302/374 [03:34<00:50,  1.42it/s]"
     ]
    },
    {
     "name": "stdout",
     "output_type": "stream",
     "text": [
      "No abstract\n"
     ]
    },
    {
     "name": "stderr",
     "output_type": "stream",
     "text": [
      " 84%|██████████████████████████████████████████████████████████████████▉             | 313/374 [03:41<00:41,  1.47it/s]"
     ]
    },
    {
     "name": "stdout",
     "output_type": "stream",
     "text": [
      "No abstract\n"
     ]
    },
    {
     "name": "stderr",
     "output_type": "stream",
     "text": [
      " 89%|███████████████████████████████████████████████████████████████████████         | 332/374 [03:54<00:32,  1.31it/s]"
     ]
    },
    {
     "name": "stdout",
     "output_type": "stream",
     "text": [
      "No abstract\n"
     ]
    },
    {
     "name": "stderr",
     "output_type": "stream",
     "text": [
      " 94%|███████████████████████████████████████████████████████████████████████████▌    | 353/374 [04:10<00:14,  1.42it/s]"
     ]
    },
    {
     "name": "stdout",
     "output_type": "stream",
     "text": [
      "No abstract\n"
     ]
    },
    {
     "name": "stderr",
     "output_type": "stream",
     "text": [
      " 95%|████████████████████████████████████████████████████████████████████████████▎   | 357/374 [04:16<00:26,  1.55s/it]"
     ]
    },
    {
     "name": "stdout",
     "output_type": "stream",
     "text": [
      "No abstract\n"
     ]
    },
    {
     "name": "stderr",
     "output_type": "stream",
     "text": [
      " 97%|█████████████████████████████████████████████████████████████████████████████▋  | 363/374 [04:20<00:08,  1.35it/s]"
     ]
    },
    {
     "name": "stdout",
     "output_type": "stream",
     "text": [
      "No abstract\n"
     ]
    },
    {
     "name": "stderr",
     "output_type": "stream",
     "text": [
      "100%|████████████████████████████████████████████████████████████████████████████████| 374/374 [04:28<00:00,  1.39it/s]\n"
     ]
    }
   ],
   "source": [
    "abstracts = []\n",
    "\n",
    "count = 0\n",
    "for PMID in tqdm(PMIDs[:374]):\n",
    "    count += 1\n",
    "    if count % 10 == 0:\n",
    "        time.sleep(1)\n",
    "        \n",
    "    summary = dt.get_summary(PMID)\n",
    "    abstract = dt.get_abstract_from_summary(summary)\n",
    "    \n",
    "    abstracts.append(abstract)\n"
   ]
  },
  {
   "cell_type": "code",
   "execution_count": 129,
   "id": "cc244b0f-4eac-450f-bc6a-a6d28b9c72b6",
   "metadata": {},
   "outputs": [
    {
     "name": "stderr",
     "output_type": "stream",
     "text": [
      "  6%|████▊                                                                            | 11/187 [00:08<02:48,  1.05it/s]"
     ]
    },
    {
     "name": "stdout",
     "output_type": "stream",
     "text": [
      "No abstract\n"
     ]
    },
    {
     "name": "stderr",
     "output_type": "stream",
     "text": [
      "  8%|██████▍                                                                          | 15/187 [00:11<02:03,  1.39it/s]"
     ]
    },
    {
     "name": "stdout",
     "output_type": "stream",
     "text": [
      "No abstract\n"
     ]
    },
    {
     "name": "stderr",
     "output_type": "stream",
     "text": [
      "  9%|███████▎                                                                         | 17/187 [00:12<01:59,  1.43it/s]"
     ]
    },
    {
     "name": "stdout",
     "output_type": "stream",
     "text": [
      "No abstract\n"
     ]
    },
    {
     "name": "stderr",
     "output_type": "stream",
     "text": [
      " 12%|█████████▌                                                                       | 22/187 [00:17<02:13,  1.23it/s]"
     ]
    },
    {
     "name": "stdout",
     "output_type": "stream",
     "text": [
      "No abstract\n"
     ]
    },
    {
     "name": "stderr",
     "output_type": "stream",
     "text": [
      " 18%|██████████████▎                                                                  | 33/187 [00:25<01:58,  1.29it/s]"
     ]
    },
    {
     "name": "stdout",
     "output_type": "stream",
     "text": [
      "No abstract\n"
     ]
    },
    {
     "name": "stderr",
     "output_type": "stream",
     "text": [
      " 27%|██████████████████████                                                           | 51/187 [00:39<02:04,  1.09it/s]"
     ]
    },
    {
     "name": "stdout",
     "output_type": "stream",
     "text": [
      "No abstract\n"
     ]
    },
    {
     "name": "stderr",
     "output_type": "stream",
     "text": [
      " 34%|███████████████████████████▎                                                     | 63/187 [00:48<01:30,  1.38it/s]"
     ]
    },
    {
     "name": "stdout",
     "output_type": "stream",
     "text": [
      "No abstract\n"
     ]
    },
    {
     "name": "stderr",
     "output_type": "stream",
     "text": [
      " 41%|█████████████████████████████████▎                                               | 77/187 [00:57<01:03,  1.72it/s]"
     ]
    },
    {
     "name": "stdout",
     "output_type": "stream",
     "text": [
      "No abstract\n"
     ]
    },
    {
     "name": "stderr",
     "output_type": "stream",
     "text": [
      " 45%|████████████████████████████████████▍                                            | 84/187 [01:03<01:11,  1.44it/s]"
     ]
    },
    {
     "name": "stdout",
     "output_type": "stream",
     "text": [
      "No abstract\n"
     ]
    },
    {
     "name": "stderr",
     "output_type": "stream",
     "text": [
      " 49%|███████████████████████████████████████▊                                         | 92/187 [01:09<01:17,  1.23it/s]"
     ]
    },
    {
     "name": "stdout",
     "output_type": "stream",
     "text": [
      "No abstract\n"
     ]
    },
    {
     "name": "stderr",
     "output_type": "stream",
     "text": [
      " 53%|██████████████████████████████████████████▊                                     | 100/187 [01:15<01:23,  1.04it/s]"
     ]
    },
    {
     "name": "stdout",
     "output_type": "stream",
     "text": [
      "No abstract\n"
     ]
    },
    {
     "name": "stderr",
     "output_type": "stream",
     "text": [
      " 59%|███████████████████████████████████████████████                                 | 110/187 [01:23<01:14,  1.04it/s]"
     ]
    },
    {
     "name": "stdout",
     "output_type": "stream",
     "text": [
      "No abstract\n"
     ]
    },
    {
     "name": "stderr",
     "output_type": "stream",
     "text": [
      " 59%|███████████████████████████████████████████████▍                                | 111/187 [01:23<01:05,  1.16it/s]"
     ]
    },
    {
     "name": "stdout",
     "output_type": "stream",
     "text": [
      "No abstract\n"
     ]
    },
    {
     "name": "stderr",
     "output_type": "stream",
     "text": [
      " 72%|█████████████████████████████████████████████████████████▎                      | 134/187 [01:41<00:38,  1.39it/s]"
     ]
    },
    {
     "name": "stdout",
     "output_type": "stream",
     "text": [
      "No abstract\n"
     ]
    },
    {
     "name": "stderr",
     "output_type": "stream",
     "text": [
      " 76%|████████████████████████████████████████████████████████████▋                   | 142/187 [01:47<00:34,  1.30it/s]"
     ]
    },
    {
     "name": "stdout",
     "output_type": "stream",
     "text": [
      "No abstract\n"
     ]
    },
    {
     "name": "stderr",
     "output_type": "stream",
     "text": [
      " 83%|██████████████████████████████████████████████████████████████████▎             | 155/187 [02:00<00:36,  1.15s/it]"
     ]
    },
    {
     "name": "stdout",
     "output_type": "stream",
     "text": [
      "No abstract\n"
     ]
    },
    {
     "name": "stderr",
     "output_type": "stream",
     "text": [
      " 84%|███████████████████████████████████████████████████████████████████▏            | 157/187 [02:01<00:27,  1.10it/s]"
     ]
    },
    {
     "name": "stdout",
     "output_type": "stream",
     "text": [
      "No abstract\n"
     ]
    },
    {
     "name": "stderr",
     "output_type": "stream",
     "text": [
      "100%|████████████████████████████████████████████████████████████████████████████████| 187/187 [02:27<00:00,  1.27it/s]\n"
     ]
    }
   ],
   "source": [
    "abstracts_valid = []\n",
    "\n",
    "count = 0\n",
    "for PMID in tqdm(PMIDs[374:]):\n",
    "    count += 1\n",
    "    if count % 10 == 0:\n",
    "        time.sleep(1)\n",
    "        \n",
    "    summary = dt.get_summary(PMID)\n",
    "    abstract = dt.get_abstract_from_summary(summary)\n",
    "    \n",
    "    abstracts_valid.append(abstract)"
   ]
  },
  {
   "cell_type": "code",
   "execution_count": 119,
   "id": "7d84ccde-4b05-405d-b5c7-bf01c7bbe39a",
   "metadata": {},
   "outputs": [
    {
     "name": "stderr",
     "output_type": "stream",
     "text": [
      "100%|██████████████████████████████████████████████████████████████████████████████| 374/374 [00:00<00:00, 1050.11it/s]\n"
     ]
    }
   ],
   "source": [
    "TRAIN_DATA = []\n",
    "for abstract in tqdm(abstracts):\n",
    "    if abstract != None and abstract != '' and abstract != ' ' and abstract != '\\n':\n",
    "        #dt.test_model(nlp, abstract, 'test.txt')\n",
    "        result = dt.test_model(nlp, abstract)\n",
    "        if result != None:\n",
    "            TRAIN_DATA.append(result)"
   ]
  },
  {
   "cell_type": "code",
   "execution_count": 120,
   "id": "9718d264-71e9-47c0-9116-b8c046f00a75",
   "metadata": {},
   "outputs": [
    {
     "data": {
      "text/plain": [
       "338"
      ]
     },
     "execution_count": 120,
     "metadata": {},
     "output_type": "execute_result"
    }
   ],
   "source": [
    "len(TRAIN_DATA)"
   ]
  },
  {
   "cell_type": "code",
   "execution_count": 121,
   "id": "de9527d6-3568-4572-9fa5-5899c79e7b32",
   "metadata": {},
   "outputs": [],
   "source": [
    "dt.save_data(\"train_data.json\", TRAIN_DATA)"
   ]
  },
  {
   "cell_type": "code",
   "execution_count": 137,
   "id": "92b5ecb5-a988-4a7b-b018-1f1188c5861b",
   "metadata": {},
   "outputs": [
    {
     "name": "stderr",
     "output_type": "stream",
     "text": [
      "100%|███████████████████████████████████████████████████████████████████████████████| 187/187 [00:00<00:00, 306.44it/s]\n"
     ]
    },
    {
     "data": {
      "text/plain": [
       "170"
      ]
     },
     "execution_count": 137,
     "metadata": {},
     "output_type": "execute_result"
    }
   ],
   "source": [
    "TEST_DATA = []\n",
    "for abstract in tqdm(abstracts_valid):\n",
    "    if abstract != None and abstract != '' and abstract != ' ' and abstract != '\\n':\n",
    "        result = dt.test_model(nlp, abstract)\n",
    "        if result != None:\n",
    "            TEST_DATA.append(result)\n",
    "len(TEST_DATA)"
   ]
  },
  {
   "cell_type": "code",
   "execution_count": 131,
   "id": "ea8be402-b2ac-4b2d-b455-2b681bac03e1",
   "metadata": {},
   "outputs": [],
   "source": [
    "dt.save_data(\"test_data.json\", TEST_DATA)"
   ]
  },
  {
   "cell_type": "code",
   "execution_count": 133,
   "id": "6035f6b0-0d56-4850-bd2e-71cb1395fe13",
   "metadata": {},
   "outputs": [],
   "source": [
    "nlp = spacy.blank(\"en\")\n",
    "def v3_train(TRAIN_DATA):\n",
    "    for item in tqdm(TRAIN_DATA):\n",
    "        try:\n",
    "            text, annot = item\n",
    "            doc = nlp.make_doc(text)\n",
    "            ents = []\n",
    "            for start, end, label in annot[\"entities\"]:\n",
    "                span = doc.char_span(start, end, label=label, alignment_mode=\"contract\")\n",
    "                if span is None:\n",
    "                    print(\"Skipping entity\")\n",
    "                else:\n",
    "                    ents.append(span)\n",
    "            doc.ents = ents\n",
    "            db = DocBin()\n",
    "            db.add(doc)\n",
    "        except ValueError:\n",
    "            continue\n",
    "    return db\n",
    "            "
   ]
  },
  {
   "cell_type": "code",
   "execution_count": 125,
   "id": "7bb44d75-4a98-4ea1-9ae4-1fa102e2710d",
   "metadata": {},
   "outputs": [
    {
     "name": "stderr",
     "output_type": "stream",
     "text": [
      "100%|███████████████████████████████████████████████████████████████████████████████| 338/338 [00:01<00:00, 228.26it/s]\n"
     ]
    }
   ],
   "source": [
    "TRAIN_DATA = v3_train(TRAIN_DATA)\n",
    "TRAIN_DATA.to_disk(\"train_data_v3.spacy\")"
   ]
  },
  {
   "cell_type": "code",
   "execution_count": 139,
   "id": "ac8e31fb-e58e-469b-9f8f-bbd4e8a8c510",
   "metadata": {},
   "outputs": [
    {
     "name": "stderr",
     "output_type": "stream",
     "text": [
      "100%|███████████████████████████████████████████████████████████████████████████████| 170/170 [00:00<00:00, 465.45it/s]\n"
     ]
    }
   ],
   "source": [
    "TEST_DATA = v3_train(TEST_DATA)\n",
    "TEST_DATA.to_disk(\"test_data_v3.spacy\")"
   ]
  }
 ],
 "metadata": {
  "kernelspec": {
   "display_name": "Python 3 (ipykernel)",
   "language": "python",
   "name": "python3"
  },
  "language_info": {
   "codemirror_mode": {
    "name": "ipython",
    "version": 3
   },
   "file_extension": ".py",
   "mimetype": "text/x-python",
   "name": "python",
   "nbconvert_exporter": "python",
   "pygments_lexer": "ipython3",
   "version": "3.9.13"
  }
 },
 "nbformat": 4,
 "nbformat_minor": 5
}
