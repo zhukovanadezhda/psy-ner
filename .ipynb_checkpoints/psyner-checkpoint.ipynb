{
 "cells": [
  {
   "cell_type": "markdown",
   "id": "b1a8a69f-ea3e-4581-a63e-e8fac2ae50b4",
   "metadata": {},
   "source": [
    "# 💭🧠🤍 Custom NER model for mental health purposes 🖤🧠💭"
   ]
  },
  {
   "cell_type": "markdown",
   "id": "fab1b4a6-4b8a-4493-9a32-3903c5fd8a68",
   "metadata": {},
   "source": [
    "## Installing all necessary libraries and packages"
   ]
  },
  {
   "cell_type": "code",
   "execution_count": 7,
   "id": "93a3e167-3b97-445f-9150-026576bd7a35",
   "metadata": {},
   "outputs": [
    {
     "name": "stdout",
     "output_type": "stream",
     "text": [
      "Note: you may need to restart the kernel to use updated packages.\n"
     ]
    }
   ],
   "source": [
    "pip install spacy -q"
   ]
  },
  {
   "cell_type": "code",
   "execution_count": 8,
   "id": "34a7a4f7-d943-4dee-aaa2-b4d97f8c0f02",
   "metadata": {},
   "outputs": [
    {
     "name": "stdout",
     "output_type": "stream",
     "text": [
      "[+] Download and installation successful\n",
      "You can now load the package via spacy.load('en_core_web_sm')\n"
     ]
    }
   ],
   "source": [
    "!python -m spacy download en_core_web_sm en_core_web_lg -q"
   ]
  },
  {
   "cell_type": "code",
   "execution_count": 53,
   "id": "d966d014-90a9-4946-ab13-f9ff0ebd378b",
   "metadata": {},
   "outputs": [],
   "source": [
    "import spacy\n",
    "from spacy.lang.en import English\n",
    "from spacy.pipeline import EntityRuler\n",
    "from spacy import displacy\n",
    "import json\n",
    "import os\n",
    "import random\n",
    "from tqdm import tqdm\n",
    "import subprocess\n",
    "\n",
    "%reload_ext autoreload\n",
    "%autoreload 2\n",
    "import datahelper as dt"
   ]
  },
  {
   "cell_type": "markdown",
   "id": "9d6ba58b-85a7-4af7-9f98-a20f7e7be844",
   "metadata": {},
   "source": [
    "## Generalized spaCy models"
   ]
  },
  {
   "cell_type": "code",
   "execution_count": 18,
   "id": "17392fd4-54e9-4e1d-b54c-67bbef1f1b39",
   "metadata": {},
   "outputs": [],
   "source": [
    "test=\"After a decades-long pause, psychedelics are again being intensely investigated for treating a wide range of neuropsychiatric ailments including depression, anxiety, addiction, post-traumatic stress disorder, anorexia, and chronic pain syndromes. The classic serotonergic psychedelics psilocybin and lysergic acid diethylamide and nonclassic psychedelics 3,4-methylenedioxymethamphetamine and ketamine are increasingly appreciated as neuroplastogens given their potential to fundamentally alter mood and behavior well beyond the time window of measurable exposure. Imaging studies with psychedelics are also helping advance our understanding of neural networks and connectomics. This resurgence in psychedelic science and psychedelic-assisted therapy has potential significance for the fields of neurosurgery and neuro-oncology and their diverse and challenging patients, many of whom continue to have mental health issues and poor quality of life despite receiving state-of-the-art care. In this study, we review recent and ongoing clinical trials, the set and setting model of psychedelic-assisted therapy, potential risks and adverse events, proposed mechanisms of action, and provide a perspective on how the safe and evidence-based use of psychedelics could potentially benefit many patients, including those with brain tumors, pain syndromes, ruminative disorders, stroke, SAH, TBI, and movement disorders. By leveraging psychedelics' neuroplastic potential to rehabilitate the mind and brain, novel treatments may be possible for many of these patient populations, in some instances working synergistically with current treatments and in some using subpsychedelic doses that do not require mind-altering effects for efficacy. This review aims to encourage broader multidisciplinary collaboration across the neurosciences to explore and help realize the transdiagnostic healing potential of psychedelics.\""
   ]
  },
  {
   "cell_type": "code",
   "execution_count": 46,
   "id": "3299ed5e-a322-4ce2-819b-cba66a48affa",
   "metadata": {},
   "outputs": [
    {
     "data": {
      "text/html": [
       "<span class=\"tex2jax_ignore\"><div class=\"entities\" style=\"line-height: 2.5; direction: ltr\">After a \n",
       "<mark class=\"entity\" style=\"background: #bfe1d9; padding: 0.45em 0.6em; margin: 0 0.25em; line-height: 1; border-radius: 0.35em;\">\n",
       "    decades\n",
       "    <span style=\"font-size: 0.8em; font-weight: bold; line-height: 1; border-radius: 0.35em; vertical-align: middle; margin-left: 0.5rem\">DATE</span>\n",
       "</mark>\n",
       "-long pause, psychedelics are again being intensely investigated for treating a wide range of neuropsychiatric ailments including depression, anxiety, addiction, post-traumatic stress disorder, anorexia, and chronic pain syndromes. The classic serotonergic psychedelics psilocybin and lysergic acid diethylamide and nonclassic psychedelics \n",
       "<mark class=\"entity\" style=\"background: #e4e7d2; padding: 0.45em 0.6em; margin: 0 0.25em; line-height: 1; border-radius: 0.35em;\">\n",
       "    3,4-methylenedioxymethamphetamine\n",
       "    <span style=\"font-size: 0.8em; font-weight: bold; line-height: 1; border-radius: 0.35em; vertical-align: middle; margin-left: 0.5rem\">QUANTITY</span>\n",
       "</mark>\n",
       " and ketamine are increasingly appreciated as neuroplastogens given their potential to fundamentally alter mood and behavior well beyond the time window of measurable exposure. Imaging studies with psychedelics are also helping advance our understanding of neural networks and connectomics. This resurgence in psychedelic science and psychedelic-assisted therapy has potential significance for the fields of neurosurgery and neuro-oncology and their diverse and challenging patients, many of whom continue to have mental health issues and poor quality of life despite receiving state-of-the-art care. In this study, we review recent and ongoing clinical trials, the set and setting model of psychedelic-assisted therapy, potential risks and adverse events, proposed mechanisms of action, and provide a perspective on how the safe and evidence-based use of psychedelics could potentially benefit many patients, including those with brain tumors, pain syndromes, ruminative disorders, stroke, \n",
       "<mark class=\"entity\" style=\"background: #7aecec; padding: 0.45em 0.6em; margin: 0 0.25em; line-height: 1; border-radius: 0.35em;\">\n",
       "    SAH\n",
       "    <span style=\"font-size: 0.8em; font-weight: bold; line-height: 1; border-radius: 0.35em; vertical-align: middle; margin-left: 0.5rem\">ORG</span>\n",
       "</mark>\n",
       ", \n",
       "<mark class=\"entity\" style=\"background: #7aecec; padding: 0.45em 0.6em; margin: 0 0.25em; line-height: 1; border-radius: 0.35em;\">\n",
       "    TBI\n",
       "    <span style=\"font-size: 0.8em; font-weight: bold; line-height: 1; border-radius: 0.35em; vertical-align: middle; margin-left: 0.5rem\">ORG</span>\n",
       "</mark>\n",
       ", and movement disorders. By leveraging psychedelics' neuroplastic potential to rehabilitate the mind and brain, novel treatments may be possible for many of these patient populations, in some instances working synergistically with current treatments and in some using subpsychedelic doses that do not require mind-altering effects for efficacy. This review aims to encourage broader multidisciplinary collaboration across the neurosciences to explore and help realize the transdiagnostic healing potential of psychedelics.</div></span>"
      ],
      "text/plain": [
       "<IPython.core.display.HTML object>"
      ]
     },
     "metadata": {},
     "output_type": "display_data"
    }
   ],
   "source": [
    "nlp = spacy.load(\"en_core_web_sm\")\n",
    "doc = nlp(test)\n",
    "displacy.render(doc, style=\"ent\", jupyter=True)"
   ]
  },
  {
   "cell_type": "code",
   "execution_count": 48,
   "id": "4f6d9ad6-e93b-4987-ba3a-9122dd17795a",
   "metadata": {},
   "outputs": [
    {
     "data": {
      "text/html": [
       "<span class=\"tex2jax_ignore\"><div class=\"entities\" style=\"line-height: 2.5; direction: ltr\">After a \n",
       "<mark class=\"entity\" style=\"background: #bfe1d9; padding: 0.45em 0.6em; margin: 0 0.25em; line-height: 1; border-radius: 0.35em;\">\n",
       "    decades\n",
       "    <span style=\"font-size: 0.8em; font-weight: bold; line-height: 1; border-radius: 0.35em; vertical-align: middle; margin-left: 0.5rem\">DATE</span>\n",
       "</mark>\n",
       "-long pause, psychedelics are again being intensely investigated for treating a wide range of neuropsychiatric ailments including depression, anxiety, addiction, post-traumatic stress disorder, anorexia, and chronic pain syndromes. The classic serotonergic psychedelics psilocybin and lysergic acid diethylamide and nonclassic psychedelics \n",
       "<mark class=\"entity\" style=\"background: #e4e7d2; padding: 0.45em 0.6em; margin: 0 0.25em; line-height: 1; border-radius: 0.35em;\">\n",
       "    3,4\n",
       "    <span style=\"font-size: 0.8em; font-weight: bold; line-height: 1; border-radius: 0.35em; vertical-align: middle; margin-left: 0.5rem\">CARDINAL</span>\n",
       "</mark>\n",
       "-methylenedioxymethamphetamine and ketamine are increasingly appreciated as \n",
       "<mark class=\"entity\" style=\"background: #aa9cfc; padding: 0.45em 0.6em; margin: 0 0.25em; line-height: 1; border-radius: 0.35em;\">\n",
       "    neuroplastogens\n",
       "    <span style=\"font-size: 0.8em; font-weight: bold; line-height: 1; border-radius: 0.35em; vertical-align: middle; margin-left: 0.5rem\">PERSON</span>\n",
       "</mark>\n",
       " given their potential to fundamentally alter mood and behavior well beyond the time window of measurable exposure. Imaging studies with psychedelics are also helping advance our understanding of neural networks and \n",
       "<mark class=\"entity\" style=\"background: #f0d0ff; padding: 0.45em 0.6em; margin: 0 0.25em; line-height: 1; border-radius: 0.35em;\">\n",
       "    connectomics\n",
       "    <span style=\"font-size: 0.8em; font-weight: bold; line-height: 1; border-radius: 0.35em; vertical-align: middle; margin-left: 0.5rem\">WORK_OF_ART</span>\n",
       "</mark>\n",
       ". This resurgence in psychedelic science and psychedelic-assisted therapy has potential significance for the fields of neurosurgery and neuro-oncology and their diverse and challenging patients, many of whom continue to have mental health issues and poor quality of life despite receiving state-of-the-art care. In this study, we review recent and ongoing clinical trials, the set and setting model of psychedelic-assisted therapy, potential risks and adverse events, proposed mechanisms of action, and provide a perspective on how the safe and evidence-based use of psychedelics could potentially benefit many patients, including those with brain tumors, pain syndromes, ruminative disorders, stroke, \n",
       "<mark class=\"entity\" style=\"background: #7aecec; padding: 0.45em 0.6em; margin: 0 0.25em; line-height: 1; border-radius: 0.35em;\">\n",
       "    SAH\n",
       "    <span style=\"font-size: 0.8em; font-weight: bold; line-height: 1; border-radius: 0.35em; vertical-align: middle; margin-left: 0.5rem\">ORG</span>\n",
       "</mark>\n",
       ", TBI, and movement disorders. By leveraging psychedelics' neuroplastic potential to rehabilitate the mind and brain, novel treatments may be possible for many of these patient populations, in some instances working synergistically with current treatments and in some using subpsychedelic doses that do not require mind-altering effects for efficacy. This review aims to encourage broader multidisciplinary collaboration across the neurosciences to explore and help realize the transdiagnostic healing potential of psychedelics.</div></span>"
      ],
      "text/plain": [
       "<IPython.core.display.HTML object>"
      ]
     },
     "metadata": {},
     "output_type": "display_data"
    }
   ],
   "source": [
    "nlp = spacy.load(\"en_core_web_lg\")\n",
    "doc = nlp(test)\n",
    "displacy.render(doc, style=\"ent\", jupyter=True)"
   ]
  },
  {
   "cell_type": "markdown",
   "id": "8994db32-b284-4565-b573-0ee7c6e7372e",
   "metadata": {},
   "source": [
    "We can clearly see that neither small nor large spacy models was not able to catch any entities from the provided abstract correctly. It is not surprising since these are very generalized english models and therefore they are not traind on a specific set of biological data. Most likely this model has never seen anything like this abstract before. Moreover, as we can see below, our model doesn't even posess the labels that we want. Thus, we will explore some other models and the ways to customize a model according to our needs."
   ]
  },
  {
   "cell_type": "code",
   "execution_count": 27,
   "id": "2205b628-c2f6-4b90-a169-fb93d1e0b543",
   "metadata": {},
   "outputs": [
    {
     "name": "stdout",
     "output_type": "stream",
     "text": [
      "('CARDINAL', 'DATE', 'EVENT', 'FAC', 'GPE', 'LANGUAGE', 'LAW', 'LOC', 'MONEY', 'NORP', 'ORDINAL', 'ORG', 'PERCENT', 'PERSON', 'PRODUCT', 'QUANTITY', 'TIME', 'WORK_OF_ART')\n"
     ]
    }
   ],
   "source": [
    "for pipe_name in nlp.pipe_names:\n",
    "    if pipe_name == 'ner':\n",
    "        component = nlp.get_pipe(pipe_name)\n",
    "        if hasattr(component, \"labels\"):\n",
    "            print(component.labels)"
   ]
  },
  {
   "cell_type": "code",
   "execution_count": 49,
   "id": "e5a559fa-b99c-4091-bf88-d0d8856cc9e8",
   "metadata": {},
   "outputs": [
    {
     "data": {
      "text/html": [
       "<span class=\"tex2jax_ignore\"><div class=\"entities\" style=\"line-height: 2.5; direction: ltr\">After a decades-long pause, psychedelics are again being intensely investigated for treating a wide range of neuropsychiatric ailments including \n",
       "<mark class=\"entity\" style=\"background: #ddd; padding: 0.45em 0.6em; margin: 0 0.25em; line-height: 1; border-radius: 0.35em;\">\n",
       "    depression\n",
       "    <span style=\"font-size: 0.8em; font-weight: bold; line-height: 1; border-radius: 0.35em; vertical-align: middle; margin-left: 0.5rem\">DEPRESSIVE DISORDERS</span>\n",
       "</mark>\n",
       ", \n",
       "<mark class=\"entity\" style=\"background: #ddd; padding: 0.45em 0.6em; margin: 0 0.25em; line-height: 1; border-radius: 0.35em;\">\n",
       "    anxiety\n",
       "    <span style=\"font-size: 0.8em; font-weight: bold; line-height: 1; border-radius: 0.35em; vertical-align: middle; margin-left: 0.5rem\">ANXIETY DISORDERS</span>\n",
       "</mark>\n",
       ", \n",
       "<mark class=\"entity\" style=\"background: #ddd; padding: 0.45em 0.6em; margin: 0 0.25em; line-height: 1; border-radius: 0.35em;\">\n",
       "    addiction\n",
       "    <span style=\"font-size: 0.8em; font-weight: bold; line-height: 1; border-radius: 0.35em; vertical-align: middle; margin-left: 0.5rem\">SYMPTOMS</span>\n",
       "</mark>\n",
       ", \n",
       "<mark class=\"entity\" style=\"background: #ddd; padding: 0.45em 0.6em; margin: 0 0.25em; line-height: 1; border-radius: 0.35em;\">\n",
       "    post-traumatic stress disorder\n",
       "    <span style=\"font-size: 0.8em; font-weight: bold; line-height: 1; border-radius: 0.35em; vertical-align: middle; margin-left: 0.5rem\">TRAUMA AND STRESS RELATED DISORDERS</span>\n",
       "</mark>\n",
       ", \n",
       "<mark class=\"entity\" style=\"background: #ddd; padding: 0.45em 0.6em; margin: 0 0.25em; line-height: 1; border-radius: 0.35em;\">\n",
       "    anorexia\n",
       "    <span style=\"font-size: 0.8em; font-weight: bold; line-height: 1; border-radius: 0.35em; vertical-align: middle; margin-left: 0.5rem\">EATING DISORDERS</span>\n",
       "</mark>\n",
       ", and \n",
       "<mark class=\"entity\" style=\"background: #ddd; padding: 0.45em 0.6em; margin: 0 0.25em; line-height: 1; border-radius: 0.35em;\">\n",
       "    chronic pain\n",
       "    <span style=\"font-size: 0.8em; font-weight: bold; line-height: 1; border-radius: 0.35em; vertical-align: middle; margin-left: 0.5rem\">SOMATIC SYMPTOM RELATED DISORDERS</span>\n",
       "</mark>\n",
       " syndromes. The classic \n",
       "<mark class=\"entity\" style=\"background: #ddd; padding: 0.45em 0.6em; margin: 0 0.25em; line-height: 1; border-radius: 0.35em;\">\n",
       "    serotonergic psychedelics\n",
       "    <span style=\"font-size: 0.8em; font-weight: bold; line-height: 1; border-radius: 0.35em; vertical-align: middle; margin-left: 0.5rem\">PSYCHEDELIC DRUGS</span>\n",
       "</mark>\n",
       " \n",
       "<mark class=\"entity\" style=\"background: #ddd; padding: 0.45em 0.6em; margin: 0 0.25em; line-height: 1; border-radius: 0.35em;\">\n",
       "    psilocybin\n",
       "    <span style=\"font-size: 0.8em; font-weight: bold; line-height: 1; border-radius: 0.35em; vertical-align: middle; margin-left: 0.5rem\">PSYCHEDELIC DRUGS</span>\n",
       "</mark>\n",
       " and \n",
       "<mark class=\"entity\" style=\"background: #ddd; padding: 0.45em 0.6em; margin: 0 0.25em; line-height: 1; border-radius: 0.35em;\">\n",
       "    lysergic acid diethylamide\n",
       "    <span style=\"font-size: 0.8em; font-weight: bold; line-height: 1; border-radius: 0.35em; vertical-align: middle; margin-left: 0.5rem\">PSYCHEDELIC DRUGS</span>\n",
       "</mark>\n",
       " and nonclassic psychedelics \n",
       "<mark class=\"entity\" style=\"background: #ddd; padding: 0.45em 0.6em; margin: 0 0.25em; line-height: 1; border-radius: 0.35em;\">\n",
       "    3,4-methylenedioxymethamphetamine\n",
       "    <span style=\"font-size: 0.8em; font-weight: bold; line-height: 1; border-radius: 0.35em; vertical-align: middle; margin-left: 0.5rem\">PSYCHEDELIC DRUGS</span>\n",
       "</mark>\n",
       " and \n",
       "<mark class=\"entity\" style=\"background: #ddd; padding: 0.45em 0.6em; margin: 0 0.25em; line-height: 1; border-radius: 0.35em;\">\n",
       "    ketamine\n",
       "    <span style=\"font-size: 0.8em; font-weight: bold; line-height: 1; border-radius: 0.35em; vertical-align: middle; margin-left: 0.5rem\">PSYCHEDELIC DRUGS</span>\n",
       "</mark>\n",
       " are increasingly appreciated as neuroplastogens given their potential to fundamentally alter mood and behavior well beyond the time window of measurable exposure. Imaging studies with psychedelics are also helping advance our understanding of neural networks and connectomics. This resurgence in psychedelic science and psychedelic-assisted therapy has potential significance for the fields of neurosurgery and neuro-oncology and their diverse and challenging patients, many of whom continue to have mental health issues and poor quality of life despite receiving state-of-the-art care. In this study, we review recent and ongoing clinical trials, the set and setting model of psychedelic-assisted therapy, potential risks and adverse events, proposed mechanisms of action, and provide a perspective on how the safe and evidence-based use of psychedelics could potentially benefit many patients, including those with brain tumors, \n",
       "<mark class=\"entity\" style=\"background: #ddd; padding: 0.45em 0.6em; margin: 0 0.25em; line-height: 1; border-radius: 0.35em;\">\n",
       "    pain syndromes\n",
       "    <span style=\"font-size: 0.8em; font-weight: bold; line-height: 1; border-radius: 0.35em; vertical-align: middle; margin-left: 0.5rem\">SOMATIC SYMPTOM RELATED DISORDERS</span>\n",
       "</mark>\n",
       ", ruminative disorders, stroke, SAH, TBI, and movement disorders. By leveraging psychedelics' neuroplastic potential to rehabilitate the mind and brain, novel treatments may be possible for many of these patient populations, in some instances working synergistically with current treatments and in some using subpsychedelic doses that do not require mind-altering effects for efficacy. This review aims to encourage broader multidisciplinary collaboration across the neurosciences to explore and help realize the transdiagnostic healing potential of psychedelics.</div></span>"
      ],
      "text/plain": [
       "<IPython.core.display.HTML object>"
      ]
     },
     "metadata": {},
     "output_type": "display_data"
    }
   ],
   "source": [
    "nlp = spacy.load(\"psy_ner\")\n",
    "doc = nlp(test)\n",
    "displacy.render(doc, style=\"ent\", jupyter=True)"
   ]
  },
  {
   "cell_type": "markdown",
   "id": "ed255846-c623-4cc4-ab77-47d899bfa854",
   "metadata": {},
   "source": [
    "## Creating a custom model"
   ]
  },
  {
   "cell_type": "code",
   "execution_count": 58,
   "id": "e232a28a-b822-4606-b166-564dd427f2c9",
   "metadata": {},
   "outputs": [
    {
     "ename": "SyntaxError",
     "evalue": "invalid syntax (975125975.py, line 2)",
     "output_type": "error",
     "traceback": [
      "\u001b[1;36m  File \u001b[1;32m\"C:\\Users\\nadia\\AppData\\Local\\Temp\\ipykernel_12376\\975125975.py\"\u001b[1;36m, line \u001b[1;32m2\u001b[0m\n\u001b[1;33m    print(output)output = subprocess.check_output(\"python -m spacy init fill-config psy_ner/base_config.cfg psy_ner/config.cfg\", shell=True, text=True)\u001b[0m\n\u001b[1;37m                 ^\u001b[0m\n\u001b[1;31mSyntaxError\u001b[0m\u001b[1;31m:\u001b[0m invalid syntax\n"
     ]
    }
   ],
   "source": [
    "output = subprocess.check_output(\"python -m spacy train psy_ner/config.cfg --output ./ --paths.train data/train_data_v3.spacy --paths.dev data/test_data_v3.spacy\", shell=True, text=True)\n",
    "print(output)output = subprocess.check_output(\"python -m spacy init fill-config psy_ner/base_config.cfg psy_ner/config.cfg\", shell=True, text=True)\n",
    "print(output)"
   ]
  },
  {
   "cell_type": "code",
   "execution_count": 58,
   "id": "f62a2d7b",
   "metadata": {},
   "outputs": [
    {
     "ename": "SyntaxError",
     "evalue": "invalid syntax (975125975.py, line 2)",
     "output_type": "error",
     "traceback": [
      "\u001b[1;36m  File \u001b[1;32m\"C:\\Users\\nadia\\AppData\\Local\\Temp\\ipykernel_12376\\975125975.py\"\u001b[1;36m, line \u001b[1;32m2\u001b[0m\n\u001b[1;33m    print(output)output = subprocess.check_output(\"python -m spacy init fill-config psy_ner/base_config.cfg psy_ner/config.cfg\", shell=True, text=True)\u001b[0m\n\u001b[1;37m                 ^\u001b[0m\n\u001b[1;31mSyntaxError\u001b[0m\u001b[1;31m:\u001b[0m invalid syntax\n"
     ]
    }
   ],
   "source": [
    "output = subprocess.check_output(\"python -m spacy train psy_ner/config.cfg --output ./ --paths.train data/train_data_v3.spacy --paths.dev data/test_data_v3.spacy\", shell=True, text=True)\n",
    "print(output)output = subprocess.check_output(\"python -m spacy init fill-config psy_ner/base_config.cfg psy_ner/config.cfg\", shell=True, text=True)\n",
    "print(output)"
   ]
  },
  {
   "cell_type": "code",
   "execution_count": 51,
   "id": "243abb2d-35bc-4b02-9666-ae710e0eee7f",
   "metadata": {},
   "outputs": [
    {
     "data": {
      "text/plain": [
       "0"
      ]
     },
     "execution_count": 51,
     "metadata": {},
     "output_type": "execute_result"
    }
   ],
   "source": [
    "os.system(\"python -m spacy init fill-config psy_ner/base_config.cfg psy_ner/config.cfg\")"
   ]
  },
  {
   "cell_type": "code",
   "execution_count": null,
   "id": "f07682a2-0589-4724-993d-4298807fa13c",
   "metadata": {},
   "outputs": [],
   "source": [
    "nlp.add_pipe(\"ner\", name=\"psy_ner\",before=\"\")"
   ]
  }
 ],
 "metadata": {
  "kernelspec": {
   "display_name": "Python 3 (ipykernel)",
   "language": "python",
   "name": "python3"
  },
  "language_info": {
   "codemirror_mode": {
    "name": "ipython",
    "version": 3
   },
   "file_extension": ".py",
   "mimetype": "text/x-python",
   "name": "python",
   "nbconvert_exporter": "python",
   "pygments_lexer": "ipython3",
   "version": "3.9.13"
  }
 },
 "nbformat": 4,
 "nbformat_minor": 5
}
