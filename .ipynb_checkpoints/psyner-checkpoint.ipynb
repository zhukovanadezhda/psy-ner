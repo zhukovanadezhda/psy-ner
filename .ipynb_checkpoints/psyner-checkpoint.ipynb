{
 "cells": [
  {
   "cell_type": "markdown",
   "id": "b1a8a69f-ea3e-4581-a63e-e8fac2ae50b4",
   "metadata": {},
   "source": [
    "# PsyNer project"
   ]
  },
  {
   "cell_type": "markdown",
   "id": "fab1b4a6-4b8a-4493-9a32-3903c5fd8a68",
   "metadata": {},
   "source": [
    "## Installing all necessary libraries and functionalities"
   ]
  },
  {
   "cell_type": "code",
   "execution_count": 8,
   "id": "93a3e167-3b97-445f-9150-026576bd7a35",
   "metadata": {},
   "outputs": [
    {
     "name": "stdout",
     "output_type": "stream",
     "text": [
      "Defaulting to user installation because normal site-packages is not writeable\n",
      "Requirement already satisfied: spacy in c:\\users\\nadia\\appdata\\roaming\\python\\python39\\site-packages (3.5.1)\n",
      "Requirement already satisfied: packaging>=20.0 in c:\\users\\nadia\\anaconda3\\lib\\site-packages (from spacy) (21.3)\n",
      "Requirement already satisfied: requests<3.0.0,>=2.13.0 in c:\\users\\nadia\\anaconda3\\lib\\site-packages (from spacy) (2.28.1)\n",
      "Requirement already satisfied: spacy-legacy<3.1.0,>=3.0.11 in c:\\users\\nadia\\appdata\\roaming\\python\\python39\\site-packages (from spacy) (3.0.12)\n",
      "Requirement already satisfied: pathy>=0.10.0 in c:\\users\\nadia\\appdata\\roaming\\python\\python39\\site-packages (from spacy) (0.10.1)\n",
      "Requirement already satisfied: preshed<3.1.0,>=3.0.2 in c:\\users\\nadia\\appdata\\roaming\\python\\python39\\site-packages (from spacy) (3.0.8)\n",
      "Requirement already satisfied: srsly<3.0.0,>=2.4.3 in c:\\users\\nadia\\appdata\\roaming\\python\\python39\\site-packages (from spacy) (2.4.6)\n",
      "Requirement already satisfied: tqdm<5.0.0,>=4.38.0 in c:\\users\\nadia\\anaconda3\\lib\\site-packages (from spacy) (4.64.1)\n",
      "Requirement already satisfied: thinc<8.2.0,>=8.1.8 in c:\\users\\nadia\\appdata\\roaming\\python\\python39\\site-packages (from spacy) (8.1.9)\n",
      "Requirement already satisfied: numpy>=1.15.0 in c:\\users\\nadia\\anaconda3\\lib\\site-packages (from spacy) (1.21.5)\n",
      "Requirement already satisfied: spacy-loggers<2.0.0,>=1.0.0 in c:\\users\\nadia\\appdata\\roaming\\python\\python39\\site-packages (from spacy) (1.0.4)\n",
      "Requirement already satisfied: smart-open<7.0.0,>=5.2.1 in c:\\users\\nadia\\anaconda3\\lib\\site-packages (from spacy) (5.2.1)\n",
      "Requirement already satisfied: setuptools in c:\\users\\nadia\\anaconda3\\lib\\site-packages (from spacy) (63.4.1)\n",
      "Requirement already satisfied: murmurhash<1.1.0,>=0.28.0 in c:\\users\\nadia\\appdata\\roaming\\python\\python39\\site-packages (from spacy) (1.0.9)\n",
      "Requirement already satisfied: wasabi<1.2.0,>=0.9.1 in c:\\users\\nadia\\appdata\\roaming\\python\\python39\\site-packages (from spacy) (1.1.1)\n",
      "Requirement already satisfied: pydantic!=1.8,!=1.8.1,<1.11.0,>=1.7.4 in c:\\users\\nadia\\appdata\\roaming\\python\\python39\\site-packages (from spacy) (1.10.7)\n",
      "Requirement already satisfied: langcodes<4.0.0,>=3.2.0 in c:\\users\\nadia\\appdata\\roaming\\python\\python39\\site-packages (from spacy) (3.3.0)\n",
      "Requirement already satisfied: catalogue<2.1.0,>=2.0.6 in c:\\users\\nadia\\appdata\\roaming\\python\\python39\\site-packages (from spacy) (2.0.8)\n",
      "Requirement already satisfied: jinja2 in c:\\users\\nadia\\anaconda3\\lib\\site-packages (from spacy) (2.11.3)\n",
      "Requirement already satisfied: cymem<2.1.0,>=2.0.2 in c:\\users\\nadia\\appdata\\roaming\\python\\python39\\site-packages (from spacy) (2.0.7)\n",
      "Requirement already satisfied: typer<0.8.0,>=0.3.0 in c:\\users\\nadia\\appdata\\roaming\\python\\python39\\site-packages (from spacy) (0.7.0)\n",
      "Requirement already satisfied: pyparsing!=3.0.5,>=2.0.2 in c:\\users\\nadia\\anaconda3\\lib\\site-packages (from packaging>=20.0->spacy) (3.0.9)\n",
      "Requirement already satisfied: typing-extensions>=4.2.0 in c:\\users\\nadia\\anaconda3\\lib\\site-packages (from pydantic!=1.8,!=1.8.1,<1.11.0,>=1.7.4->spacy) (4.3.0)\n",
      "Requirement already satisfied: idna<4,>=2.5 in c:\\users\\nadia\\anaconda3\\lib\\site-packages (from requests<3.0.0,>=2.13.0->spacy) (3.3)\n",
      "Requirement already satisfied: charset-normalizer<3,>=2 in c:\\users\\nadia\\anaconda3\\lib\\site-packages (from requests<3.0.0,>=2.13.0->spacy) (2.0.4)\n",
      "Requirement already satisfied: certifi>=2017.4.17 in c:\\users\\nadia\\anaconda3\\lib\\site-packages (from requests<3.0.0,>=2.13.0->spacy) (2022.9.14)\n",
      "Requirement already satisfied: urllib3<1.27,>=1.21.1 in c:\\users\\nadia\\anaconda3\\lib\\site-packages (from requests<3.0.0,>=2.13.0->spacy) (1.26.11)\n",
      "Requirement already satisfied: confection<1.0.0,>=0.0.1 in c:\\users\\nadia\\appdata\\roaming\\python\\python39\\site-packages (from thinc<8.2.0,>=8.1.8->spacy) (0.0.4)\n",
      "Requirement already satisfied: blis<0.8.0,>=0.7.8 in c:\\users\\nadia\\appdata\\roaming\\python\\python39\\site-packages (from thinc<8.2.0,>=8.1.8->spacy) (0.7.9)\n",
      "Requirement already satisfied: colorama in c:\\users\\nadia\\appdata\\roaming\\python\\python39\\site-packages (from tqdm<5.0.0,>=4.38.0->spacy) (0.4.6)\n",
      "Requirement already satisfied: click<9.0.0,>=7.1.1 in c:\\users\\nadia\\anaconda3\\lib\\site-packages (from typer<0.8.0,>=0.3.0->spacy) (8.0.4)\n",
      "Requirement already satisfied: MarkupSafe>=0.23 in c:\\users\\nadia\\anaconda3\\lib\\site-packages (from jinja2->spacy) (2.0.1)\n",
      "Note: you may need to restart the kernel to use updated packages.\n"
     ]
    }
   ],
   "source": [
    "pip install spacy"
   ]
  },
  {
   "cell_type": "code",
   "execution_count": 11,
   "id": "34a7a4f7-d943-4dee-aaa2-b4d97f8c0f02",
   "metadata": {},
   "outputs": [
    {
     "name": "stdout",
     "output_type": "stream",
     "text": [
      "Defaulting to user installation because normal site-packages is not writeable\n",
      "Collecting en-core-web-sm==3.5.0\n",
      "  Downloading https://github.com/explosion/spacy-models/releases/download/en_core_web_sm-3.5.0/en_core_web_sm-3.5.0-py3-none-any.whl (12.8 MB)\n",
      "     ---------------------------------------- 12.8/12.8 MB 3.5 MB/s eta 0:00:00\n",
      "Requirement already satisfied: spacy<3.6.0,>=3.5.0 in c:\\users\\nadia\\appdata\\roaming\\python\\python39\\site-packages (from en-core-web-sm==3.5.0) (3.5.1)\n",
      "Requirement already satisfied: spacy-legacy<3.1.0,>=3.0.11 in c:\\users\\nadia\\appdata\\roaming\\python\\python39\\site-packages (from spacy<3.6.0,>=3.5.0->en-core-web-sm==3.5.0) (3.0.12)\n",
      "Requirement already satisfied: murmurhash<1.1.0,>=0.28.0 in c:\\users\\nadia\\appdata\\roaming\\python\\python39\\site-packages (from spacy<3.6.0,>=3.5.0->en-core-web-sm==3.5.0) (1.0.9)\n",
      "Requirement already satisfied: cymem<2.1.0,>=2.0.2 in c:\\users\\nadia\\appdata\\roaming\\python\\python39\\site-packages (from spacy<3.6.0,>=3.5.0->en-core-web-sm==3.5.0) (2.0.7)\n",
      "Requirement already satisfied: catalogue<2.1.0,>=2.0.6 in c:\\users\\nadia\\appdata\\roaming\\python\\python39\\site-packages (from spacy<3.6.0,>=3.5.0->en-core-web-sm==3.5.0) (2.0.8)\n",
      "Requirement already satisfied: preshed<3.1.0,>=3.0.2 in c:\\users\\nadia\\appdata\\roaming\\python\\python39\\site-packages (from spacy<3.6.0,>=3.5.0->en-core-web-sm==3.5.0) (3.0.8)\n",
      "Requirement already satisfied: pydantic!=1.8,!=1.8.1,<1.11.0,>=1.7.4 in c:\\users\\nadia\\appdata\\roaming\\python\\python39\\site-packages (from spacy<3.6.0,>=3.5.0->en-core-web-sm==3.5.0) (1.10.7)\n",
      "Requirement already satisfied: wasabi<1.2.0,>=0.9.1 in c:\\users\\nadia\\appdata\\roaming\\python\\python39\\site-packages (from spacy<3.6.0,>=3.5.0->en-core-web-sm==3.5.0) (1.1.1)\n",
      "Requirement already satisfied: tqdm<5.0.0,>=4.38.0 in c:\\users\\nadia\\anaconda3\\lib\\site-packages (from spacy<3.6.0,>=3.5.0->en-core-web-sm==3.5.0) (4.64.1)\n",
      "Requirement already satisfied: requests<3.0.0,>=2.13.0 in c:\\users\\nadia\\anaconda3\\lib\\site-packages (from spacy<3.6.0,>=3.5.0->en-core-web-sm==3.5.0) (2.28.1)\n",
      "Requirement already satisfied: srsly<3.0.0,>=2.4.3 in c:\\users\\nadia\\appdata\\roaming\\python\\python39\\site-packages (from spacy<3.6.0,>=3.5.0->en-core-web-sm==3.5.0) (2.4.6)\n",
      "Requirement already satisfied: setuptools in c:\\users\\nadia\\anaconda3\\lib\\site-packages (from spacy<3.6.0,>=3.5.0->en-core-web-sm==3.5.0) (63.4.1)\n",
      "Requirement already satisfied: jinja2 in c:\\users\\nadia\\anaconda3\\lib\\site-packages (from spacy<3.6.0,>=3.5.0->en-core-web-sm==3.5.0) (2.11.3)\n",
      "Requirement already satisfied: pathy>=0.10.0 in c:\\users\\nadia\\appdata\\roaming\\python\\python39\\site-packages (from spacy<3.6.0,>=3.5.0->en-core-web-sm==3.5.0) (0.10.1)\n",
      "Requirement already satisfied: spacy-loggers<2.0.0,>=1.0.0 in c:\\users\\nadia\\appdata\\roaming\\python\\python39\\site-packages (from spacy<3.6.0,>=3.5.0->en-core-web-sm==3.5.0) (1.0.4)\n",
      "Requirement already satisfied: packaging>=20.0 in c:\\users\\nadia\\anaconda3\\lib\\site-packages (from spacy<3.6.0,>=3.5.0->en-core-web-sm==3.5.0) (21.3)\n",
      "Requirement already satisfied: typer<0.8.0,>=0.3.0 in c:\\users\\nadia\\appdata\\roaming\\python\\python39\\site-packages (from spacy<3.6.0,>=3.5.0->en-core-web-sm==3.5.0) (0.7.0)\n",
      "Requirement already satisfied: thinc<8.2.0,>=8.1.8 in c:\\users\\nadia\\appdata\\roaming\\python\\python39\\site-packages (from spacy<3.6.0,>=3.5.0->en-core-web-sm==3.5.0) (8.1.9)\n",
      "Requirement already satisfied: numpy>=1.15.0 in c:\\users\\nadia\\anaconda3\\lib\\site-packages (from spacy<3.6.0,>=3.5.0->en-core-web-sm==3.5.0) (1.21.5)\n",
      "Requirement already satisfied: smart-open<7.0.0,>=5.2.1 in c:\\users\\nadia\\anaconda3\\lib\\site-packages (from spacy<3.6.0,>=3.5.0->en-core-web-sm==3.5.0) (5.2.1)\n",
      "Requirement already satisfied: langcodes<4.0.0,>=3.2.0 in c:\\users\\nadia\\appdata\\roaming\\python\\python39\\site-packages (from spacy<3.6.0,>=3.5.0->en-core-web-sm==3.5.0) (3.3.0)\n",
      "Requirement already satisfied: pyparsing!=3.0.5,>=2.0.2 in c:\\users\\nadia\\anaconda3\\lib\\site-packages (from packaging>=20.0->spacy<3.6.0,>=3.5.0->en-core-web-sm==3.5.0) (3.0.9)\n",
      "Requirement already satisfied: typing-extensions>=4.2.0 in c:\\users\\nadia\\anaconda3\\lib\\site-packages (from pydantic!=1.8,!=1.8.1,<1.11.0,>=1.7.4->spacy<3.6.0,>=3.5.0->en-core-web-sm==3.5.0) (4.3.0)\n",
      "Requirement already satisfied: charset-normalizer<3,>=2 in c:\\users\\nadia\\anaconda3\\lib\\site-packages (from requests<3.0.0,>=2.13.0->spacy<3.6.0,>=3.5.0->en-core-web-sm==3.5.0) (2.0.4)\n",
      "Requirement already satisfied: certifi>=2017.4.17 in c:\\users\\nadia\\anaconda3\\lib\\site-packages (from requests<3.0.0,>=2.13.0->spacy<3.6.0,>=3.5.0->en-core-web-sm==3.5.0) (2022.9.14)\n",
      "Requirement already satisfied: idna<4,>=2.5 in c:\\users\\nadia\\anaconda3\\lib\\site-packages (from requests<3.0.0,>=2.13.0->spacy<3.6.0,>=3.5.0->en-core-web-sm==3.5.0) (3.3)\n",
      "Requirement already satisfied: urllib3<1.27,>=1.21.1 in c:\\users\\nadia\\anaconda3\\lib\\site-packages (from requests<3.0.0,>=2.13.0->spacy<3.6.0,>=3.5.0->en-core-web-sm==3.5.0) (1.26.11)\n",
      "Requirement already satisfied: blis<0.8.0,>=0.7.8 in c:\\users\\nadia\\appdata\\roaming\\python\\python39\\site-packages (from thinc<8.2.0,>=8.1.8->spacy<3.6.0,>=3.5.0->en-core-web-sm==3.5.0) (0.7.9)\n",
      "Requirement already satisfied: confection<1.0.0,>=0.0.1 in c:\\users\\nadia\\appdata\\roaming\\python\\python39\\site-packages (from thinc<8.2.0,>=8.1.8->spacy<3.6.0,>=3.5.0->en-core-web-sm==3.5.0) (0.0.4)\n",
      "Requirement already satisfied: colorama in c:\\users\\nadia\\appdata\\roaming\\python\\python39\\site-packages (from tqdm<5.0.0,>=4.38.0->spacy<3.6.0,>=3.5.0->en-core-web-sm==3.5.0) (0.4.6)\n",
      "Requirement already satisfied: click<9.0.0,>=7.1.1 in c:\\users\\nadia\\anaconda3\\lib\\site-packages (from typer<0.8.0,>=0.3.0->spacy<3.6.0,>=3.5.0->en-core-web-sm==3.5.0) (8.0.4)\n",
      "Requirement already satisfied: MarkupSafe>=0.23 in c:\\users\\nadia\\anaconda3\\lib\\site-packages (from jinja2->spacy<3.6.0,>=3.5.0->en-core-web-sm==3.5.0) (2.0.1)\n",
      "Installing collected packages: en-core-web-sm\n",
      "Successfully installed en-core-web-sm-3.5.0\n",
      "\u001b[38;5;2m[+] Download and installation successful\u001b[0m\n",
      "You can now load the package via spacy.load('en_core_web_sm')\n"
     ]
    }
   ],
   "source": [
    "!python -m spacy download en_core_web_sm"
   ]
  },
  {
   "cell_type": "code",
   "execution_count": 12,
   "id": "5e793504-c35a-4cca-9073-9fe92e735a1c",
   "metadata": {},
   "outputs": [
    {
     "name": "stdout",
     "output_type": "stream",
     "text": [
      "Defaulting to user installation because normal site-packages is not writeable\n",
      "Collecting en-core-web-lg==3.5.0\n",
      "  Downloading https://github.com/explosion/spacy-models/releases/download/en_core_web_lg-3.5.0/en_core_web_lg-3.5.0-py3-none-any.whl (587.7 MB)\n",
      "     ---------------------------------------- 587.7/587.7 MB ? eta 0:00:00\n",
      "Requirement already satisfied: spacy<3.6.0,>=3.5.0 in c:\\users\\nadia\\appdata\\roaming\\python\\python39\\site-packages (from en-core-web-lg==3.5.0) (3.5.1)\n",
      "Requirement already satisfied: jinja2 in c:\\users\\nadia\\anaconda3\\lib\\site-packages (from spacy<3.6.0,>=3.5.0->en-core-web-lg==3.5.0) (2.11.3)\n",
      "Requirement already satisfied: murmurhash<1.1.0,>=0.28.0 in c:\\users\\nadia\\appdata\\roaming\\python\\python39\\site-packages (from spacy<3.6.0,>=3.5.0->en-core-web-lg==3.5.0) (1.0.9)\n",
      "Requirement already satisfied: cymem<2.1.0,>=2.0.2 in c:\\users\\nadia\\appdata\\roaming\\python\\python39\\site-packages (from spacy<3.6.0,>=3.5.0->en-core-web-lg==3.5.0) (2.0.7)\n",
      "Requirement already satisfied: srsly<3.0.0,>=2.4.3 in c:\\users\\nadia\\appdata\\roaming\\python\\python39\\site-packages (from spacy<3.6.0,>=3.5.0->en-core-web-lg==3.5.0) (2.4.6)\n",
      "Requirement already satisfied: tqdm<5.0.0,>=4.38.0 in c:\\users\\nadia\\anaconda3\\lib\\site-packages (from spacy<3.6.0,>=3.5.0->en-core-web-lg==3.5.0) (4.64.1)\n",
      "Requirement already satisfied: catalogue<2.1.0,>=2.0.6 in c:\\users\\nadia\\appdata\\roaming\\python\\python39\\site-packages (from spacy<3.6.0,>=3.5.0->en-core-web-lg==3.5.0) (2.0.8)\n",
      "Requirement already satisfied: spacy-legacy<3.1.0,>=3.0.11 in c:\\users\\nadia\\appdata\\roaming\\python\\python39\\site-packages (from spacy<3.6.0,>=3.5.0->en-core-web-lg==3.5.0) (3.0.12)\n",
      "Requirement already satisfied: spacy-loggers<2.0.0,>=1.0.0 in c:\\users\\nadia\\appdata\\roaming\\python\\python39\\site-packages (from spacy<3.6.0,>=3.5.0->en-core-web-lg==3.5.0) (1.0.4)\n",
      "Requirement already satisfied: wasabi<1.2.0,>=0.9.1 in c:\\users\\nadia\\appdata\\roaming\\python\\python39\\site-packages (from spacy<3.6.0,>=3.5.0->en-core-web-lg==3.5.0) (1.1.1)\n",
      "Requirement already satisfied: typer<0.8.0,>=0.3.0 in c:\\users\\nadia\\appdata\\roaming\\python\\python39\\site-packages (from spacy<3.6.0,>=3.5.0->en-core-web-lg==3.5.0) (0.7.0)\n",
      "Requirement already satisfied: pydantic!=1.8,!=1.8.1,<1.11.0,>=1.7.4 in c:\\users\\nadia\\appdata\\roaming\\python\\python39\\site-packages (from spacy<3.6.0,>=3.5.0->en-core-web-lg==3.5.0) (1.10.7)\n",
      "Requirement already satisfied: preshed<3.1.0,>=3.0.2 in c:\\users\\nadia\\appdata\\roaming\\python\\python39\\site-packages (from spacy<3.6.0,>=3.5.0->en-core-web-lg==3.5.0) (3.0.8)\n",
      "Requirement already satisfied: thinc<8.2.0,>=8.1.8 in c:\\users\\nadia\\appdata\\roaming\\python\\python39\\site-packages (from spacy<3.6.0,>=3.5.0->en-core-web-lg==3.5.0) (8.1.9)\n",
      "Requirement already satisfied: pathy>=0.10.0 in c:\\users\\nadia\\appdata\\roaming\\python\\python39\\site-packages (from spacy<3.6.0,>=3.5.0->en-core-web-lg==3.5.0) (0.10.1)\n",
      "Requirement already satisfied: smart-open<7.0.0,>=5.2.1 in c:\\users\\nadia\\anaconda3\\lib\\site-packages (from spacy<3.6.0,>=3.5.0->en-core-web-lg==3.5.0) (5.2.1)\n",
      "Requirement already satisfied: setuptools in c:\\users\\nadia\\anaconda3\\lib\\site-packages (from spacy<3.6.0,>=3.5.0->en-core-web-lg==3.5.0) (63.4.1)\n",
      "Requirement already satisfied: langcodes<4.0.0,>=3.2.0 in c:\\users\\nadia\\appdata\\roaming\\python\\python39\\site-packages (from spacy<3.6.0,>=3.5.0->en-core-web-lg==3.5.0) (3.3.0)\n",
      "Requirement already satisfied: numpy>=1.15.0 in c:\\users\\nadia\\anaconda3\\lib\\site-packages (from spacy<3.6.0,>=3.5.0->en-core-web-lg==3.5.0) (1.21.5)\n",
      "Requirement already satisfied: requests<3.0.0,>=2.13.0 in c:\\users\\nadia\\anaconda3\\lib\\site-packages (from spacy<3.6.0,>=3.5.0->en-core-web-lg==3.5.0) (2.28.1)\n",
      "Requirement already satisfied: packaging>=20.0 in c:\\users\\nadia\\anaconda3\\lib\\site-packages (from spacy<3.6.0,>=3.5.0->en-core-web-lg==3.5.0) (21.3)\n",
      "Requirement already satisfied: pyparsing!=3.0.5,>=2.0.2 in c:\\users\\nadia\\anaconda3\\lib\\site-packages (from packaging>=20.0->spacy<3.6.0,>=3.5.0->en-core-web-lg==3.5.0) (3.0.9)\n",
      "Requirement already satisfied: typing-extensions>=4.2.0 in c:\\users\\nadia\\anaconda3\\lib\\site-packages (from pydantic!=1.8,!=1.8.1,<1.11.0,>=1.7.4->spacy<3.6.0,>=3.5.0->en-core-web-lg==3.5.0) (4.3.0)\n",
      "Requirement already satisfied: urllib3<1.27,>=1.21.1 in c:\\users\\nadia\\anaconda3\\lib\\site-packages (from requests<3.0.0,>=2.13.0->spacy<3.6.0,>=3.5.0->en-core-web-lg==3.5.0) (1.26.11)\n",
      "Requirement already satisfied: idna<4,>=2.5 in c:\\users\\nadia\\anaconda3\\lib\\site-packages (from requests<3.0.0,>=2.13.0->spacy<3.6.0,>=3.5.0->en-core-web-lg==3.5.0) (3.3)\n",
      "Requirement already satisfied: certifi>=2017.4.17 in c:\\users\\nadia\\anaconda3\\lib\\site-packages (from requests<3.0.0,>=2.13.0->spacy<3.6.0,>=3.5.0->en-core-web-lg==3.5.0) (2022.9.14)\n",
      "Requirement already satisfied: charset-normalizer<3,>=2 in c:\\users\\nadia\\anaconda3\\lib\\site-packages (from requests<3.0.0,>=2.13.0->spacy<3.6.0,>=3.5.0->en-core-web-lg==3.5.0) (2.0.4)\n",
      "Requirement already satisfied: blis<0.8.0,>=0.7.8 in c:\\users\\nadia\\appdata\\roaming\\python\\python39\\site-packages (from thinc<8.2.0,>=8.1.8->spacy<3.6.0,>=3.5.0->en-core-web-lg==3.5.0) (0.7.9)\n",
      "Requirement already satisfied: confection<1.0.0,>=0.0.1 in c:\\users\\nadia\\appdata\\roaming\\python\\python39\\site-packages (from thinc<8.2.0,>=8.1.8->spacy<3.6.0,>=3.5.0->en-core-web-lg==3.5.0) (0.0.4)\n",
      "Requirement already satisfied: colorama in c:\\users\\nadia\\appdata\\roaming\\python\\python39\\site-packages (from tqdm<5.0.0,>=4.38.0->spacy<3.6.0,>=3.5.0->en-core-web-lg==3.5.0) (0.4.6)\n",
      "Requirement already satisfied: click<9.0.0,>=7.1.1 in c:\\users\\nadia\\anaconda3\\lib\\site-packages (from typer<0.8.0,>=0.3.0->spacy<3.6.0,>=3.5.0->en-core-web-lg==3.5.0) (8.0.4)\n",
      "Requirement already satisfied: MarkupSafe>=0.23 in c:\\users\\nadia\\anaconda3\\lib\\site-packages (from jinja2->spacy<3.6.0,>=3.5.0->en-core-web-lg==3.5.0) (2.0.1)\n",
      "Installing collected packages: en-core-web-lg\n",
      "Successfully installed en-core-web-lg-3.5.0\n",
      "\u001b[38;5;2m[+] Download and installation successful\u001b[0m\n",
      "You can now load the package via spacy.load('en_core_web_lg')\n"
     ]
    }
   ],
   "source": [
    "!python -m spacy download en_core_web_lg"
   ]
  },
  {
   "cell_type": "markdown",
   "id": "9d6ba58b-85a7-4af7-9f98-a20f7e7be844",
   "metadata": {},
   "source": [
    "## Generalized spaCy models"
   ]
  },
  {
   "cell_type": "code",
   "execution_count": 14,
   "id": "d966d014-90a9-4946-ab13-f9ff0ebd378b",
   "metadata": {},
   "outputs": [],
   "source": [
    "import spacy"
   ]
  },
  {
   "cell_type": "code",
   "execution_count": 15,
   "id": "17392fd4-54e9-4e1d-b54c-67bbef1f1b39",
   "metadata": {},
   "outputs": [],
   "source": [
    "test=\"After a decades-long pause, psychedelics are again being intensely investigated for treating a wide range of neuropsychiatric ailments including depression, anxiety, addiction, post-traumatic stress disorder, anorexia, and chronic pain syndromes. The classic serotonergic psychedelics psilocybin and lysergic acid diethylamide and nonclassic psychedelics 3,4-methylenedioxymethamphetamine and ketamine are increasingly appreciated as neuroplastogens given their potential to fundamentally alter mood and behavior well beyond the time window of measurable exposure. Imaging studies with psychedelics are also helping advance our understanding of neural networks and connectomics. This resurgence in psychedelic science and psychedelic-assisted therapy has potential significance for the fields of neurosurgery and neuro-oncology and their diverse and challenging patients, many of whom continue to have mental health issues and poor quality of life despite receiving state-of-the-art care. In this study, we review recent and ongoing clinical trials, the set and setting model of psychedelic-assisted therapy, potential risks and adverse events, proposed mechanisms of action, and provide a perspective on how the safe and evidence-based use of psychedelics could potentially benefit many patients, including those with brain tumors, pain syndromes, ruminative disorders, stroke, SAH, TBI, and movement disorders. By leveraging psychedelics' neuroplastic potential to rehabilitate the mind and brain, novel treatments may be possible for many of these patient populations, in some instances working synergistically with current treatments and in some using subpsychedelic doses that do not require mind-altering effects for efficacy. This review aims to encourage broader multidisciplinary collaboration across the neurosciences to explore and help realize the transdiagnostic healing potential of psychedelics.\""
   ]
  },
  {
   "cell_type": "code",
   "execution_count": 16,
   "id": "3299ed5e-a322-4ce2-819b-cba66a48affa",
   "metadata": {},
   "outputs": [
    {
     "name": "stdout",
     "output_type": "stream",
     "text": [
      "decades DATE\n",
      "3,4-methylenedioxymethamphetamine QUANTITY\n",
      "SAH ORG\n",
      "TBI ORG\n"
     ]
    }
   ],
   "source": [
    "nlp = spacy.load(\"en_core_web_sm\")\n",
    "doc = nlp(test)\n",
    "for ent in doc.ents:\n",
    "    print (ent.text, ent.label_)"
   ]
  },
  {
   "cell_type": "code",
   "execution_count": 17,
   "id": "4f6d9ad6-e93b-4987-ba3a-9122dd17795a",
   "metadata": {},
   "outputs": [
    {
     "name": "stdout",
     "output_type": "stream",
     "text": [
      "decades DATE\n",
      "3,4 CARDINAL\n",
      "neuroplastogens PERSON\n",
      "connectomics WORK_OF_ART\n",
      "SAH ORG\n"
     ]
    }
   ],
   "source": [
    "nlp = spacy.load(\"en_core_web_lg\")\n",
    "doc = nlp(test)\n",
    "for ent in doc.ents:\n",
    "    print (ent.text, ent.label_)"
   ]
  },
  {
   "cell_type": "markdown",
   "id": "8994db32-b284-4565-b573-0ee7c6e7372e",
   "metadata": {},
   "source": [
    "We can clearly see that neither small nor large spacy models was not able to catch any entities from the provided abstract correctly. It is not surprising since these are very generalized english models and therefore they are not traind on a specific set of biological data. Most likely this model has never seen anything like this abstract before. Moreover, as we can see below, our model doesn't even posess the labels that we want. Thus, we will explore some other models and the ways to customize a model according to our needs."
   ]
  },
  {
   "cell_type": "code",
   "execution_count": 27,
   "id": "2205b628-c2f6-4b90-a169-fb93d1e0b543",
   "metadata": {},
   "outputs": [
    {
     "name": "stdout",
     "output_type": "stream",
     "text": [
      "('CARDINAL', 'DATE', 'EVENT', 'FAC', 'GPE', 'LANGUAGE', 'LAW', 'LOC', 'MONEY', 'NORP', 'ORDINAL', 'ORG', 'PERCENT', 'PERSON', 'PRODUCT', 'QUANTITY', 'TIME', 'WORK_OF_ART')\n"
     ]
    }
   ],
   "source": [
    "for pipe_name in nlp.pipe_names:\n",
    "    if pipe_name == 'ner':\n",
    "        component = nlp.get_pipe(pipe_name)\n",
    "        if hasattr(component, \"labels\"):\n",
    "            print(component.labels)"
   ]
  },
  {
   "cell_type": "markdown",
   "id": "fec7166b-3367-4f7a-9829-235caee38c14",
   "metadata": {},
   "source": [
    "CARDINAL: Numerals that do not fall under another type\n",
    "DATE: Absolute or relative dates or periods\n",
    "EVENT: Named hurricanes, battles, wars, sports events, etc.\n",
    "FAC: Buildings, airports, highways, bridges, etc.\n",
    "GPE: Countries, cities, states\n",
    "LANGUAGE: Any named language\n",
    "LAW: Named documents made into laws\n",
    "LOC: Non-GPE locations, mountain ranges, bodies of water\n",
    "MONEY: Monetary values, including unit\n",
    "NORP: Nationalities or religious or political groups\n",
    "ORDINAL: \"first\", \"second\", etc.\n",
    "ORG: Companies, agencies, institutions, etc.\n",
    "PERCENT: Percentage, including \"%\"\n",
    "PERSON: People, including fictional\n",
    "PRODUCT: Objects, vehicles, foods, etc. (not services)\n",
    "QUANTITY: Measurements, as of weight or distance\n",
    "TIME: Times smaller than a day\n",
    "WORK_OF_ART: Titles of books, songs, etc."
   ]
  },
  {
   "cell_type": "markdown",
   "id": "ed255846-c623-4cc4-ab77-47d899bfa854",
   "metadata": {},
   "source": [
    "## Creating a custom model"
   ]
  },
  {
   "cell_type": "code",
   "execution_count": 39,
   "id": "81649404-12c0-45ba-862b-d2e0c8f2bf98",
   "metadata": {},
   "outputs": [],
   "source": [
    "from spacy.lang.en import English\n",
    "from spacy.pipeline import EntityRuler\n",
    "import json\n",
    "import os\n",
    "import random\n",
    "from tqdm import tqdm\n",
    "\n",
    "%reload_ext autoreload\n",
    "%autoreload 2\n",
    "import datahelper as dt"
   ]
  },
  {
   "cell_type": "markdown",
   "id": "f29e2765-3a68-4995-99cb-93cbef30d550",
   "metadata": {},
   "source": [
    "### Creating a training dataset by applying a rule-based model to a set of texts"
   ]
  },
  {
   "cell_type": "code",
   "execution_count": null,
   "id": "92163600-612b-416b-a38e-cf2ebb1701ae",
   "metadata": {},
   "outputs": [],
   "source": [
    "dir_path = f\"{os.getcwd()}\\\\data_txt\"\n",
    "txt_files = [f for f in os.listdir(dir_path) if f.endswith(\".txt\")]\n",
    "\n",
    "for file in txt_files:\n",
    "    dt.upgrade_data(f\"data_txt/{file}\")\n",
    "    with open (f\"data_txt/{file}\", \"r\", encoding=\"utf-8\") as f:\n",
    "        names = []\n",
    "        for line in f.readlines():\n",
    "            if line.strip() != '':\n",
    "                names.append(line.strip())\n",
    "        names = list(set(names))\n",
    "    dt.save_data(f\"data_json/{file[:-4]}.json\", names)"
   ]
  },
  {
   "cell_type": "code",
   "execution_count": null,
   "id": "51c1bf79-2407-4134-882d-aba46c817470",
   "metadata": {},
   "outputs": [],
   "source": [
    "labels = {\"anxiety\":\"ANXIETY DISORDERS\", \n",
    "          'bipolar':'BIPOLAR DISORDERS', \n",
    "          'depressive':\"DEPRESSIVE DISORDERS\", \n",
    "          'dissociative': \"DISSOCIATIVE DISORDERS\", \n",
    "          'drugs': \"PSYCHEDELIC DRUGS\", \n",
    "          'eating':\"EATING DISORDERS\", \n",
    "          'neurocog':\"NEURO-COGNITIVE DISORDERS\",\n",
    "          'neurodev':\"NEURO-DEVELOPMENTAL DISORDERS\", \n",
    "          'nonsubstance':\"NON-SUBSTANCE RELATED DISORDERS\", \n",
    "          'ocd':\"OBSESSIVE-COMPULSIVE AND RELATED DISORDERS\", \n",
    "          'other':\"OTHER DISORDERS\", \n",
    "          'paraphilias':\"PARAPHILIAS\", \n",
    "          'parasomnias':\"PARASOMNIAS\", \n",
    "          'personality':\"PERSONALITY DISORDERS\", \n",
    "          'schizophrenia':\"SCHIZOPHRENIA SPECTRUM AND OTHER PSYCHOTIC DISORDERS\", \n",
    "          'sexual':\"SEXUAL DYSFUNCTIONS\", \n",
    "          'sleep':\"SLEEP-WAKE DISORDERS\", \n",
    "          'somatic':\"SOMATIC SYMPTOM RELATED DISORDERS\", \n",
    "          'substance':\"SUBSTANCE-RELATED DISORDERS\", \n",
    "          'trauma':\"TRAUMA AND STRESS RELATED DISORDERS\",\n",
    "          'elimination':\"ELIMINATION DISORDERS\",\n",
    "          'disruptive':\"DISRUPTIVE IMPULSE-CONTROL, AND CONDUCT DISORDERS\"}"
   ]
  },
  {
   "cell_type": "code",
   "execution_count": null,
   "id": "77ef67f5-dbe0-4e7c-b48b-4dad366a6571",
   "metadata": {},
   "outputs": [],
   "source": [
    "for file in txt_files:\n",
    "    patterns = dt.create_training_data(patterns, f\"data_json/{file[:-4]}.json\", labels[file[:-4]])\n",
    "dt.generate_rules(patterns)"
   ]
  },
  {
   "cell_type": "code",
   "execution_count": null,
   "id": "eac83058-7ec1-4a5c-a919-e0239150bc16",
   "metadata": {},
   "outputs": [],
   "source": [
    "test = \"After a decades-long pause, psychedelics are again being intensely investigated for treating a wide range of neuropsychiatric ailments including depression, anxiety, addiction, post-traumatic stress disorder, anorexia, and chronic pain syndromes. The classic serotonergic psychedelics psilocybin and lysergic acid diethylamide and nonclassic psychedelics 3,4-methylenedioxymethamphetamine and ketamine are increasingly appreciated as neuroplastogens given their potential to fundamentally alter mood and behavior well beyond the time window of measurable exposure. Imaging studies with psychedelics are also helping advance our understanding of neural networks and connectomics. This resurgence in psychedelic science and psychedelic-assisted therapy has potential significance for the fields of neurosurgery and neuro-oncology and their diverse and challenging patients, many of whom continue to have mental health issues and poor quality of life despite receiving state-of-the-art care. In this study, we review recent and ongoing clinical trials, the set and setting model of psychedelic-assisted therapy, potential risks and adverse events, proposed mechanisms of action, and provide a perspective on how the safe and evidence-based use of psychedelics could potentially benefit many patients, including those with brain tumors, pain syndromes, ruminative disorders, stroke, SAH, TBI, and movement disorders. By leveraging psychedelics' neuroplastic potential to rehabilitate the mind and brain, novel treatments may be possible for many of these patient populations, in some instances working synergistically with current treatments and in some using subpsychedelic doses that do not require mind-altering effects for efficacy. This review aims to encourage broader multidisciplinary collaboration across the neurosciences to explore and help realize the transdiagnostic healing potential of psychedelics.\""
   ]
  },
  {
   "cell_type": "code",
   "execution_count": null,
   "id": "7c0c5773-680a-4129-9f0a-cdd2bae97234",
   "metadata": {},
   "outputs": [],
   "source": [
    "nlp = spacy.load(\"psy_ner\")"
   ]
  },
  {
   "cell_type": "code",
   "execution_count": null,
   "id": "ac379f39-a902-45b5-a882-91ea624dfc3f",
   "metadata": {},
   "outputs": [],
   "source": [
    "dt.test_model(nlp, test)"
   ]
  }
 ],
 "metadata": {
  "kernelspec": {
   "display_name": "Python 3 (ipykernel)",
   "language": "python",
   "name": "python3"
  },
  "language_info": {
   "codemirror_mode": {
    "name": "ipython",
    "version": 3
   },
   "file_extension": ".py",
   "mimetype": "text/x-python",
   "name": "python",
   "nbconvert_exporter": "python",
   "pygments_lexer": "ipython3",
   "version": "3.9.13"
  }
 },
 "nbformat": 4,
 "nbformat_minor": 5
}
