{
 "cells": [
  {
   "cell_type": "markdown",
   "id": "b1a8a69f-ea3e-4581-a63e-e8fac2ae50b4",
   "metadata": {},
   "source": [
    "# PsyNer project"
   ]
  },
  {
   "cell_type": "markdown",
   "id": "fab1b4a6-4b8a-4493-9a32-3903c5fd8a68",
   "metadata": {},
   "source": [
    "## Installing all necessary libraries and functionalities"
   ]
  },
  {
   "cell_type": "code",
   "execution_count": 7,
   "id": "93a3e167-3b97-445f-9150-026576bd7a35",
   "metadata": {},
   "outputs": [
    {
     "name": "stdout",
     "output_type": "stream",
     "text": [
      "Note: you may need to restart the kernel to use updated packages.\n"
     ]
    }
   ],
   "source": [
    "pip install spacy -q"
   ]
  },
  {
   "cell_type": "code",
   "execution_count": 8,
   "id": "34a7a4f7-d943-4dee-aaa2-b4d97f8c0f02",
   "metadata": {},
   "outputs": [
    {
     "name": "stdout",
     "output_type": "stream",
     "text": [
      "[+] Download and installation successful\n",
      "You can now load the package via spacy.load('en_core_web_sm')\n"
     ]
    }
   ],
   "source": [
    "!python -m spacy download en_core_web_sm en_core_web_lg -q"
   ]
  },
  {
   "cell_type": "markdown",
   "id": "9d6ba58b-85a7-4af7-9f98-a20f7e7be844",
   "metadata": {},
   "source": [
    "## Generalized spaCy models"
   ]
  },
  {
   "cell_type": "code",
   "execution_count": 9,
   "id": "d966d014-90a9-4946-ab13-f9ff0ebd378b",
   "metadata": {},
   "outputs": [],
   "source": [
    "import spacy"
   ]
  },
  {
   "cell_type": "code",
   "execution_count": 18,
   "id": "17392fd4-54e9-4e1d-b54c-67bbef1f1b39",
   "metadata": {},
   "outputs": [],
   "source": [
    "test=\"After a decades-long pause, psychedelics are again being intensely investigated for treating a wide range of neuropsychiatric ailments including depression, anxiety, addiction, post-traumatic stress disorder, anorexia, and chronic pain syndromes. The classic serotonergic psychedelics psilocybin and lysergic acid diethylamide and nonclassic psychedelics 3,4-methylenedioxymethamphetamine and ketamine are increasingly appreciated as neuroplastogens given their potential to fundamentally alter mood and behavior well beyond the time window of measurable exposure. Imaging studies with psychedelics are also helping advance our understanding of neural networks and connectomics. This resurgence in psychedelic science and psychedelic-assisted therapy has potential significance for the fields of neurosurgery and neuro-oncology and their diverse and challenging patients, many of whom continue to have mental health issues and poor quality of life despite receiving state-of-the-art care. In this study, we review recent and ongoing clinical trials, the set and setting model of psychedelic-assisted therapy, potential risks and adverse events, proposed mechanisms of action, and provide a perspective on how the safe and evidence-based use of psychedelics could potentially benefit many patients, including those with brain tumors, pain syndromes, ruminative disorders, stroke, SAH, TBI, and movement disorders. By leveraging psychedelics' neuroplastic potential to rehabilitate the mind and brain, novel treatments may be possible for many of these patient populations, in some instances working synergistically with current treatments and in some using subpsychedelic doses that do not require mind-altering effects for efficacy. This review aims to encourage broader multidisciplinary collaboration across the neurosciences to explore and help realize the transdiagnostic healing potential of psychedelics.\""
   ]
  },
  {
   "cell_type": "code",
   "execution_count": 19,
   "id": "3299ed5e-a322-4ce2-819b-cba66a48affa",
   "metadata": {},
   "outputs": [
    {
     "name": "stdout",
     "output_type": "stream",
     "text": [
      "decades DATE\n",
      "3,4-methylenedioxymethamphetamine QUANTITY\n",
      "SAH ORG\n",
      "TBI ORG\n"
     ]
    }
   ],
   "source": [
    "nlp = spacy.load(\"en_core_web_sm\")\n",
    "doc = nlp(test)\n",
    "for ent in doc.ents:\n",
    "    print (ent.text, ent.label_)"
   ]
  },
  {
   "cell_type": "code",
   "execution_count": 20,
   "id": "4f6d9ad6-e93b-4987-ba3a-9122dd17795a",
   "metadata": {},
   "outputs": [
    {
     "name": "stdout",
     "output_type": "stream",
     "text": [
      "decades DATE\n",
      "3,4 CARDINAL\n",
      "neuroplastogens PERSON\n",
      "connectomics WORK_OF_ART\n",
      "SAH ORG\n"
     ]
    }
   ],
   "source": [
    "nlp = spacy.load(\"en_core_web_lg\")\n",
    "doc = nlp(test)\n",
    "for ent in doc.ents:\n",
    "    print (ent.text, ent.label_)"
   ]
  },
  {
   "cell_type": "markdown",
   "id": "8994db32-b284-4565-b573-0ee7c6e7372e",
   "metadata": {},
   "source": [
    "We can clearly see that neither small nor large spacy models was not able to catch any entities from the provided abstract correctly. It is not surprising since these are very generalized english models and therefore they are not traind on a specific set of biological data. Most likely this model has never seen anything like this abstract before. Moreover, as we can see below, our model doesn't even posess the labels that we want. Thus, we will explore some other models and the ways to customize a model according to our needs."
   ]
  },
  {
   "cell_type": "code",
   "execution_count": 27,
   "id": "2205b628-c2f6-4b90-a169-fb93d1e0b543",
   "metadata": {},
   "outputs": [
    {
     "name": "stdout",
     "output_type": "stream",
     "text": [
      "('CARDINAL', 'DATE', 'EVENT', 'FAC', 'GPE', 'LANGUAGE', 'LAW', 'LOC', 'MONEY', 'NORP', 'ORDINAL', 'ORG', 'PERCENT', 'PERSON', 'PRODUCT', 'QUANTITY', 'TIME', 'WORK_OF_ART')\n"
     ]
    }
   ],
   "source": [
    "for pipe_name in nlp.pipe_names:\n",
    "    if pipe_name == 'ner':\n",
    "        component = nlp.get_pipe(pipe_name)\n",
    "        if hasattr(component, \"labels\"):\n",
    "            print(component.labels)"
   ]
  },
  {
   "cell_type": "markdown",
   "id": "fec7166b-3367-4f7a-9829-235caee38c14",
   "metadata": {},
   "source": [
    "CARDINAL: Numerals that do not fall under another type\n",
    "DATE: Absolute or relative dates or periods\n",
    "EVENT: Named hurricanes, battles, wars, sports events, etc.\n",
    "FAC: Buildings, airports, highways, bridges, etc.\n",
    "GPE: Countries, cities, states\n",
    "LANGUAGE: Any named language\n",
    "LAW: Named documents made into laws\n",
    "LOC: Non-GPE locations, mountain ranges, bodies of water\n",
    "MONEY: Monetary values, including unit\n",
    "NORP: Nationalities or religious or political groups\n",
    "ORDINAL: \"first\", \"second\", etc.\n",
    "ORG: Companies, agencies, institutions, etc.\n",
    "PERCENT: Percentage, including \"%\"\n",
    "PERSON: People, including fictional\n",
    "PRODUCT: Objects, vehicles, foods, etc. (not services)\n",
    "QUANTITY: Measurements, as of weight or distance\n",
    "TIME: Times smaller than a day\n",
    "WORK_OF_ART: Titles of books, songs, etc."
   ]
  },
  {
   "cell_type": "markdown",
   "id": "ed255846-c623-4cc4-ab77-47d899bfa854",
   "metadata": {},
   "source": [
    "## Creating a custom model"
   ]
  },
  {
   "cell_type": "code",
   "execution_count": 38,
   "id": "81649404-12c0-45ba-862b-d2e0c8f2bf98",
   "metadata": {},
   "outputs": [],
   "source": [
    "from spacy.lang.en import English\n",
    "from spacy.pipeline import EntityRuler\n",
    "import json\n",
    "import os\n",
    "import random\n",
    "from tqdm import tqdm\n",
    "\n",
    "%reload_ext autoreload\n",
    "%autoreload 2\n",
    "import datahelper as dt"
   ]
  },
  {
   "cell_type": "code",
   "execution_count": 35,
   "id": "2b9f06e5-adaf-45f3-9f79-7266dc9eea5d",
   "metadata": {},
   "outputs": [],
   "source": [
    "TRAIN_DATA = dt.load_data(\"train_data.json\")"
   ]
  },
  {
   "cell_type": "code",
   "execution_count": 41,
   "id": "243abb2d-35bc-4b02-9666-ae710e0eee7f",
   "metadata": {},
   "outputs": [
    {
     "data": {
      "text/plain": [
       "['entity_ruler']"
      ]
     },
     "execution_count": 41,
     "metadata": {},
     "output_type": "execute_result"
    }
   ],
   "source": [
    "nlp.pipe_names"
   ]
  },
  {
   "cell_type": "code",
   "execution_count": null,
   "id": "f07682a2-0589-4724-993d-4298807fa13c",
   "metadata": {},
   "outputs": [],
   "source": [
    "nlp.add_pipe(\"ner\", name=\"psy_ner\",before=\"\")"
   ]
  }
 ],
 "metadata": {
  "kernelspec": {
   "display_name": "Python 3 (ipykernel)",
   "language": "python",
   "name": "python3"
  },
  "language_info": {
   "codemirror_mode": {
    "name": "ipython",
    "version": 3
   },
   "file_extension": ".py",
   "mimetype": "text/x-python",
   "name": "python",
   "nbconvert_exporter": "python",
   "pygments_lexer": "ipython3",
   "version": "3.9.13"
  }
 },
 "nbformat": 4,
 "nbformat_minor": 5
}
