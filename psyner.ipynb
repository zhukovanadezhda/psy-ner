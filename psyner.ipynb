{
 "cells": [
  {
   "cell_type": "markdown",
   "id": "b1a8a69f-ea3e-4581-a63e-e8fac2ae50b4",
   "metadata": {},
   "source": [
    "# 💭🧠🤍 Custom NER model for mental health purposes 🖤🧠💭"
   ]
  },
  {
   "cell_type": "markdown",
   "id": "fab1b4a6-4b8a-4493-9a32-3903c5fd8a68",
   "metadata": {},
   "source": [
    "## Installing all necessary libraries and packages"
   ]
  },
  {
   "cell_type": "code",
   "execution_count": 7,
   "id": "93a3e167-3b97-445f-9150-026576bd7a35",
   "metadata": {},
   "outputs": [
    {
     "name": "stdout",
     "output_type": "stream",
     "text": [
      "Note: you may need to restart the kernel to use updated packages.\n"
     ]
    }
   ],
   "source": [
    "pip install spacy -q"
   ]
  },
  {
   "cell_type": "code",
   "execution_count": 8,
   "id": "34a7a4f7-d943-4dee-aaa2-b4d97f8c0f02",
   "metadata": {},
   "outputs": [
    {
     "name": "stdout",
     "output_type": "stream",
     "text": [
      "[+] Download and installation successful\n",
      "You can now load the package via spacy.load('en_core_web_sm')\n"
     ]
    }
   ],
   "source": [
    "!python -m spacy download en_core_web_sm en_core_web_lg -q"
   ]
  },
  {
   "cell_type": "code",
   "execution_count": 16,
   "id": "d966d014-90a9-4946-ab13-f9ff0ebd378b",
   "metadata": {},
   "outputs": [],
   "source": [
    "import spacy\n",
    "from spacy.lang.en import English\n",
    "from spacy.pipeline import EntityRuler\n",
    "from spacy import displacy\n",
    "import json\n",
    "import os\n",
    "import re\n",
    "import random\n",
    "from tqdm import tqdm\n",
    "import subprocess\n",
    "\n",
    "%reload_ext autoreload\n",
    "%autoreload 2\n",
    "import datahelper as dt"
   ]
  },
  {
   "cell_type": "markdown",
   "id": "9d6ba58b-85a7-4af7-9f98-a20f7e7be844",
   "metadata": {},
   "source": [
    "## Exploring performance of generalized spaCy models"
   ]
  },
  {
   "cell_type": "code",
   "execution_count": 28,
   "id": "17392fd4-54e9-4e1d-b54c-67bbef1f1b39",
   "metadata": {},
   "outputs": [],
   "source": [
    "test=\"\"\"After a decades-long pause, psychedelics are again being intensely investigated for treating a wide range of \n",
    "        neuropsychiatric ailments including depression, anxiety, addiction, post-traumatic stress disorder, anorexia, \n",
    "        and chronic pain syndromes. The classic serotonergic psychedelics psilocybin and lysergic acid diethylamide and \n",
    "        nonclassic psychedelics 3,4-methylenedioxymethamphetamine and ketamine are increasingly appreciated as neuroplastogens \n",
    "        given their potential to fundamentally alter mood and behavior well beyond the time window of measurable exposure. \n",
    "        Imaging studies with psychedelics are also helping advance our understanding of neural networks and connectomics. \n",
    "        This resurgence in psychedelic science and psychedelic-assisted therapy has potential significance for the fields of \n",
    "        neurosurgery and neuro-oncology and their diverse and challenging patients, many of whom continue to have mental health \n",
    "        issues and poor quality of life despite receiving state-of-the-art care. In this study, we review recent and ongoing \n",
    "        clinical trials, the set and setting model of psychedelic-assisted therapy, potential risks and adverse events, proposed \n",
    "        mechanisms of action, and provide a perspective on how the safe and evidence-based use of psychedelics could potentially \n",
    "        benefit many patients, including those with brain tumors, pain syndromes, ruminative disorders, stroke, SAH, TBI, and \n",
    "        movement disorders. By leveraging psychedelics' neuroplastic potential to rehabilitate the mind and brain, novel \n",
    "        treatments may be possible for many of these patient populations, in some instances working synergistically with current \n",
    "        treatments and in some using subpsychedelic doses that do not require mind-altering effects for efficacy. This review aims \n",
    "        to encourage broader multidisciplinary collaboration across the neurosciences to explore and help realize the transdiagnostic \n",
    "        healing potential of psychedelics.\"\"\"\n",
    "test = re.sub(\"[\\n ]+\", \" \", test)"
   ]
  },
  {
   "cell_type": "markdown",
   "id": "0a2e1964-d01a-4358-94a2-294ba88df030",
   "metadata": {},
   "source": [
    "### Small English Model"
   ]
  },
  {
   "cell_type": "code",
   "execution_count": 18,
   "id": "3299ed5e-a322-4ce2-819b-cba66a48affa",
   "metadata": {},
   "outputs": [
    {
     "data": {
      "text/html": [
       "<span class=\"tex2jax_ignore\"><div class=\"entities\" style=\"line-height: 2.5; direction: ltr\">After a \n",
       "<mark class=\"entity\" style=\"background: #bfe1d9; padding: 0.45em 0.6em; margin: 0 0.25em; line-height: 1; border-radius: 0.35em;\">\n",
       "    decades\n",
       "    <span style=\"font-size: 0.8em; font-weight: bold; line-height: 1; border-radius: 0.35em; vertical-align: middle; margin-left: 0.5rem\">DATE</span>\n",
       "</mark>\n",
       "-long pause, psychedelics are again being intensely investigated for treating a wide range of neuropsychiatric ailments including depression, anxiety, addiction, post-traumatic stress disorder, anorexia, and chronic pain syndromes. The classic serotonergic psychedelics psilocybin and lysergic acid diethylamide and nonclassic psychedelics \n",
       "<mark class=\"entity\" style=\"background: #e4e7d2; padding: 0.45em 0.6em; margin: 0 0.25em; line-height: 1; border-radius: 0.35em;\">\n",
       "    3,4-methylenedioxymethamphetamine\n",
       "    <span style=\"font-size: 0.8em; font-weight: bold; line-height: 1; border-radius: 0.35em; vertical-align: middle; margin-left: 0.5rem\">QUANTITY</span>\n",
       "</mark>\n",
       " and ketamine are increasingly appreciated as neuroplastogens given their potential to fundamentally alter mood and behavior well beyond the time window of measurable exposure. Imaging studies with psychedelics are also helping advance our understanding of neural networks and connectomics. This resurgence in psychedelic science and psychedelic-assisted therapy has potential significance for the fields of neurosurgery and neuro-oncology and their diverse and challenging patients, many of whom continue to have mental health issues and poor quality of life despite receiving state-of-the-art care. In this study, we review recent and ongoing clinical trials, the set and setting model of psychedelic-assisted therapy, potential risks and adverse events, proposed mechanisms of action, and provide a perspective on how the safe and evidence-based use of psychedelics could potentially benefit many patients, including those with brain tumors, pain syndromes, ruminative disorders, stroke, \n",
       "<mark class=\"entity\" style=\"background: #7aecec; padding: 0.45em 0.6em; margin: 0 0.25em; line-height: 1; border-radius: 0.35em;\">\n",
       "    SAH\n",
       "    <span style=\"font-size: 0.8em; font-weight: bold; line-height: 1; border-radius: 0.35em; vertical-align: middle; margin-left: 0.5rem\">ORG</span>\n",
       "</mark>\n",
       ", \n",
       "<mark class=\"entity\" style=\"background: #7aecec; padding: 0.45em 0.6em; margin: 0 0.25em; line-height: 1; border-radius: 0.35em;\">\n",
       "    TBI\n",
       "    <span style=\"font-size: 0.8em; font-weight: bold; line-height: 1; border-radius: 0.35em; vertical-align: middle; margin-left: 0.5rem\">ORG</span>\n",
       "</mark>\n",
       ", and movement disorders. By leveraging psychedelics' neuroplastic potential to rehabilitate the mind and brain, novel treatments may be possible for many of these patient populations, in some instances working synergistically with current treatments and in some using subpsychedelic doses that do not require mind-altering effects for efficacy. This review aims to encourage broader multidisciplinary collaboration across the neurosciences to explore and help realize the transdiagnostic healing potential of psychedelics.</div></span>"
      ],
      "text/plain": [
       "<IPython.core.display.HTML object>"
      ]
     },
     "metadata": {},
     "output_type": "display_data"
    }
   ],
   "source": [
    "nlp = spacy.load(\"en_core_web_sm\")\n",
    "doc = nlp(test)\n",
    "displacy.render(doc, style=\"ent\", jupyter=True)"
   ]
  },
  {
   "cell_type": "markdown",
   "id": "56369436-98e6-4191-ad6a-344fe0e229d2",
   "metadata": {},
   "source": [
    "### Large English Model"
   ]
  },
  {
   "cell_type": "code",
   "execution_count": 19,
   "id": "4f6d9ad6-e93b-4987-ba3a-9122dd17795a",
   "metadata": {},
   "outputs": [
    {
     "data": {
      "text/html": [
       "<span class=\"tex2jax_ignore\"><div class=\"entities\" style=\"line-height: 2.5; direction: ltr\">After a \n",
       "<mark class=\"entity\" style=\"background: #bfe1d9; padding: 0.45em 0.6em; margin: 0 0.25em; line-height: 1; border-radius: 0.35em;\">\n",
       "    decades\n",
       "    <span style=\"font-size: 0.8em; font-weight: bold; line-height: 1; border-radius: 0.35em; vertical-align: middle; margin-left: 0.5rem\">DATE</span>\n",
       "</mark>\n",
       "-long pause, psychedelics are again being intensely investigated for treating a wide range of neuropsychiatric ailments including depression, anxiety, addiction, post-traumatic stress disorder, anorexia, and chronic pain syndromes. The classic serotonergic psychedelics psilocybin and lysergic acid diethylamide and nonclassic psychedelics \n",
       "<mark class=\"entity\" style=\"background: #e4e7d2; padding: 0.45em 0.6em; margin: 0 0.25em; line-height: 1; border-radius: 0.35em;\">\n",
       "    3,4\n",
       "    <span style=\"font-size: 0.8em; font-weight: bold; line-height: 1; border-radius: 0.35em; vertical-align: middle; margin-left: 0.5rem\">CARDINAL</span>\n",
       "</mark>\n",
       "-methylenedioxymethamphetamine and ketamine are increasingly appreciated as \n",
       "<mark class=\"entity\" style=\"background: #aa9cfc; padding: 0.45em 0.6em; margin: 0 0.25em; line-height: 1; border-radius: 0.35em;\">\n",
       "    neuroplastogens\n",
       "    <span style=\"font-size: 0.8em; font-weight: bold; line-height: 1; border-radius: 0.35em; vertical-align: middle; margin-left: 0.5rem\">PERSON</span>\n",
       "</mark>\n",
       " given their potential to fundamentally alter mood and behavior well beyond the time window of measurable exposure. Imaging studies with psychedelics are also helping advance our understanding of neural networks and \n",
       "<mark class=\"entity\" style=\"background: #f0d0ff; padding: 0.45em 0.6em; margin: 0 0.25em; line-height: 1; border-radius: 0.35em;\">\n",
       "    connectomics\n",
       "    <span style=\"font-size: 0.8em; font-weight: bold; line-height: 1; border-radius: 0.35em; vertical-align: middle; margin-left: 0.5rem\">WORK_OF_ART</span>\n",
       "</mark>\n",
       ". This resurgence in psychedelic science and psychedelic-assisted therapy has potential significance for the fields of neurosurgery and neuro-oncology and their diverse and challenging patients, many of whom continue to have mental health issues and poor quality of life despite receiving state-of-the-art care. In this study, we review recent and ongoing clinical trials, the set and setting model of psychedelic-assisted therapy, potential risks and adverse events, proposed mechanisms of action, and provide a perspective on how the safe and evidence-based use of psychedelics could potentially benefit many patients, including those with brain tumors, pain syndromes, ruminative disorders, stroke, \n",
       "<mark class=\"entity\" style=\"background: #7aecec; padding: 0.45em 0.6em; margin: 0 0.25em; line-height: 1; border-radius: 0.35em;\">\n",
       "    SAH\n",
       "    <span style=\"font-size: 0.8em; font-weight: bold; line-height: 1; border-radius: 0.35em; vertical-align: middle; margin-left: 0.5rem\">ORG</span>\n",
       "</mark>\n",
       ", TBI, and movement disorders. By leveraging psychedelics' neuroplastic potential to rehabilitate the mind and brain, novel treatments may be possible for many of these patient populations, in some instances working synergistically with current treatments and in some using subpsychedelic doses that do not require mind-altering effects for efficacy. This review aims to encourage broader multidisciplinary collaboration across the neurosciences to explore and help realize the transdiagnostic healing potential of psychedelics.</div></span>"
      ],
      "text/plain": [
       "<IPython.core.display.HTML object>"
      ]
     },
     "metadata": {},
     "output_type": "display_data"
    }
   ],
   "source": [
    "nlp = spacy.load(\"en_core_web_lg\")\n",
    "doc = nlp(test)\n",
    "displacy.render(doc, style=\"ent\", jupyter=True)"
   ]
  },
  {
   "cell_type": "markdown",
   "id": "8994db32-b284-4565-b573-0ee7c6e7372e",
   "metadata": {},
   "source": [
    "### Conclusion\n",
    "We can clearly see that neither small nor large spacy models was not able to catch any entities from the provided abstract correctly. It is not surprising since these are very generalized english models and therefore they are not traind on a specific set of biological data. Most likely this model has never seen anything like this abstract before. Moreover, as we can see below, our model doesn't even posess the labels that we want. Thus, we will explore some other models and the ways to customize a model according to our needs."
   ]
  },
  {
   "cell_type": "code",
   "execution_count": 27,
   "id": "2205b628-c2f6-4b90-a169-fb93d1e0b543",
   "metadata": {},
   "outputs": [
    {
     "name": "stdout",
     "output_type": "stream",
     "text": [
      "('CARDINAL', 'DATE', 'EVENT', 'FAC', 'GPE', 'LANGUAGE', 'LAW', 'LOC', 'MONEY', 'NORP', 'ORDINAL', 'ORG', 'PERCENT', 'PERSON', 'PRODUCT', 'QUANTITY', 'TIME', 'WORK_OF_ART')\n"
     ]
    }
   ],
   "source": [
    "for pipe_name in nlp.pipe_names:\n",
    "    if pipe_name == 'ner':\n",
    "        component = nlp.get_pipe(pipe_name)\n",
    "        if hasattr(component, \"labels\"):\n",
    "            print(component.labels)"
   ]
  },
  {
   "cell_type": "markdown",
   "id": "ed255846-c623-4cc4-ab77-47d899bfa854",
   "metadata": {},
   "source": [
    "## Creating a custom model"
   ]
  },
  {
   "cell_type": "code",
   "execution_count": 13,
   "id": "3893523a-6001-4f98-abf5-13f2711198f5",
   "metadata": {},
   "outputs": [
    {
     "name": "stdout",
     "output_type": "stream",
     "text": [
      "[+] Auto-filled config with all values\n",
      "[+] Saved config\n",
      "model\\config.cfg\n",
      "You can now add your data and train your pipeline:\n",
      "python -m spacy train config.cfg --paths.train ./train.spacy --paths.dev ./dev.spacy\n"
     ]
    }
   ],
   "source": [
    "!python -m spacy init fill-config model/base_config.cfg model/config.cfg"
   ]
  },
  {
   "cell_type": "code",
   "execution_count": 14,
   "id": "98a2a8f3-2e01-4b42-bb66-6b2e462058aa",
   "metadata": {},
   "outputs": [
    {
     "name": "stdout",
     "output_type": "stream",
     "text": [
      "[i] Saving to output directory: model\n",
      "[i] Using CPU\n",
      "\u001b[1m\n",
      "=========================== Initializing pipeline ===========================\u001b[0m\n",
      "[+] Initialized pipeline\n",
      "\u001b[1m\n",
      "============================= Training pipeline =============================\u001b[0m\n",
      "[i] Pipeline: ['tok2vec', 'ner']\n",
      "[i] Initial learn rate: 0.001\n",
      "E    #       LOSS TOK2VEC  LOSS NER  ENTS_F  ENTS_P  ENTS_R  SCORE \n",
      "---  ------  ------------  --------  ------  ------  ------  ------\n",
      "  0       0          0.00    200.50    0.00    0.00    0.00    0.00\n",
      "200     200       3015.06   6329.03    0.00    0.00    0.00    0.00\n",
      "400     400          0.00      0.00    0.00    0.00    0.00    0.00\n",
      "600     600          0.00      0.00    0.00    0.00    0.00    0.00\n",
      "800     800          0.00      0.00    0.00    0.00    0.00    0.00\n",
      "1000    1000          0.00      0.00    0.00    0.00    0.00    0.00\n",
      "1200    1200          0.00      0.00    0.00    0.00    0.00    0.00\n",
      "1400    1400          0.00      0.00    0.00    0.00    0.00    0.00\n",
      "1600    1600          0.00      0.00    0.00    0.00    0.00    0.00\n",
      "[+] Saved pipeline to output directory\n",
      "model\\model-last\n"
     ]
    },
    {
     "name": "stderr",
     "output_type": "stream",
     "text": [
      "[2023-03-26 13:59:57,185] [INFO] Set up nlp object from config\n",
      "[2023-03-26 13:59:57,202] [INFO] Pipeline: ['tok2vec', 'ner']\n",
      "[2023-03-26 13:59:57,213] [INFO] Created vocabulary\n",
      "[2023-03-26 13:59:57,213] [INFO] Finished initializing nlp object\n",
      "[2023-03-26 13:59:57,395] [INFO] Initialized pipeline components: ['tok2vec', 'ner']\n"
     ]
    }
   ],
   "source": [
    "!python -m spacy train model/config.cfg --output ./model --paths.train data/train.spacy --paths.dev data/test.spacy"
   ]
  },
  {
   "cell_type": "code",
   "execution_count": 20,
   "id": "f07682a2-0589-4724-993d-4298807fa13c",
   "metadata": {},
   "outputs": [],
   "source": [
    "nlp = spacy.load(\"./model/model-best\")"
   ]
  },
  {
   "cell_type": "code",
   "execution_count": 31,
   "id": "afc363a6-788e-4b8b-85ed-ee00f4af5cfa",
   "metadata": {},
   "outputs": [],
   "source": [
    "test = \"\"\"The PAWS Study used an online platform to deliver a cross-sectional survey instrument designed to assess participants' \n",
    "        retrospective perspectives on the mental health effects of classic psychedelic use, as well as predictors of positive and \n",
    "        negative outcomes from this use. Because of our focus on classic psychedelic agents (i.e., tryptamines and phenethylamines \n",
    "        with a primary mechanism of action believed to be agonism of the serotonin 5HT2A receptor), we did not query \n",
    "        3,4-Methylenedioxymethamphetamine (MDMA), which has a different mechanism of action and tends to produce different acute \n",
    "        effects than classic psychedelics. Given the widespread emerging use of ketamine as a “psychedelic-like” agent for the \n",
    "        treatment of major depressive disorder, we included this agent in our survey, although we recognize that it is not a \n",
    "        classic psychedelic.\"\"\"\n",
    "test = re.sub(\"[\\n ]+\", \" \", test)"
   ]
  },
  {
   "cell_type": "code",
   "execution_count": 32,
   "id": "dd7e902e-cada-4782-b1d4-5f1bbe94ad04",
   "metadata": {},
   "outputs": [],
   "source": [
    "doc = nlp(test)"
   ]
  },
  {
   "cell_type": "code",
   "execution_count": 33,
   "id": "2788c0d2-461c-4972-a598-17323969733b",
   "metadata": {},
   "outputs": [
    {
     "data": {
      "text/html": [
       "<span class=\"tex2jax_ignore\"><div class=\"entities\" style=\"line-height: 2.5; direction: ltr\">The PAWS Study used an online platform to deliver a cross-sectional survey instrument designed to assess participants' retrospective perspectives on the mental health effects of classic psychedelic use, as well as predictors of positive and negative outcomes from this use. Because of our focus on classic psychedelic agents (i.e., tryptamines and phenethylamines with a primary mechanism of action believed to be agonism of the serotonin 5HT2A receptor), we did not query 3,4-Methylenedioxymethamphetamine (MDMA), which has a different mechanism of action and tends to produce different acute effects than classic psychedelics. Given the widespread emerging use of ketamine as a “psychedelic-like” agent for the treatment of major depressive disorder, we included this agent in our survey, although we recognize that it is not a classic psychedelic.</div></span>"
      ],
      "text/plain": [
       "<IPython.core.display.HTML object>"
      ]
     },
     "metadata": {},
     "output_type": "display_data"
    }
   ],
   "source": [
    "options = dt.pretty_colors()\n",
    "spacy.displacy.render(doc, style=\"ent\", jupyter=True, options=options)"
   ]
  },
  {
   "cell_type": "markdown",
   "id": "b2f68277-e903-445d-8ca8-680dee92096b",
   "metadata": {},
   "source": [
    "☹"
   ]
  }
 ],
 "metadata": {
  "kernelspec": {
   "display_name": "Python 3 (ipykernel)",
   "language": "python",
   "name": "python3"
  },
  "language_info": {
   "codemirror_mode": {
    "name": "ipython",
    "version": 3
   },
   "file_extension": ".py",
   "mimetype": "text/x-python",
   "name": "python",
   "nbconvert_exporter": "python",
   "pygments_lexer": "ipython3",
   "version": "3.9.13"
  }
 },
 "nbformat": 4,
 "nbformat_minor": 5
}
