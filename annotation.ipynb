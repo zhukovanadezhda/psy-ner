{
 "cells": [
  {
   "cell_type": "markdown",
   "id": "516a7f18-5929-458f-929d-ed06709a8c70",
   "metadata": {},
   "source": [
    "# Creating a training dataset by applying a rule-based model to a set of texts"
   ]
  },
  {
   "cell_type": "code",
   "execution_count": 1,
   "id": "7f36362b-d7d9-44a0-b873-83a56a4a964a",
   "metadata": {},
   "outputs": [],
   "source": [
    "import spacy\n",
    "from spacy.lang.en import English\n",
    "from spacy.pipeline import EntityRuler\n",
    "from spacy.tokens import DocBin\n",
    "from spacy import displacy\n",
    "import json\n",
    "import os\n",
    "import re\n",
    "import random\n",
    "import matplotlib.pyplot as plt\n",
    "import numpy as np\n",
    "import os\n",
    "import pandas as pd\n",
    "import requests\n",
    "import warnings\n",
    "import xmltodict\n",
    "from datetime import datetime\n",
    "import time\n",
    "from tqdm import tqdm\n",
    "\n",
    "%reload_ext autoreload\n",
    "%autoreload 2\n",
    "import datahelper as dt"
   ]
  },
  {
   "cell_type": "markdown",
   "id": "878298a6-afc2-44cf-9bfe-cbb51b7d2adb",
   "metadata": {},
   "source": [
    "### Creating labeled vocabulary in json format"
   ]
  },
  {
   "cell_type": "code",
   "execution_count": 2,
   "id": "37035db3-22f2-4f4a-b464-a4ac4c1f38d4",
   "metadata": {},
   "outputs": [
    {
     "name": "stderr",
     "output_type": "stream",
     "text": [
      "100%|██████████████████████████████████████████████████████████████████████████████████| 22/22 [00:09<00:00,  2.41it/s]\n"
     ]
    }
   ],
   "source": [
    "dir_path = f\"{os.getcwd()}\\\\data_txt\"\n",
    "txt_files = [f for f in os.listdir(dir_path) if f.endswith(\".txt\")]\n",
    "\n",
    "for file in tqdm(txt_files):\n",
    "    dt.upgrade_data(f\"data_txt/{file}\")\n",
    "    dt.delete_dublicates(f\"data_txt/{file}\")\n",
    "    with open (f\"data_txt/{file}\", \"r\", encoding=\"utf-8\") as f:\n",
    "        names = []\n",
    "        for line in f.readlines():\n",
    "            if line.strip() != '':\n",
    "                names.append(line.strip())\n",
    "        names = list(set(names))\n",
    "    dt.save_data(f\"data_json/{file[:-4]}.json\", names)"
   ]
  },
  {
   "cell_type": "code",
   "execution_count": 3,
   "id": "75595fee-5fd7-4bee-ac75-3fb4ccc4ba6b",
   "metadata": {},
   "outputs": [],
   "source": [
    "labels = {\"anxiety\":\"ANXIETY DISORDERS\", \n",
    "          'bipolar':'BIPOLAR DISORDERS', \n",
    "          'depressive':\"DEPRESSIVE DISORDERS\", \n",
    "          'dissociative': \"DISSOCIATIVE DISORDERS\", \n",
    "          'drugs': \"PSYCHEDELIC DRUGS\", \n",
    "          'eating':\"EATING DISORDERS\", \n",
    "          'neurocog':\"NEURO-COGNITIVE DISORDERS\",\n",
    "          'neurodev':\"NEURO-DEVELOPMENTAL DISORDERS\", \n",
    "          'nonsubstance':\"NON-SUBSTANCE RELATED DISORDERS\", \n",
    "          'ocd':\"OBSESSIVE-COMPULSIVE AND RELATED DISORDERS\", \n",
    "          'other':\"OTHER DISORDERS\", \n",
    "          'paraphilias':\"PARAPHILIAS\",  \n",
    "          'personality':\"PERSONALITY DISORDERS\", \n",
    "          'schizophrenia':\"SCHIZOPHRENIA SPECTRUM AND OTHER PSYCHOTIC DISORDERS\", \n",
    "          'sexual':\"SEXUAL DYSFUNCTIONS\", \n",
    "          'sleep':\"SLEEP-WAKE DISORDERS\", \n",
    "          'somatic':\"SOMATIC SYMPTOM RELATED DISORDERS\", \n",
    "          'substance':\"SUBSTANCE-RELATED DISORDERS\", \n",
    "          'trauma':\"TRAUMA AND STRESS RELATED DISORDERS\",\n",
    "          'elimination':\"ELIMINATION DISORDERS\",\n",
    "          'disruptive':\"DISRUPTIVE IMPULSE-CONTROL, AND CONDUCT DISORDERS\",\n",
    "          'symptoms':'SYMPTOMS'}"
   ]
  },
  {
   "cell_type": "code",
   "execution_count": 4,
   "id": "9b81d466-85ef-4617-8bee-08d11e7f501b",
   "metadata": {},
   "outputs": [
    {
     "name": "stderr",
     "output_type": "stream",
     "text": [
      "100%|████████████████████████████████████████████████████████████████████████████████| 22/22 [00:00<00:00, 1128.71it/s]\n"
     ]
    }
   ],
   "source": [
    "patterns = []\n",
    "for file in tqdm(txt_files):\n",
    "    patterns = dt.create_training_data(patterns, f\"data_json/{file[:-4]}.json\", labels[file[:-4]])\n",
    "dt.generate_rules(patterns)"
   ]
  },
  {
   "cell_type": "markdown",
   "id": "ef260ba8-097c-45a1-9d43-d848d04b7bec",
   "metadata": {},
   "source": [
    "### Testing on a test sample"
   ]
  },
  {
   "cell_type": "code",
   "execution_count": 5,
   "id": "76ee8dd7-c5b2-417c-8131-658d10455a61",
   "metadata": {},
   "outputs": [],
   "source": [
    "test=\"\"\"After a decades-long pause, psychedelics are again being intensely investigated for treating a wide range of \n",
    "        neuropsychiatric ailments including depression, anxiety, addiction, post-traumatic stress disorder, anorexia, \n",
    "        and chronic pain syndromes. The classic serotonergic psychedelics psilocybin and lysergic acid diethylamide and \n",
    "        nonclassic psychedelics 3,4-methylenedioxymethamphetamine and ketamine are increasingly appreciated as neuroplastogens \n",
    "        given their potential to fundamentally alter mood and behavior well beyond the time window of measurable exposure. \n",
    "        Imaging studies with psychedelics are also helping advance our understanding of neural networks and connectomics. \n",
    "        This resurgence in psychedelic science and psychedelic-assisted therapy has potential significance for the fields of \n",
    "        neurosurgery and neuro-oncology and their diverse and challenging patients, many of whom continue to have mental health \n",
    "        issues and poor quality of life despite receiving state-of-the-art care. In this study, we review recent and ongoing \n",
    "        clinical trials, the set and setting model of psychedelic-assisted therapy, potential risks and adverse events, proposed \n",
    "        mechanisms of action, and provide a perspective on how the safe and evidence-based use of psychedelics could potentially \n",
    "        benefit many patients, including those with brain tumors, pain syndromes, ruminative disorders, stroke, SAH, TBI, and \n",
    "        movement disorders. By leveraging psychedelics' neuroplastic potential to rehabilitate the mind and brain, novel \n",
    "        treatments may be possible for many of these patient populations, in some instances working synergistically with current \n",
    "        treatments and in some using subpsychedelic doses that do not require mind-altering effects for efficacy. This review aims \n",
    "        to encourage broader multidisciplinary collaboration across the neurosciences to explore and help realize the transdiagnostic \n",
    "        healing potential of psychedelics.\"\"\"\n",
    "test = re.sub(\"[\\n ]+\", \" \", test)"
   ]
  },
  {
   "cell_type": "code",
   "execution_count": 6,
   "id": "db78fe0b-73f2-4d9d-829b-fe4d6dfbca98",
   "metadata": {
    "tags": []
   },
   "outputs": [
    {
     "data": {
      "text/html": [
       "<span class=\"tex2jax_ignore\"><div class=\"entities\" style=\"line-height: 2.5; direction: ltr\">After a decades-long pause, psychedelics are again being intensely investigated for treating a wide range of neuropsychiatric ailments including \n",
       "<mark class=\"entity\" style=\"background: #C7CEEA; padding: 0.45em 0.6em; margin: 0 0.25em; line-height: 1; border-radius: 0.35em;\">\n",
       "    depression\n",
       "    <span style=\"font-size: 0.8em; font-weight: bold; line-height: 1; border-radius: 0.35em; vertical-align: middle; margin-left: 0.5rem\">DEPRESSIVE DISORDERS</span>\n",
       "</mark>\n",
       ", \n",
       "<mark class=\"entity\" style=\"background: #F6A5C0; padding: 0.45em 0.6em; margin: 0 0.25em; line-height: 1; border-radius: 0.35em;\">\n",
       "    anxiety\n",
       "    <span style=\"font-size: 0.8em; font-weight: bold; line-height: 1; border-radius: 0.35em; vertical-align: middle; margin-left: 0.5rem\">ANXIETY DISORDERS</span>\n",
       "</mark>\n",
       ", \n",
       "<mark class=\"entity\" style=\"background: #C3B7B7; padding: 0.45em 0.6em; margin: 0 0.25em; line-height: 1; border-radius: 0.35em;\">\n",
       "    addiction\n",
       "    <span style=\"font-size: 0.8em; font-weight: bold; line-height: 1; border-radius: 0.35em; vertical-align: middle; margin-left: 0.5rem\">SYMPTOMS</span>\n",
       "</mark>\n",
       ", \n",
       "<mark class=\"entity\" style=\"background: #D1D2C9; padding: 0.45em 0.6em; margin: 0 0.25em; line-height: 1; border-radius: 0.35em;\">\n",
       "    post-traumatic stress disorder\n",
       "    <span style=\"font-size: 0.8em; font-weight: bold; line-height: 1; border-radius: 0.35em; vertical-align: middle; margin-left: 0.5rem\">TRAUMA AND STRESS RELATED DISORDERS</span>\n",
       "</mark>\n",
       ", \n",
       "<mark class=\"entity\" style=\"background: #F7E5C8; padding: 0.45em 0.6em; margin: 0 0.25em; line-height: 1; border-radius: 0.35em;\">\n",
       "    anorexia\n",
       "    <span style=\"font-size: 0.8em; font-weight: bold; line-height: 1; border-radius: 0.35em; vertical-align: middle; margin-left: 0.5rem\">EATING DISORDERS</span>\n",
       "</mark>\n",
       ", and \n",
       "<mark class=\"entity\" style=\"background: #B4D4E7; padding: 0.45em 0.6em; margin: 0 0.25em; line-height: 1; border-radius: 0.35em;\">\n",
       "    chronic pain\n",
       "    <span style=\"font-size: 0.8em; font-weight: bold; line-height: 1; border-radius: 0.35em; vertical-align: middle; margin-left: 0.5rem\">SOMATIC SYMPTOM RELATED DISORDERS</span>\n",
       "</mark>\n",
       " syndromes. The classic \n",
       "<mark class=\"entity\" style=\"background: #D3BCC0; padding: 0.45em 0.6em; margin: 0 0.25em; line-height: 1; border-radius: 0.35em;\">\n",
       "    serotonergic psychedelics\n",
       "    <span style=\"font-size: 0.8em; font-weight: bold; line-height: 1; border-radius: 0.35em; vertical-align: middle; margin-left: 0.5rem\">PSYCHEDELIC DRUGS</span>\n",
       "</mark>\n",
       " \n",
       "<mark class=\"entity\" style=\"background: #D3BCC0; padding: 0.45em 0.6em; margin: 0 0.25em; line-height: 1; border-radius: 0.35em;\">\n",
       "    psilocybin\n",
       "    <span style=\"font-size: 0.8em; font-weight: bold; line-height: 1; border-radius: 0.35em; vertical-align: middle; margin-left: 0.5rem\">PSYCHEDELIC DRUGS</span>\n",
       "</mark>\n",
       " and \n",
       "<mark class=\"entity\" style=\"background: #D3BCC0; padding: 0.45em 0.6em; margin: 0 0.25em; line-height: 1; border-radius: 0.35em;\">\n",
       "    lysergic acid diethylamide\n",
       "    <span style=\"font-size: 0.8em; font-weight: bold; line-height: 1; border-radius: 0.35em; vertical-align: middle; margin-left: 0.5rem\">PSYCHEDELIC DRUGS</span>\n",
       "</mark>\n",
       " and nonclassic psychedelics \n",
       "<mark class=\"entity\" style=\"background: #D3BCC0; padding: 0.45em 0.6em; margin: 0 0.25em; line-height: 1; border-radius: 0.35em;\">\n",
       "    3,4-methylenedioxymethamphetamine\n",
       "    <span style=\"font-size: 0.8em; font-weight: bold; line-height: 1; border-radius: 0.35em; vertical-align: middle; margin-left: 0.5rem\">PSYCHEDELIC DRUGS</span>\n",
       "</mark>\n",
       " and \n",
       "<mark class=\"entity\" style=\"background: #D3BCC0; padding: 0.45em 0.6em; margin: 0 0.25em; line-height: 1; border-radius: 0.35em;\">\n",
       "    ketamine\n",
       "    <span style=\"font-size: 0.8em; font-weight: bold; line-height: 1; border-radius: 0.35em; vertical-align: middle; margin-left: 0.5rem\">PSYCHEDELIC DRUGS</span>\n",
       "</mark>\n",
       " are increasingly appreciated as neuroplastogens given their potential to fundamentally alter mood and behavior well beyond the time window of measurable exposure. Imaging studies with psychedelics are also helping advance our understanding of neural networks and connectomics. This resurgence in psychedelic science and psychedelic-assisted therapy has potential significance for the fields of neurosurgery and neuro-oncology and their diverse and challenging patients, many of whom continue to have mental health issues and poor quality of life despite receiving state-of-the-art care. In this study, we review recent and ongoing clinical trials, the set and setting model of psychedelic-assisted therapy, potential risks and adverse events, proposed mechanisms of action, and provide a perspective on how the safe and evidence-based use of psychedelics could potentially benefit many patients, including those with brain tumors, \n",
       "<mark class=\"entity\" style=\"background: #B4D4E7; padding: 0.45em 0.6em; margin: 0 0.25em; line-height: 1; border-radius: 0.35em;\">\n",
       "    pain syndromes\n",
       "    <span style=\"font-size: 0.8em; font-weight: bold; line-height: 1; border-radius: 0.35em; vertical-align: middle; margin-left: 0.5rem\">SOMATIC SYMPTOM RELATED DISORDERS</span>\n",
       "</mark>\n",
       ", ruminative disorders, stroke, SAH, TBI, and movement disorders. By leveraging psychedelics' neuroplastic potential to rehabilitate the mind and brain, novel treatments may be possible for many of these patient populations, in some instances working synergistically with current treatments and in some using subpsychedelic doses that do not require mind-altering effects for efficacy. This review aims to encourage broader multidisciplinary collaboration across the neurosciences to explore and help realize the transdiagnostic healing potential of psychedelics.</div></span>"
      ],
      "text/plain": [
       "<IPython.core.display.HTML object>"
      ]
     },
     "metadata": {},
     "output_type": "display_data"
    }
   ],
   "source": [
    "nlp = spacy.load(\"annotation_ner\")\n",
    "doc = nlp(test)\n",
    "\n",
    "options = dt.pretty_colors()\n",
    "spacy.displacy.render(doc, style=\"ent\", jupyter=True, options=options)"
   ]
  },
  {
   "cell_type": "markdown",
   "id": "0ab0aac9-e94b-4ccd-9c0b-047fb83d488a",
   "metadata": {},
   "source": [
    "### Geting more training samples from pubmed using entrez pubmed api"
   ]
  },
  {
   "cell_type": "code",
   "execution_count": 7,
   "id": "0c619e06-1a4f-40ce-b51e-abf4cd01df70",
   "metadata": {},
   "outputs": [
    {
     "name": "stderr",
     "output_type": "stream",
     "text": [
      "100%|██████████████████████████████████████████████████████████████████████████████████| 61/61 [00:47<00:00,  1.28it/s]\n"
     ]
    },
    {
     "data": {
      "text/plain": [
       "563"
      ]
     },
     "execution_count": 7,
     "metadata": {},
     "output_type": "execute_result"
    }
   ],
   "source": [
    "db = \"pubmed\"\n",
    "domain = \"https://www.ncbi.nlm.nih.gov/entrez/eutils\"\n",
    "retmode = \"json\"\n",
    "\n",
    "PMIDs = []\n",
    "stats = {}\n",
    "queries = []\n",
    "\n",
    "for year in range(1963,2024):\n",
    "    queries.append(f'(psychedelic anxiety depression) AND ((\"{year}/01/01\"[Date - Publication] : \"{year}/12/31\"[Date - Publication]))')\n",
    "\n",
    "\n",
    "for query in tqdm(queries):\n",
    "    nb = 0\n",
    "    queryLinkSearch = f\"{domain}/esearch.fcgi?db={db}&retmode={retmode}&retmax=15000&term={query}\"\n",
    "    response = requests.get(queryLinkSearch)\n",
    "    pubmed_json = response.json()\n",
    "    for id in pubmed_json[\"esearchresult\"][\"idlist\"]:\n",
    "        nb += 1\n",
    "        PMIDs.append(id)\n",
    "    stats[query[40:44]] = nb\n",
    "PMIDs = list(set(PMIDs))\n",
    "len(PMIDs)"
   ]
  },
  {
   "cell_type": "code",
   "execution_count": 8,
   "id": "598ad6ef-35e0-47c8-8e0b-2d4902a72f29",
   "metadata": {},
   "outputs": [
    {
     "data": {
      "image/png": "[encoded data removed]",
      "text/plain": [
       "<Figure size 1500x700 with 1 Axes>"
      ]
     },
     "metadata": {},
     "output_type": "display_data"
    }
   ],
   "source": [
    "years = list(stats.keys())\n",
    "values = list(stats.values())\n",
    "\n",
    "fig, ax = plt.subplots(figsize=(15, 7))\n",
    "\n",
    "ax.bar(years, values, color='#B4D4E7')\n",
    "\n",
    "ax.set_xlabel('Year')\n",
    "ax.set_ylabel('Number of publications')\n",
    "ax.set_title('Publications including words \"psychedelic\" \"anxiety\" \"depression\" per year')\n",
    "\n",
    "for i, value in enumerate(values):\n",
    "    ax.text(i, value, str(value), ha='center', va='bottom')\n",
    "\n",
    "plt.xticks(rotation=70)\n",
    "\n",
    "plt.show()"
   ]
  },
  {
   "cell_type": "markdown",
   "id": "cbb020aa-129c-49fd-b91d-bd0341b375f7",
   "metadata": {},
   "source": [
    "I will devide 561 article into train and test set so that in train set there will be 2/3 * 561 = 374 texts and in test set the ret texts"
   ]
  },
  {
   "cell_type": "code",
   "execution_count": 9,
   "id": "b8ad78cd-ac5d-4b84-81de-2685f9bec4f4",
   "metadata": {
    "tags": []
   },
   "outputs": [
    {
     "name": "stderr",
     "output_type": "stream",
     "text": [
      "  1%|▍                                                                                 | 2/374 [00:01<03:58,  1.56it/s]"
     ]
    },
    {
     "name": "stdout",
     "output_type": "stream",
     "text": [
      "No abstract\n"
     ]
    },
    {
     "name": "stderr",
     "output_type": "stream",
     "text": [
      "  1%|▉                                                                                 | 4/374 [00:02<04:13,  1.46it/s]"
     ]
    },
    {
     "name": "stdout",
     "output_type": "stream",
     "text": [
      "No abstract\n"
     ]
    },
    {
     "name": "stderr",
     "output_type": "stream",
     "text": [
      "  2%|█▎                                                                                | 6/374 [00:04<04:06,  1.50it/s]"
     ]
    },
    {
     "name": "stdout",
     "output_type": "stream",
     "text": [
      "No abstract\n"
     ]
    },
    {
     "name": "stderr",
     "output_type": "stream",
     "text": [
      "  7%|█████▋                                                                           | 26/374 [00:19<03:53,  1.49it/s]"
     ]
    },
    {
     "name": "stdout",
     "output_type": "stream",
     "text": [
      "No abstract\n"
     ]
    },
    {
     "name": "stderr",
     "output_type": "stream",
     "text": [
      "  8%|██████▍                                                                          | 30/374 [00:23<05:36,  1.02it/s]"
     ]
    },
    {
     "name": "stdout",
     "output_type": "stream",
     "text": [
      "No abstract\n"
     ]
    },
    {
     "name": "stderr",
     "output_type": "stream",
     "text": [
      " 10%|████████▏                                                                        | 38/374 [00:27<03:28,  1.61it/s]"
     ]
    },
    {
     "name": "stdout",
     "output_type": "stream",
     "text": [
      "No abstract\n"
     ]
    },
    {
     "name": "stderr",
     "output_type": "stream",
     "text": [
      " 17%|█████████████▍                                                                   | 62/374 [00:48<04:08,  1.25it/s]"
     ]
    },
    {
     "name": "stdout",
     "output_type": "stream",
     "text": [
      "No abstract\n"
     ]
    },
    {
     "name": "stderr",
     "output_type": "stream",
     "text": [
      " 17%|█████████████▋                                                                   | 63/374 [00:48<03:59,  1.30it/s]"
     ]
    },
    {
     "name": "stdout",
     "output_type": "stream",
     "text": [
      "No abstract\n"
     ]
    },
    {
     "name": "stderr",
     "output_type": "stream",
     "text": [
      " 22%|█████████████████▊                                                               | 82/374 [01:05<04:11,  1.16it/s]"
     ]
    },
    {
     "name": "stdout",
     "output_type": "stream",
     "text": [
      "No abstract\n"
     ]
    },
    {
     "name": "stderr",
     "output_type": "stream",
     "text": [
      " 25%|███████████████████▉                                                             | 92/374 [01:17<06:45,  1.44s/it]"
     ]
    },
    {
     "name": "stdout",
     "output_type": "stream",
     "text": [
      "No abstract\n"
     ]
    },
    {
     "name": "stderr",
     "output_type": "stream",
     "text": [
      " 36%|████████████████████████████▋                                                   | 134/374 [01:51<02:38,  1.51it/s]"
     ]
    },
    {
     "name": "stdout",
     "output_type": "stream",
     "text": [
      "No abstract\n"
     ]
    },
    {
     "name": "stderr",
     "output_type": "stream",
     "text": [
      " 38%|██████████████████████████████▌                                                 | 143/374 [01:58<03:15,  1.18it/s]"
     ]
    },
    {
     "name": "stdout",
     "output_type": "stream",
     "text": [
      "No abstract\n"
     ]
    },
    {
     "name": "stderr",
     "output_type": "stream",
     "text": [
      " 40%|███████████████████████████████▋                                                | 148/374 [02:03<03:07,  1.21it/s]"
     ]
    },
    {
     "name": "stdout",
     "output_type": "stream",
     "text": [
      "No abstract\n"
     ]
    },
    {
     "name": "stderr",
     "output_type": "stream",
     "text": [
      " 40%|███████████████████████████████▊                                                | 149/374 [02:03<02:44,  1.36it/s]"
     ]
    },
    {
     "name": "stdout",
     "output_type": "stream",
     "text": [
      "No abstract\n"
     ]
    },
    {
     "name": "stderr",
     "output_type": "stream",
     "text": [
      " 40%|████████████████████████████████▎                                               | 151/374 [02:06<03:33,  1.04it/s]"
     ]
    },
    {
     "name": "stdout",
     "output_type": "stream",
     "text": [
      "No abstract\n"
     ]
    },
    {
     "name": "stderr",
     "output_type": "stream",
     "text": [
      " 47%|█████████████████████████████████████▊                                          | 177/374 [02:25<02:10,  1.51it/s]"
     ]
    },
    {
     "name": "stdout",
     "output_type": "stream",
     "text": [
      "No abstract\n"
     ]
    },
    {
     "name": "stderr",
     "output_type": "stream",
     "text": [
      " 52%|█████████████████████████████████████████▋                                      | 195/374 [02:39<02:10,  1.37it/s]"
     ]
    },
    {
     "name": "stdout",
     "output_type": "stream",
     "text": [
      "No abstract\n"
     ]
    },
    {
     "name": "stderr",
     "output_type": "stream",
     "text": [
      " 59%|███████████████████████████████████████████████▍                                | 222/374 [03:01<02:00,  1.26it/s]"
     ]
    },
    {
     "name": "stdout",
     "output_type": "stream",
     "text": [
      "No abstract\n"
     ]
    },
    {
     "name": "stderr",
     "output_type": "stream",
     "text": [
      " 62%|█████████████████████████████████████████████████▊                              | 233/374 [03:09<01:43,  1.36it/s]"
     ]
    },
    {
     "name": "stdout",
     "output_type": "stream",
     "text": [
      "No abstract\n"
     ]
    },
    {
     "name": "stderr",
     "output_type": "stream",
     "text": [
      " 63%|██████████████████████████████████████████████████▎                             | 235/374 [03:10<01:30,  1.54it/s]"
     ]
    },
    {
     "name": "stdout",
     "output_type": "stream",
     "text": [
      "No abstract\n"
     ]
    },
    {
     "name": "stderr",
     "output_type": "stream",
     "text": [
      " 64%|███████████████████████████████████████████████████▎                            | 240/374 [03:14<02:04,  1.08it/s]"
     ]
    },
    {
     "name": "stdout",
     "output_type": "stream",
     "text": [
      "No abstract\n"
     ]
    },
    {
     "name": "stderr",
     "output_type": "stream",
     "text": [
      " 68%|██████████████████████████████████████████████████████▊                         | 256/374 [03:25<01:13,  1.60it/s]"
     ]
    },
    {
     "name": "stdout",
     "output_type": "stream",
     "text": [
      "No abstract\n"
     ]
    },
    {
     "name": "stderr",
     "output_type": "stream",
     "text": [
      " 72%|█████████████████████████████████████████████████████████▉                      | 271/374 [03:37<01:28,  1.17it/s]"
     ]
    },
    {
     "name": "stdout",
     "output_type": "stream",
     "text": [
      "No abstract\n"
     ]
    },
    {
     "name": "stderr",
     "output_type": "stream",
     "text": [
      " 76%|████████████████████████████████████████████████████████████▉                   | 285/374 [03:48<01:10,  1.26it/s]"
     ]
    },
    {
     "name": "stdout",
     "output_type": "stream",
     "text": [
      "No abstract\n"
     ]
    },
    {
     "name": "stderr",
     "output_type": "stream",
     "text": [
      " 78%|██████████████████████████████████████████████████████████████                  | 290/374 [03:53<01:32,  1.10s/it]"
     ]
    },
    {
     "name": "stdout",
     "output_type": "stream",
     "text": [
      "No abstract\n"
     ]
    },
    {
     "name": "stderr",
     "output_type": "stream",
     "text": [
      " 79%|███████████████████████████████████████████████████████████████▌                | 297/374 [03:59<01:11,  1.08it/s]"
     ]
    },
    {
     "name": "stdout",
     "output_type": "stream",
     "text": [
      "No abstract\n"
     ]
    },
    {
     "name": "stderr",
     "output_type": "stream",
     "text": [
      " 80%|███████████████████████████████████████████████████████████████▉                | 299/374 [04:00<01:03,  1.18it/s]"
     ]
    },
    {
     "name": "stdout",
     "output_type": "stream",
     "text": [
      "No abstract\n"
     ]
    },
    {
     "name": "stderr",
     "output_type": "stream",
     "text": [
      " 81%|████████████████████████████████████████████████████████████████▌               | 302/374 [04:04<01:04,  1.12it/s]"
     ]
    },
    {
     "name": "stdout",
     "output_type": "stream",
     "text": [
      "No abstract\n"
     ]
    },
    {
     "name": "stderr",
     "output_type": "stream",
     "text": [
      " 82%|█████████████████████████████████████████████████████████████████▏              | 305/374 [04:05<00:49,  1.39it/s]"
     ]
    },
    {
     "name": "stdout",
     "output_type": "stream",
     "text": [
      "No abstract\n"
     ]
    },
    {
     "name": "stderr",
     "output_type": "stream",
     "text": [
      " 83%|██████████████████████████████████████████████████████████████████▌             | 311/374 [04:11<00:56,  1.12it/s]"
     ]
    },
    {
     "name": "stdout",
     "output_type": "stream",
     "text": [
      "No abstract\n"
     ]
    },
    {
     "name": "stderr",
     "output_type": "stream",
     "text": [
      " 86%|████████████████████████████████████████████████████████████████████▍           | 320/374 [04:18<00:54,  1.02s/it]"
     ]
    },
    {
     "name": "stdout",
     "output_type": "stream",
     "text": [
      "No abstract\n"
     ]
    },
    {
     "name": "stderr",
     "output_type": "stream",
     "text": [
      " 89%|███████████████████████████████████████████████████████████████████████         | 332/374 [04:26<00:30,  1.38it/s]"
     ]
    },
    {
     "name": "stdout",
     "output_type": "stream",
     "text": [
      "No abstract\n"
     ]
    },
    {
     "name": "stderr",
     "output_type": "stream",
     "text": [
      " 92%|█████████████████████████████████████████████████████████████████████████▎      | 343/374 [04:34<00:22,  1.40it/s]"
     ]
    },
    {
     "name": "stdout",
     "output_type": "stream",
     "text": [
      "No abstract\n"
     ]
    },
    {
     "name": "stderr",
     "output_type": "stream",
     "text": [
      " 93%|██████████████████████████████████████████████████████████████████████████▍     | 348/374 [04:37<00:15,  1.70it/s]"
     ]
    },
    {
     "name": "stdout",
     "output_type": "stream",
     "text": [
      "No abstract\n"
     ]
    },
    {
     "name": "stderr",
     "output_type": "stream",
     "text": [
      " 93%|██████████████████████████████████████████████████████████████████████████▋     | 349/374 [04:38<00:14,  1.68it/s]"
     ]
    },
    {
     "name": "stdout",
     "output_type": "stream",
     "text": [
      "No abstract\n"
     ]
    },
    {
     "name": "stderr",
     "output_type": "stream",
     "text": [
      " 96%|████████████████████████████████████████████████████████████████████████████▌   | 358/374 [04:45<00:12,  1.28it/s]"
     ]
    },
    {
     "name": "stdout",
     "output_type": "stream",
     "text": [
      "No abstract\n"
     ]
    },
    {
     "name": "stderr",
     "output_type": "stream",
     "text": [
      " 99%|███████████████████████████████████████████████████████████████████████████████▌| 372/374 [04:57<00:01,  1.32it/s]"
     ]
    },
    {
     "name": "stdout",
     "output_type": "stream",
     "text": [
      "No abstract\n"
     ]
    },
    {
     "name": "stderr",
     "output_type": "stream",
     "text": [
      "100%|████████████████████████████████████████████████████████████████████████████████| 374/374 [04:59<00:00,  1.25it/s]\n"
     ]
    }
   ],
   "source": [
    "abstracts = []\n",
    "\n",
    "count = 0\n",
    "for PMID in tqdm(PMIDs[:374]):\n",
    "    count += 1\n",
    "    if count % 10 == 0:\n",
    "        time.sleep(1)\n",
    "        \n",
    "    summary = dt.get_summary(PMID)\n",
    "    abstract = dt.get_abstract_from_summary(summary)\n",
    "    \n",
    "    abstracts.append(abstract)\n"
   ]
  },
  {
   "cell_type": "code",
   "execution_count": 10,
   "id": "cc244b0f-4eac-450f-bc6a-a6d28b9c72b6",
   "metadata": {
    "tags": []
   },
   "outputs": [
    {
     "name": "stderr",
     "output_type": "stream",
     "text": [
      "  1%|▍                                                                                 | 1/189 [00:00<01:47,  1.74it/s]"
     ]
    },
    {
     "name": "stdout",
     "output_type": "stream",
     "text": [
      "No abstract\n"
     ]
    },
    {
     "name": "stderr",
     "output_type": "stream",
     "text": [
      "  2%|█▎                                                                                | 3/189 [00:01<01:49,  1.70it/s]"
     ]
    },
    {
     "name": "stdout",
     "output_type": "stream",
     "text": [
      "No abstract\n"
     ]
    },
    {
     "name": "stderr",
     "output_type": "stream",
     "text": [
      "  2%|█▋                                                                                | 4/189 [00:02<01:50,  1.68it/s]"
     ]
    },
    {
     "name": "stdout",
     "output_type": "stream",
     "text": [
      "No abstract\n"
     ]
    },
    {
     "name": "stderr",
     "output_type": "stream",
     "text": [
      " 15%|████████████▍                                                                    | 29/189 [00:20<01:40,  1.59it/s]"
     ]
    },
    {
     "name": "stdout",
     "output_type": "stream",
     "text": [
      "No abstract\n"
     ]
    },
    {
     "name": "stderr",
     "output_type": "stream",
     "text": [
      " 18%|██████████████▌                                                                  | 34/189 [00:25<01:47,  1.45it/s]"
     ]
    },
    {
     "name": "stdout",
     "output_type": "stream",
     "text": [
      "No abstract\n"
     ]
    },
    {
     "name": "stderr",
     "output_type": "stream",
     "text": [
      " 19%|███████████████                                                                  | 35/189 [00:25<01:48,  1.42it/s]"
     ]
    },
    {
     "name": "stdout",
     "output_type": "stream",
     "text": [
      "No abstract\n"
     ]
    },
    {
     "name": "stderr",
     "output_type": "stream",
     "text": [
      " 19%|███████████████▍                                                                 | 36/189 [00:26<01:45,  1.44it/s]"
     ]
    },
    {
     "name": "stdout",
     "output_type": "stream",
     "text": [
      "No abstract\n"
     ]
    },
    {
     "name": "stderr",
     "output_type": "stream",
     "text": [
      " 24%|███████████████████▋                                                             | 46/189 [00:33<01:30,  1.58it/s]"
     ]
    },
    {
     "name": "stdout",
     "output_type": "stream",
     "text": [
      "No abstract\n"
     ]
    },
    {
     "name": "stderr",
     "output_type": "stream",
     "text": [
      " 34%|███████████████████████████▍                                                     | 64/189 [00:47<01:28,  1.41it/s]"
     ]
    },
    {
     "name": "stdout",
     "output_type": "stream",
     "text": [
      "No abstract\n"
     ]
    },
    {
     "name": "stderr",
     "output_type": "stream",
     "text": [
      " 36%|█████████████████████████████▏                                                   | 68/189 [00:49<01:17,  1.56it/s]"
     ]
    },
    {
     "name": "stdout",
     "output_type": "stream",
     "text": [
      "No abstract\n"
     ]
    },
    {
     "name": "stderr",
     "output_type": "stream",
     "text": [
      " 46%|█████████████████████████████████████▎                                           | 87/189 [01:04<01:10,  1.45it/s]"
     ]
    },
    {
     "name": "stdout",
     "output_type": "stream",
     "text": [
      "No abstract\n"
     ]
    },
    {
     "name": "stderr",
     "output_type": "stream",
     "text": [
      " 49%|███████████████████████████████████████▊                                         | 93/189 [01:09<01:08,  1.39it/s]"
     ]
    },
    {
     "name": "stdout",
     "output_type": "stream",
     "text": [
      "No abstract\n"
     ]
    },
    {
     "name": "stderr",
     "output_type": "stream",
     "text": [
      " 60%|████████████████████████████████████████████████▎                               | 114/189 [01:24<00:52,  1.43it/s]"
     ]
    },
    {
     "name": "stdout",
     "output_type": "stream",
     "text": [
      "No abstract\n"
     ]
    },
    {
     "name": "stderr",
     "output_type": "stream",
     "text": [
      " 70%|████████████████████████████████████████████████████████▎                       | 133/189 [01:37<00:38,  1.45it/s]"
     ]
    },
    {
     "name": "stdout",
     "output_type": "stream",
     "text": [
      "No abstract\n"
     ]
    },
    {
     "name": "stderr",
     "output_type": "stream",
     "text": [
      " 72%|█████████████████████████████████████████████████████████▌                      | 136/189 [01:39<00:32,  1.63it/s]"
     ]
    },
    {
     "name": "stdout",
     "output_type": "stream",
     "text": [
      "No abstract\n"
     ]
    },
    {
     "name": "stderr",
     "output_type": "stream",
     "text": [
      "100%|████████████████████████████████████████████████████████████████████████████████| 189/189 [02:21<00:00,  1.34it/s]\n"
     ]
    }
   ],
   "source": [
    "abstracts_valid = []\n",
    "\n",
    "count = 0\n",
    "for PMID in tqdm(PMIDs[374:]):\n",
    "    count += 1\n",
    "    if count % 10 == 0:\n",
    "        time.sleep(1)\n",
    "        \n",
    "    summary = dt.get_summary(PMID)\n",
    "    abstract = dt.get_abstract_from_summary(summary)\n",
    "    \n",
    "    abstracts_valid.append(abstract)"
   ]
  },
  {
   "cell_type": "code",
   "execution_count": 28,
   "id": "7d84ccde-4b05-405d-b5c7-bf01c7bbe39a",
   "metadata": {},
   "outputs": [
    {
     "name": "stderr",
     "output_type": "stream",
     "text": [
      "100%|███████████████████████████████████████████████████████████████████████████████| 374/374 [00:01<00:00, 188.58it/s]\n"
     ]
    },
    {
     "data": {
      "text/plain": [
       "2"
      ]
     },
     "execution_count": 28,
     "metadata": {},
     "output_type": "execute_result"
    }
   ],
   "source": [
    "nlp = spacy.load(\"annotation_ner\")\n",
    "TRAIN_DATA = {\"classes\": [\"ANXIETY DISORDERS\",\n",
    "        \"BIPOLAR DISORDERS\",\n",
    "        \"DEPRESSIVE DISORDERS\",\n",
    "        \"DISSOCIATIVE DISORDERS\",\n",
    "        \"PSYCHEDELIC DRUGS\",\n",
    "        \"EATING DISORDERS\",\n",
    "        \"NEURO-COGNITIVE DISORDERS\",\n",
    "        \"NEURO-DEVELOPMENTAL DISORDERS\",\n",
    "        \"NON-SUBSTANCE RELATED DISORDERS\",\n",
    "        \"OBSESSIVE-COMPULSIVE AND RELATED DISORDERS\",\n",
    "        \"OTHER DISORDERS\",\n",
    "        \"PARAPHILIAS\",\n",
    "        \"PERSONALITY DISORDERS\",\n",
    "        \"SCHIZOPHRENIA SPECTRUM AND OTHER PSYCHOTIC DISORDERS\",\n",
    "        \"SEXUAL DYSFUNCTIONS\",\n",
    "        \"SLEEP-WAKE DISORDERS\",\n",
    "        \"SOMATIC SYMPTOM RELATED DISORDERS\",\n",
    "        \"SUBSTANCE-RELATED DISORDERS\",\n",
    "        \"TRAUMA AND STRESS RELATED DISORDERS\",\n",
    "        \"ELIMINATION DISORDERS\",\n",
    "        \"DISRUPTIVE IMPULSE-CONTROL, AND CONDUCT DISORDERS\",\n",
    "        \"SYMPTOMS\"], \n",
    "              \"annotations\": []}\n",
    "for abstract in tqdm(abstracts):\n",
    "    if abstract != None and abstract != '' and abstract != ' ' and abstract != '\\n':\n",
    "        #dt.test_model(nlp, abstract, 'test.txt')\n",
    "        result = dt.test_model(nlp, abstract)\n",
    "        if len(result) != 0:\n",
    "            TRAIN_DATA[\"annotations\"].append(result)\n",
    "len(TRAIN_DATA)"
   ]
  },
  {
   "cell_type": "code",
   "execution_count": 29,
   "id": "12265b76-6163-4a5a-9bc5-7630a8faa347",
   "metadata": {},
   "outputs": [
    {
     "data": {
      "text/plain": [
       "331"
      ]
     },
     "execution_count": 29,
     "metadata": {},
     "output_type": "execute_result"
    }
   ],
   "source": [
    "len(TRAIN_DATA[\"annotations\"])"
   ]
  },
  {
   "cell_type": "code",
   "execution_count": 30,
   "id": "de9527d6-3568-4572-9fa5-5899c79e7b32",
   "metadata": {},
   "outputs": [],
   "source": [
    "dt.save_data(\"data/train_data.json\", TRAIN_DATA)"
   ]
  },
  {
   "cell_type": "code",
   "execution_count": 31,
   "id": "92b5ecb5-a988-4a7b-b018-1f1188c5861b",
   "metadata": {},
   "outputs": [
    {
     "name": "stderr",
     "output_type": "stream",
     "text": [
      "100%|███████████████████████████████████████████████████████████████████████████████| 189/189 [00:01<00:00, 156.60it/s]\n"
     ]
    },
    {
     "data": {
      "text/plain": [
       "2"
      ]
     },
     "execution_count": 31,
     "metadata": {},
     "output_type": "execute_result"
    }
   ],
   "source": [
    "nlp = spacy.load(\"annotation_ner\")\n",
    "TEST_DATA = {\"classes\": [\"ANXIETY DISORDERS\",\n",
    "        \"BIPOLAR DISORDERS\",\n",
    "        \"DEPRESSIVE DISORDERS\",\n",
    "        \"DISSOCIATIVE DISORDERS\",\n",
    "        \"PSYCHEDELIC DRUGS\",\n",
    "        \"EATING DISORDERS\",\n",
    "        \"NEURO-COGNITIVE DISORDERS\",\n",
    "        \"NEURO-DEVELOPMENTAL DISORDERS\",\n",
    "        \"NON-SUBSTANCE RELATED DISORDERS\",\n",
    "        \"OBSESSIVE-COMPULSIVE AND RELATED DISORDERS\",\n",
    "        \"OTHER DISORDERS\",\n",
    "        \"PARAPHILIAS\",\n",
    "        \"PERSONALITY DISORDERS\",\n",
    "        \"SCHIZOPHRENIA SPECTRUM AND OTHER PSYCHOTIC DISORDERS\",\n",
    "        \"SEXUAL DYSFUNCTIONS\",\n",
    "        \"SLEEP-WAKE DISORDERS\",\n",
    "        \"SOMATIC SYMPTOM RELATED DISORDERS\",\n",
    "        \"SUBSTANCE-RELATED DISORDERS\",\n",
    "        \"TRAUMA AND STRESS RELATED DISORDERS\",\n",
    "        \"ELIMINATION DISORDERS\",\n",
    "        \"DISRUPTIVE IMPULSE-CONTROL, AND CONDUCT DISORDERS\",\n",
    "        \"SYMPTOMS\"], \n",
    "              \"annotations\": []}\n",
    "for abstract in tqdm(abstracts_valid):\n",
    "    if abstract != None and abstract != '' and abstract != ' ' and abstract != '\\n':\n",
    "        result = dt.test_model(nlp, abstract)\n",
    "        if len(result) != 0:\n",
    "            TEST_DATA[\"annotations\"].append(result)\n",
    "len(TEST_DATA)"
   ]
  },
  {
   "cell_type": "code",
   "execution_count": 32,
   "id": "f5d2e4e1-edd4-4449-b3bb-e5308165a43e",
   "metadata": {},
   "outputs": [
    {
     "data": {
      "text/plain": [
       "169"
      ]
     },
     "execution_count": 32,
     "metadata": {},
     "output_type": "execute_result"
    }
   ],
   "source": [
    "len(TEST_DATA[\"annotations\"])"
   ]
  },
  {
   "cell_type": "code",
   "execution_count": 33,
   "id": "ea8be402-b2ac-4b2d-b455-2b681bac03e1",
   "metadata": {},
   "outputs": [],
   "source": [
    "dt.save_data(\"data/test_data.json\", TEST_DATA)"
   ]
  },
  {
   "cell_type": "code",
   "execution_count": 38,
   "id": "e5a5e063-fa29-450e-8c06-320b4712c6e6",
   "metadata": {},
   "outputs": [],
   "source": [
    "nlp = spacy.blank(\"en\")\n",
    "def v3_train(data):\n",
    "    db = DocBin()  # Create a DocBin object\n",
    "    annotations = tqdm(data[\"annotations\"])\n",
    "    for text, annot in annotations:\n",
    "        doc = nlp.make_doc(text)  # Create doc object from text\n",
    "        ents = []\n",
    "        for start, end, label in annot[\"entities\"]:  # Add character indexes\n",
    "            span = doc.char_span(start, end, label=label, alignment_mode=\"contract\")\n",
    "            if span is None:\n",
    "                print(\"Skipping entity\")\n",
    "            else:\n",
    "                ents.append(span)\n",
    "        doc.ents = ents  # Label the text with the ents\n",
    "        db.add(doc)\n",
    "    return db"
   ]
  },
  {
   "cell_type": "code",
   "execution_count": 39,
   "id": "7bb44d75-4a98-4ea1-9ae4-1fa102e2710d",
   "metadata": {},
   "outputs": [
    {
     "name": "stderr",
     "output_type": "stream",
     "text": [
      "100%|███████████████████████████████████████████████████████████████████████████████| 331/331 [00:01<00:00, 188.31it/s]\n"
     ]
    }
   ],
   "source": [
    "TRAIN_DATA = v3_train(TRAIN_DATA)\n",
    "TRAIN_DATA.to_disk(\"data/train.spacy\")"
   ]
  },
  {
   "cell_type": "code",
   "execution_count": 40,
   "id": "ac8e31fb-e58e-469b-9f8f-bbd4e8a8c510",
   "metadata": {},
   "outputs": [
    {
     "name": "stderr",
     "output_type": "stream",
     "text": [
      "100%|███████████████████████████████████████████████████████████████████████████████| 169/169 [00:01<00:00, 147.69it/s]\n"
     ]
    }
   ],
   "source": [
    "TEST_DATA = v3_train(TEST_DATA)\n",
    "TEST_DATA.to_disk(\"data/test.spacy\")"
   ]
  }
 ],
 "metadata": {
  "kernelspec": {
   "display_name": "Python 3 (ipykernel)",
   "language": "python",
   "name": "python3"
  },
  "language_info": {
   "codemirror_mode": {
    "name": "ipython",
    "version": 3
   },
   "file_extension": ".py",
   "mimetype": "text/x-python",
   "name": "python",
   "nbconvert_exporter": "python",
   "pygments_lexer": "ipython3",
   "version": "3.9.13"
  }
 },
 "nbformat": 4,
 "nbformat_minor": 5
}
