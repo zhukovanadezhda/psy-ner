{
 "cells": [
  {
   "cell_type": "markdown",
   "id": "516a7f18-5929-458f-929d-ed06709a8c70",
   "metadata": {},
   "source": [
    "# Creating a training dataset by applying a rule-based model to a set of texts"
   ]
  },
  {
   "cell_type": "code",
   "execution_count": 62,
   "id": "7f36362b-d7d9-44a0-b873-83a56a4a964a",
   "metadata": {},
   "outputs": [],
   "source": [
    "import spacy\n",
    "from spacy.lang.en import English\n",
    "from spacy.pipeline import EntityRuler\n",
    "from spacy.tokens import DocBin\n",
    "from spacy import displacy\n",
    "import json\n",
    "import os\n",
    "import re\n",
    "import random\n",
    "import matplotlib.pyplot as plt\n",
    "import numpy as np\n",
    "import os\n",
    "import pandas as pd\n",
    "import requests\n",
    "import warnings\n",
    "import xmltodict\n",
    "from datetime import datetime\n",
    "import time\n",
    "from tqdm import tqdm\n",
    "\n",
    "%reload_ext autoreload\n",
    "%autoreload 2\n",
    "import datahelper as dt"
   ]
  },
  {
   "cell_type": "markdown",
   "id": "878298a6-afc2-44cf-9bfe-cbb51b7d2adb",
   "metadata": {},
   "source": [
    "### Creating labeled vocabulary in json format"
   ]
  },
  {
   "cell_type": "code",
   "execution_count": 2,
   "id": "37035db3-22f2-4f4a-b464-a4ac4c1f38d4",
   "metadata": {},
   "outputs": [
    {
     "name": "stderr",
     "output_type": "stream",
     "text": [
      "100%|██████████████████████████████████████████████████████████████████████████████████| 22/22 [00:07<00:00,  3.14it/s]\n"
     ]
    }
   ],
   "source": [
    "dir_path = f\"{os.getcwd()}\\\\data_txt\"\n",
    "txt_files = [f for f in os.listdir(dir_path) if f.endswith(\".txt\")]\n",
    "\n",
    "for file in tqdm(txt_files):\n",
    "    dt.upgrade_data(f\"data_txt/{file}\")\n",
    "    dt.delete_dublicates(f\"data_txt/{file}\")\n",
    "    with open (f\"data_txt/{file}\", \"r\", encoding=\"utf-8\") as f:\n",
    "        names = []\n",
    "        for line in f.readlines():\n",
    "            if line.strip() != '':\n",
    "                names.append(line.strip())\n",
    "        names = list(set(names))\n",
    "    dt.save_data(f\"data_json/{file[:-4]}.json\", names)"
   ]
  },
  {
   "cell_type": "code",
   "execution_count": 4,
   "id": "75595fee-5fd7-4bee-ac75-3fb4ccc4ba6b",
   "metadata": {},
   "outputs": [],
   "source": [
    "labels = {\"anxiety\":\"ANXIETY DISORDERS\", \n",
    "          'bipolar':'BIPOLAR DISORDERS', \n",
    "          'depressive':\"DEPRESSIVE DISORDERS\", \n",
    "          'dissociative': \"DISSOCIATIVE DISORDERS\", \n",
    "          'drugs': \"PSYCHEDELIC DRUGS\", \n",
    "          'eating':\"EATING DISORDERS\", \n",
    "          'neurocog':\"NEURO-COGNITIVE DISORDERS\",\n",
    "          'neurodev':\"NEURO-DEVELOPMENTAL DISORDERS\", \n",
    "          'nonsubstance':\"NON-SUBSTANCE RELATED DISORDERS\", \n",
    "          'ocd':\"OBSESSIVE-COMPULSIVE AND RELATED DISORDERS\", \n",
    "          'other':\"OTHER DISORDERS\", \n",
    "          'paraphilias':\"PARAPHILIAS\",  \n",
    "          'personality':\"PERSONALITY DISORDERS\", \n",
    "          'schizophrenia':\"SCHIZOPHRENIA SPECTRUM AND OTHER PSYCHOTIC DISORDERS\", \n",
    "          'sexual':\"SEXUAL DYSFUNCTIONS\", \n",
    "          'sleep':\"SLEEP-WAKE DISORDERS\", \n",
    "          'somatic':\"SOMATIC SYMPTOM RELATED DISORDERS\", \n",
    "          'substance':\"SUBSTANCE-RELATED DISORDERS\", \n",
    "          'trauma':\"TRAUMA AND STRESS RELATED DISORDERS\",\n",
    "          'elimination':\"ELIMINATION DISORDERS\",\n",
    "          'disruptive':\"DISRUPTIVE IMPULSE-CONTROL, AND CONDUCT DISORDERS\",\n",
    "          'symptoms':'SYMPTOMS'}"
   ]
  },
  {
   "cell_type": "code",
   "execution_count": 63,
   "id": "9b81d466-85ef-4617-8bee-08d11e7f501b",
   "metadata": {},
   "outputs": [
    {
     "name": "stderr",
     "output_type": "stream",
     "text": [
      "100%|████████████████████████████████████████████████████████████████████████████████| 22/22 [00:00<00:00, 1933.43it/s]\n"
     ]
    }
   ],
   "source": [
    "patterns = []\n",
    "for file in tqdm(txt_files):\n",
    "    patterns = dt.create_training_data(patterns, f\"data_json/{file[:-4]}.json\", labels[file[:-4]])\n",
    "dt.generate_rules(patterns)"
   ]
  },
  {
   "cell_type": "markdown",
   "id": "ef260ba8-097c-45a1-9d43-d848d04b7bec",
   "metadata": {},
   "source": [
    "### Testing on a test sample"
   ]
  },
  {
   "cell_type": "code",
   "execution_count": 64,
   "id": "76ee8dd7-c5b2-417c-8131-658d10455a61",
   "metadata": {},
   "outputs": [],
   "source": [
    "test=\"\"\"After a decades-long pause, psychedelics are again being intensely investigated for treating a wide range of \n",
    "        neuropsychiatric ailments including depression, anxiety, addiction, post-traumatic stress disorder, anorexia, \n",
    "        and chronic pain syndromes. The classic serotonergic psychedelics psilocybin and lysergic acid diethylamide and \n",
    "        nonclassic psychedelics 3,4-methylenedioxymethamphetamine and ketamine are increasingly appreciated as neuroplastogens \n",
    "        given their potential to fundamentally alter mood and behavior well beyond the time window of measurable exposure. \n",
    "        Imaging studies with psychedelics are also helping advance our understanding of neural networks and connectomics. \n",
    "        This resurgence in psychedelic science and psychedelic-assisted therapy has potential significance for the fields of \n",
    "        neurosurgery and neuro-oncology and their diverse and challenging patients, many of whom continue to have mental health \n",
    "        issues and poor quality of life despite receiving state-of-the-art care. In this study, we review recent and ongoing \n",
    "        clinical trials, the set and setting model of psychedelic-assisted therapy, potential risks and adverse events, proposed \n",
    "        mechanisms of action, and provide a perspective on how the safe and evidence-based use of psychedelics could potentially \n",
    "        benefit many patients, including those with brain tumors, pain syndromes, ruminative disorders, stroke, SAH, TBI, and \n",
    "        movement disorders. By leveraging psychedelics' neuroplastic potential to rehabilitate the mind and brain, novel \n",
    "        treatments may be possible for many of these patient populations, in some instances working synergistically with current \n",
    "        treatments and in some using subpsychedelic doses that do not require mind-altering effects for efficacy. This review aims \n",
    "        to encourage broader multidisciplinary collaboration across the neurosciences to explore and help realize the transdiagnostic \n",
    "        healing potential of psychedelics.\"\"\"\n",
    "test = re.sub(\"[\\n ]+\", \" \", test)"
   ]
  },
  {
   "cell_type": "code",
   "execution_count": 65,
   "id": "db78fe0b-73f2-4d9d-829b-fe4d6dfbca98",
   "metadata": {
    "tags": []
   },
   "outputs": [
    {
     "data": {
      "text/html": [
       "<span class=\"tex2jax_ignore\"><div class=\"entities\" style=\"line-height: 2.5; direction: ltr\">After a decades-long pause, psychedelics are again being intensely investigated for treating a wide range of neuropsychiatric ailments including \n",
       "<mark class=\"entity\" style=\"background: #C7CEEA; padding: 0.45em 0.6em; margin: 0 0.25em; line-height: 1; border-radius: 0.35em;\">\n",
       "    depression\n",
       "    <span style=\"font-size: 0.8em; font-weight: bold; line-height: 1; border-radius: 0.35em; vertical-align: middle; margin-left: 0.5rem\">DEPRESSIVE DISORDERS</span>\n",
       "</mark>\n",
       ", \n",
       "<mark class=\"entity\" style=\"background: #F6A5C0; padding: 0.45em 0.6em; margin: 0 0.25em; line-height: 1; border-radius: 0.35em;\">\n",
       "    anxiety\n",
       "    <span style=\"font-size: 0.8em; font-weight: bold; line-height: 1; border-radius: 0.35em; vertical-align: middle; margin-left: 0.5rem\">ANXIETY DISORDERS</span>\n",
       "</mark>\n",
       ", \n",
       "<mark class=\"entity\" style=\"background: #C3B7B7; padding: 0.45em 0.6em; margin: 0 0.25em; line-height: 1; border-radius: 0.35em;\">\n",
       "    addiction\n",
       "    <span style=\"font-size: 0.8em; font-weight: bold; line-height: 1; border-radius: 0.35em; vertical-align: middle; margin-left: 0.5rem\">SYMPTOMS</span>\n",
       "</mark>\n",
       ", \n",
       "<mark class=\"entity\" style=\"background: #D1D2C9; padding: 0.45em 0.6em; margin: 0 0.25em; line-height: 1; border-radius: 0.35em;\">\n",
       "    post-traumatic stress disorder\n",
       "    <span style=\"font-size: 0.8em; font-weight: bold; line-height: 1; border-radius: 0.35em; vertical-align: middle; margin-left: 0.5rem\">TRAUMA AND STRESS RELATED DISORDERS</span>\n",
       "</mark>\n",
       ", \n",
       "<mark class=\"entity\" style=\"background: #F7E5C8; padding: 0.45em 0.6em; margin: 0 0.25em; line-height: 1; border-radius: 0.35em;\">\n",
       "    anorexia\n",
       "    <span style=\"font-size: 0.8em; font-weight: bold; line-height: 1; border-radius: 0.35em; vertical-align: middle; margin-left: 0.5rem\">EATING DISORDERS</span>\n",
       "</mark>\n",
       ", and \n",
       "<mark class=\"entity\" style=\"background: #B4D4E7; padding: 0.45em 0.6em; margin: 0 0.25em; line-height: 1; border-radius: 0.35em;\">\n",
       "    chronic pain\n",
       "    <span style=\"font-size: 0.8em; font-weight: bold; line-height: 1; border-radius: 0.35em; vertical-align: middle; margin-left: 0.5rem\">SOMATIC SYMPTOM RELATED DISORDERS</span>\n",
       "</mark>\n",
       " syndromes. The classic \n",
       "<mark class=\"entity\" style=\"background: #D3BCC0; padding: 0.45em 0.6em; margin: 0 0.25em; line-height: 1; border-radius: 0.35em;\">\n",
       "    serotonergic psychedelics\n",
       "    <span style=\"font-size: 0.8em; font-weight: bold; line-height: 1; border-radius: 0.35em; vertical-align: middle; margin-left: 0.5rem\">PSYCHEDELIC DRUGS</span>\n",
       "</mark>\n",
       " \n",
       "<mark class=\"entity\" style=\"background: #D3BCC0; padding: 0.45em 0.6em; margin: 0 0.25em; line-height: 1; border-radius: 0.35em;\">\n",
       "    psilocybin\n",
       "    <span style=\"font-size: 0.8em; font-weight: bold; line-height: 1; border-radius: 0.35em; vertical-align: middle; margin-left: 0.5rem\">PSYCHEDELIC DRUGS</span>\n",
       "</mark>\n",
       " and \n",
       "<mark class=\"entity\" style=\"background: #D3BCC0; padding: 0.45em 0.6em; margin: 0 0.25em; line-height: 1; border-radius: 0.35em;\">\n",
       "    lysergic acid diethylamide\n",
       "    <span style=\"font-size: 0.8em; font-weight: bold; line-height: 1; border-radius: 0.35em; vertical-align: middle; margin-left: 0.5rem\">PSYCHEDELIC DRUGS</span>\n",
       "</mark>\n",
       " and nonclassic psychedelics \n",
       "<mark class=\"entity\" style=\"background: #D3BCC0; padding: 0.45em 0.6em; margin: 0 0.25em; line-height: 1; border-radius: 0.35em;\">\n",
       "    3,4-methylenedioxymethamphetamine\n",
       "    <span style=\"font-size: 0.8em; font-weight: bold; line-height: 1; border-radius: 0.35em; vertical-align: middle; margin-left: 0.5rem\">PSYCHEDELIC DRUGS</span>\n",
       "</mark>\n",
       " and \n",
       "<mark class=\"entity\" style=\"background: #D3BCC0; padding: 0.45em 0.6em; margin: 0 0.25em; line-height: 1; border-radius: 0.35em;\">\n",
       "    ketamine\n",
       "    <span style=\"font-size: 0.8em; font-weight: bold; line-height: 1; border-radius: 0.35em; vertical-align: middle; margin-left: 0.5rem\">PSYCHEDELIC DRUGS</span>\n",
       "</mark>\n",
       " are increasingly appreciated as neuroplastogens given their potential to fundamentally alter mood and behavior well beyond the time window of measurable exposure. Imaging studies with psychedelics are also helping advance our understanding of neural networks and connectomics. This resurgence in psychedelic science and psychedelic-assisted therapy has potential significance for the fields of neurosurgery and neuro-oncology and their diverse and challenging patients, many of whom continue to have mental health issues and poor quality of life despite receiving state-of-the-art care. In this study, we review recent and ongoing clinical trials, the set and setting model of psychedelic-assisted therapy, potential risks and adverse events, proposed mechanisms of action, and provide a perspective on how the safe and evidence-based use of psychedelics could potentially benefit many patients, including those with brain tumors, \n",
       "<mark class=\"entity\" style=\"background: #B4D4E7; padding: 0.45em 0.6em; margin: 0 0.25em; line-height: 1; border-radius: 0.35em;\">\n",
       "    pain syndromes\n",
       "    <span style=\"font-size: 0.8em; font-weight: bold; line-height: 1; border-radius: 0.35em; vertical-align: middle; margin-left: 0.5rem\">SOMATIC SYMPTOM RELATED DISORDERS</span>\n",
       "</mark>\n",
       ", ruminative disorders, stroke, SAH, TBI, and movement disorders. By leveraging psychedelics' neuroplastic potential to rehabilitate the mind and brain, novel treatments may be possible for many of these patient populations, in some instances working synergistically with current treatments and in some using subpsychedelic doses that do not require mind-altering effects for efficacy. This review aims to encourage broader multidisciplinary collaboration across the neurosciences to explore and help realize the transdiagnostic healing potential of psychedelics.</div></span>"
      ],
      "text/plain": [
       "<IPython.core.display.HTML object>"
      ]
     },
     "metadata": {},
     "output_type": "display_data"
    }
   ],
   "source": [
    "nlp = spacy.load(\"annotation_ner\")\n",
    "doc = nlp(test)\n",
    "\n",
    "options = dt.pretty_colors()\n",
    "spacy.displacy.render(doc, style=\"ent\", jupyter=True, options=options)"
   ]
  },
  {
   "cell_type": "markdown",
   "id": "0ab0aac9-e94b-4ccd-9c0b-047fb83d488a",
   "metadata": {},
   "source": [
    "### Geting more training samples from pubmed using entrez pubmed api"
   ]
  },
  {
   "cell_type": "code",
   "execution_count": 13,
   "id": "0c619e06-1a4f-40ce-b51e-abf4cd01df70",
   "metadata": {},
   "outputs": [
    {
     "name": "stderr",
     "output_type": "stream",
     "text": [
      "100%|██████████████████████████████████████████████████████████████████████████████████| 61/61 [00:52<00:00,  1.17it/s]\n"
     ]
    },
    {
     "data": {
      "text/plain": [
       "561"
      ]
     },
     "execution_count": 13,
     "metadata": {},
     "output_type": "execute_result"
    }
   ],
   "source": [
    "db = \"pubmed\"\n",
    "domain = \"https://www.ncbi.nlm.nih.gov/entrez/eutils\"\n",
    "retmode = \"json\"\n",
    "\n",
    "PMIDs = []\n",
    "stats = {}\n",
    "queries = []\n",
    "\n",
    "for year in range(1963,2024):\n",
    "    queries.append(f'(psychedelic anxiety depression) AND ((\"{year}/01/01\"[Date - Publication] : \"{year}/12/31\"[Date - Publication]))')\n",
    "\n",
    "\n",
    "for query in tqdm(queries):\n",
    "    nb = 0\n",
    "    queryLinkSearch = f\"{domain}/esearch.fcgi?db={db}&retmode={retmode}&retmax=15000&term={query}\"\n",
    "    response = requests.get(queryLinkSearch)\n",
    "    pubmed_json = response.json()\n",
    "    for id in pubmed_json[\"esearchresult\"][\"idlist\"]:\n",
    "        nb += 1\n",
    "        PMIDs.append(id)\n",
    "    stats[query[40:44]] = nb\n",
    "PMIDs = list(set(PMIDs))\n",
    "len(PMIDs)"
   ]
  },
  {
   "cell_type": "code",
   "execution_count": 14,
   "id": "598ad6ef-35e0-47c8-8e0b-2d4902a72f29",
   "metadata": {},
   "outputs": [
    {
     "data": {
      "image/png": "[encoded data removed]",
      "text/plain": [
       "<Figure size 1500x700 with 1 Axes>"
      ]
     },
     "metadata": {},
     "output_type": "display_data"
    }
   ],
   "source": [
    "years = list(stats.keys())\n",
    "values = list(stats.values())\n",
    "\n",
    "fig, ax = plt.subplots(figsize=(15, 7))\n",
    "\n",
    "ax.bar(years, values, color='#B4D4E7')\n",
    "\n",
    "ax.set_xlabel('Year')\n",
    "ax.set_ylabel('Number of publications')\n",
    "ax.set_title('Publications including words \"psychedelic\" \"anxiety\" \"depression\" per year')\n",
    "\n",
    "for i, value in enumerate(values):\n",
    "    ax.text(i, value, str(value), ha='center', va='bottom')\n",
    "\n",
    "plt.xticks(rotation=70)\n",
    "\n",
    "plt.show()"
   ]
  },
  {
   "cell_type": "markdown",
   "id": "cbb020aa-129c-49fd-b91d-bd0341b375f7",
   "metadata": {},
   "source": [
    "I will devide 561 article into train and test set so that in train set there will be 2/3 * 561 = 374 texts and in test set the ret texts"
   ]
  },
  {
   "cell_type": "code",
   "execution_count": 15,
   "id": "b8ad78cd-ac5d-4b84-81de-2685f9bec4f4",
   "metadata": {
    "collapsed": true,
    "jupyter": {
     "outputs_hidden": true
    },
    "tags": []
   },
   "outputs": [
    {
     "name": "stderr",
     "output_type": "stream",
     "text": [
      "  1%|█                                                                                 | 5/374 [00:03<04:01,  1.53it/s]"
     ]
    },
    {
     "name": "stdout",
     "output_type": "stream",
     "text": [
      "No abstract\n"
     ]
    },
    {
     "name": "stderr",
     "output_type": "stream",
     "text": [
      "  2%|█▉                                                                                | 9/374 [00:06<03:53,  1.56it/s]"
     ]
    },
    {
     "name": "stdout",
     "output_type": "stream",
     "text": [
      "No abstract\n"
     ]
    },
    {
     "name": "stderr",
     "output_type": "stream",
     "text": [
      "  6%|████▊                                                                            | 22/374 [00:16<05:02,  1.16it/s]"
     ]
    },
    {
     "name": "stdout",
     "output_type": "stream",
     "text": [
      "No abstract\n"
     ]
    },
    {
     "name": "stderr",
     "output_type": "stream",
     "text": [
      "  7%|██████                                                                           | 28/374 [00:20<03:44,  1.54it/s]"
     ]
    },
    {
     "name": "stdout",
     "output_type": "stream",
     "text": [
      "No abstract\n"
     ]
    },
    {
     "name": "stderr",
     "output_type": "stream",
     "text": [
      "  8%|██████▎                                                                          | 29/374 [00:21<03:40,  1.57it/s]"
     ]
    },
    {
     "name": "stdout",
     "output_type": "stream",
     "text": [
      "No abstract\n"
     ]
    },
    {
     "name": "stderr",
     "output_type": "stream",
     "text": [
      " 16%|████████████▌                                                                    | 58/374 [00:44<04:14,  1.24it/s]"
     ]
    },
    {
     "name": "stdout",
     "output_type": "stream",
     "text": [
      "No abstract\n"
     ]
    },
    {
     "name": "stderr",
     "output_type": "stream",
     "text": [
      " 18%|██████████████▉                                                                  | 69/374 [00:52<03:21,  1.52it/s]"
     ]
    },
    {
     "name": "stdout",
     "output_type": "stream",
     "text": [
      "No abstract\n"
     ]
    },
    {
     "name": "stderr",
     "output_type": "stream",
     "text": [
      " 20%|███████████████▊                                                                 | 73/374 [00:55<03:31,  1.42it/s]"
     ]
    },
    {
     "name": "stdout",
     "output_type": "stream",
     "text": [
      "No abstract\n"
     ]
    },
    {
     "name": "stderr",
     "output_type": "stream",
     "text": [
      " 22%|██████████████████▏                                                              | 84/374 [01:04<03:22,  1.43it/s]"
     ]
    },
    {
     "name": "stdout",
     "output_type": "stream",
     "text": [
      "No abstract\n"
     ]
    },
    {
     "name": "stderr",
     "output_type": "stream",
     "text": [
      " 25%|███████████████████▉                                                             | 92/374 [01:11<03:49,  1.23it/s]"
     ]
    },
    {
     "name": "stdout",
     "output_type": "stream",
     "text": [
      "No abstract\n"
     ]
    },
    {
     "name": "stderr",
     "output_type": "stream",
     "text": [
      " 26%|████████████████████▊                                                            | 96/374 [01:13<03:03,  1.52it/s]"
     ]
    },
    {
     "name": "stdout",
     "output_type": "stream",
     "text": [
      "No abstract\n"
     ]
    },
    {
     "name": "stderr",
     "output_type": "stream",
     "text": [
      " 28%|██████████████████████▏                                                         | 104/374 [01:19<03:05,  1.46it/s]"
     ]
    },
    {
     "name": "stdout",
     "output_type": "stream",
     "text": [
      "No abstract\n"
     ]
    },
    {
     "name": "stderr",
     "output_type": "stream",
     "text": [
      " 32%|█████████████████████████▋                                                      | 120/374 [01:31<03:47,  1.11it/s]"
     ]
    },
    {
     "name": "stdout",
     "output_type": "stream",
     "text": [
      "No abstract\n"
     ]
    },
    {
     "name": "stderr",
     "output_type": "stream",
     "text": [
      " 35%|███████████████████████████▊                                                    | 130/374 [01:39<04:09,  1.02s/it]"
     ]
    },
    {
     "name": "stdout",
     "output_type": "stream",
     "text": [
      "No abstract\n"
     ]
    },
    {
     "name": "stderr",
     "output_type": "stream",
     "text": [
      " 35%|████████████████████████████▏                                                   | 132/374 [01:40<03:15,  1.24it/s]"
     ]
    },
    {
     "name": "stdout",
     "output_type": "stream",
     "text": [
      "No abstract\n"
     ]
    },
    {
     "name": "stderr",
     "output_type": "stream",
     "text": [
      " 36%|█████████████████████████████                                                   | 136/374 [01:42<02:37,  1.51it/s]"
     ]
    },
    {
     "name": "stdout",
     "output_type": "stream",
     "text": [
      "No abstract\n"
     ]
    },
    {
     "name": "stderr",
     "output_type": "stream",
     "text": [
      " 37%|█████████████████████████████▌                                                  | 138/374 [01:44<02:30,  1.56it/s]"
     ]
    },
    {
     "name": "stdout",
     "output_type": "stream",
     "text": [
      "No abstract\n"
     ]
    },
    {
     "name": "stderr",
     "output_type": "stream",
     "text": [
      " 42%|█████████████████████████████████▎                                              | 156/374 [01:57<02:27,  1.48it/s]"
     ]
    },
    {
     "name": "stdout",
     "output_type": "stream",
     "text": [
      "No abstract\n"
     ]
    },
    {
     "name": "stderr",
     "output_type": "stream",
     "text": [
      " 42%|█████████████████████████████████▊                                              | 158/374 [01:58<02:16,  1.58it/s]"
     ]
    },
    {
     "name": "stdout",
     "output_type": "stream",
     "text": [
      "No abstract\n"
     ]
    },
    {
     "name": "stderr",
     "output_type": "stream",
     "text": [
      " 44%|██████████████████████████████████▊                                             | 163/374 [02:02<02:30,  1.40it/s]"
     ]
    },
    {
     "name": "stdout",
     "output_type": "stream",
     "text": [
      "No abstract\n"
     ]
    },
    {
     "name": "stderr",
     "output_type": "stream",
     "text": [
      " 44%|███████████████████████████████████▌                                            | 166/374 [02:04<02:13,  1.56it/s]"
     ]
    },
    {
     "name": "stdout",
     "output_type": "stream",
     "text": [
      "No abstract\n"
     ]
    },
    {
     "name": "stderr",
     "output_type": "stream",
     "text": [
      " 45%|████████████████████████████████████▏                                           | 169/374 [02:06<02:13,  1.54it/s]"
     ]
    },
    {
     "name": "stdout",
     "output_type": "stream",
     "text": [
      "No abstract\n"
     ]
    },
    {
     "name": "stderr",
     "output_type": "stream",
     "text": [
      " 48%|██████████████████████████████████████▌                                         | 180/374 [02:15<02:53,  1.12it/s]"
     ]
    },
    {
     "name": "stdout",
     "output_type": "stream",
     "text": [
      "No abstract\n"
     ]
    },
    {
     "name": "stderr",
     "output_type": "stream",
     "text": [
      " 54%|███████████████████████████████████████████▏                                    | 202/374 [02:31<02:11,  1.31it/s]"
     ]
    },
    {
     "name": "stdout",
     "output_type": "stream",
     "text": [
      "No abstract\n"
     ]
    },
    {
     "name": "stderr",
     "output_type": "stream",
     "text": [
      " 57%|█████████████████████████████████████████████▎                                  | 212/374 [02:38<02:15,  1.19it/s]"
     ]
    },
    {
     "name": "stdout",
     "output_type": "stream",
     "text": [
      "No abstract\n"
     ]
    },
    {
     "name": "stderr",
     "output_type": "stream",
     "text": [
      " 57%|█████████████████████████████████████████████▌                                  | 213/374 [02:39<02:02,  1.31it/s]"
     ]
    },
    {
     "name": "stdout",
     "output_type": "stream",
     "text": [
      "No abstract\n"
     ]
    },
    {
     "name": "stderr",
     "output_type": "stream",
     "text": [
      " 59%|██████████████████████████████████████████████▊                                 | 219/374 [02:43<01:42,  1.51it/s]"
     ]
    },
    {
     "name": "stdout",
     "output_type": "stream",
     "text": [
      "No abstract\n"
     ]
    },
    {
     "name": "stderr",
     "output_type": "stream",
     "text": [
      " 64%|██████████████████████████████████████████████████▉                             | 238/374 [02:57<01:23,  1.62it/s]"
     ]
    },
    {
     "name": "stdout",
     "output_type": "stream",
     "text": [
      "No abstract\n"
     ]
    },
    {
     "name": "stderr",
     "output_type": "stream",
     "text": [
      " 73%|██████████████████████████████████████████████████████████▍                     | 273/374 [03:21<01:08,  1.48it/s]"
     ]
    },
    {
     "name": "stdout",
     "output_type": "stream",
     "text": [
      "No abstract\n"
     ]
    },
    {
     "name": "stderr",
     "output_type": "stream",
     "text": [
      " 74%|███████████████████████████████████████████████████████████                     | 276/374 [03:23<01:03,  1.54it/s]"
     ]
    },
    {
     "name": "stdout",
     "output_type": "stream",
     "text": [
      "No abstract\n"
     ]
    },
    {
     "name": "stderr",
     "output_type": "stream",
     "text": [
      " 77%|█████████████████████████████████████████████████████████████▊                  | 289/374 [03:32<00:52,  1.61it/s]"
     ]
    },
    {
     "name": "stdout",
     "output_type": "stream",
     "text": [
      "No abstract\n"
     ]
    },
    {
     "name": "stderr",
     "output_type": "stream",
     "text": [
      " 78%|██████████████████████████████████████████████████████████████▏                 | 291/374 [03:35<01:07,  1.23it/s]"
     ]
    },
    {
     "name": "stdout",
     "output_type": "stream",
     "text": [
      "No abstract\n"
     ]
    },
    {
     "name": "stderr",
     "output_type": "stream",
     "text": [
      " 79%|███████████████████████████████████████████████████████████████                 | 295/374 [03:37<00:57,  1.38it/s]"
     ]
    },
    {
     "name": "stdout",
     "output_type": "stream",
     "text": [
      "No abstract\n"
     ]
    },
    {
     "name": "stderr",
     "output_type": "stream",
     "text": [
      " 87%|█████████████████████████████████████████████████████████████████████▎          | 324/374 [04:00<00:36,  1.35it/s]"
     ]
    },
    {
     "name": "stdout",
     "output_type": "stream",
     "text": [
      "No abstract\n"
     ]
    },
    {
     "name": "stderr",
     "output_type": "stream",
     "text": [
      " 90%|████████████████████████████████████████████████████████████████████████        | 337/374 [04:09<00:22,  1.62it/s]"
     ]
    },
    {
     "name": "stdout",
     "output_type": "stream",
     "text": [
      "No abstract\n"
     ]
    },
    {
     "name": "stderr",
     "output_type": "stream",
     "text": [
      " 92%|█████████████████████████████████████████████████████████████████████████▌      | 344/374 [04:14<00:21,  1.37it/s]"
     ]
    },
    {
     "name": "stdout",
     "output_type": "stream",
     "text": [
      "No abstract\n"
     ]
    },
    {
     "name": "stderr",
     "output_type": "stream",
     "text": [
      " 93%|██████████████████████████████████████████████████████████████████████████      | 346/374 [04:16<00:21,  1.32it/s]"
     ]
    },
    {
     "name": "stdout",
     "output_type": "stream",
     "text": [
      "No abstract\n"
     ]
    },
    {
     "name": "stderr",
     "output_type": "stream",
     "text": [
      " 93%|██████████████████████████████████████████████████████████████████████████▏     | 347/374 [04:17<00:20,  1.32it/s]"
     ]
    },
    {
     "name": "stdout",
     "output_type": "stream",
     "text": [
      "No abstract\n"
     ]
    },
    {
     "name": "stderr",
     "output_type": "stream",
     "text": [
      " 99%|███████████████████████████████████████████████████████████████████████████████▎| 371/374 [04:35<00:02,  1.20it/s]"
     ]
    },
    {
     "name": "stdout",
     "output_type": "stream",
     "text": [
      "No abstract\n"
     ]
    },
    {
     "name": "stderr",
     "output_type": "stream",
     "text": [
      "100%|███████████████████████████████████████████████████████████████████████████████▊| 373/374 [04:36<00:00,  1.44it/s]"
     ]
    },
    {
     "name": "stdout",
     "output_type": "stream",
     "text": [
      "No abstract\n"
     ]
    },
    {
     "name": "stderr",
     "output_type": "stream",
     "text": [
      "100%|████████████████████████████████████████████████████████████████████████████████| 374/374 [04:36<00:00,  1.35it/s]\n"
     ]
    }
   ],
   "source": [
    "abstracts = []\n",
    "\n",
    "count = 0\n",
    "for PMID in tqdm(PMIDs[:374]):\n",
    "    count += 1\n",
    "    if count % 10 == 0:\n",
    "        time.sleep(1)\n",
    "        \n",
    "    summary = dt.get_summary(PMID)\n",
    "    abstract = dt.get_abstract_from_summary(summary)\n",
    "    \n",
    "    abstracts.append(abstract)\n"
   ]
  },
  {
   "cell_type": "code",
   "execution_count": 16,
   "id": "cc244b0f-4eac-450f-bc6a-a6d28b9c72b6",
   "metadata": {
    "collapsed": true,
    "jupyter": {
     "outputs_hidden": true
    },
    "tags": []
   },
   "outputs": [
    {
     "name": "stderr",
     "output_type": "stream",
     "text": [
      "  8%|██████▍                                                                          | 15/187 [00:10<01:58,  1.45it/s]"
     ]
    },
    {
     "name": "stdout",
     "output_type": "stream",
     "text": [
      "No abstract\n"
     ]
    },
    {
     "name": "stderr",
     "output_type": "stream",
     "text": [
      " 11%|█████████                                                                        | 21/187 [00:14<02:15,  1.23it/s]"
     ]
    },
    {
     "name": "stdout",
     "output_type": "stream",
     "text": [
      "No abstract\n"
     ]
    },
    {
     "name": "stderr",
     "output_type": "stream",
     "text": [
      " 12%|█████████▌                                                                       | 22/187 [00:15<02:01,  1.35it/s]"
     ]
    },
    {
     "name": "stdout",
     "output_type": "stream",
     "text": [
      "No abstract\n"
     ]
    },
    {
     "name": "stderr",
     "output_type": "stream",
     "text": [
      " 14%|███████████▋                                                                     | 27/187 [00:19<02:36,  1.02it/s]"
     ]
    },
    {
     "name": "stdout",
     "output_type": "stream",
     "text": [
      "No abstract\n"
     ]
    },
    {
     "name": "stderr",
     "output_type": "stream",
     "text": [
      " 17%|█████████████▊                                                                   | 32/187 [00:24<02:18,  1.12it/s]"
     ]
    },
    {
     "name": "stdout",
     "output_type": "stream",
     "text": [
      "No abstract\n"
     ]
    },
    {
     "name": "stderr",
     "output_type": "stream",
     "text": [
      " 31%|█████████████████████████                                                        | 58/187 [00:42<01:14,  1.74it/s]"
     ]
    },
    {
     "name": "stdout",
     "output_type": "stream",
     "text": [
      "No abstract\n"
     ]
    },
    {
     "name": "stderr",
     "output_type": "stream",
     "text": [
      " 44%|███████████████████████████████████▉                                             | 83/187 [01:00<01:12,  1.43it/s]"
     ]
    },
    {
     "name": "stdout",
     "output_type": "stream",
     "text": [
      "No abstract\n"
     ]
    },
    {
     "name": "stderr",
     "output_type": "stream",
     "text": [
      " 79%|███████████████████████████████████████████████████████████████▎                | 148/187 [01:47<00:22,  1.75it/s]"
     ]
    },
    {
     "name": "stdout",
     "output_type": "stream",
     "text": [
      "No abstract\n"
     ]
    },
    {
     "name": "stderr",
     "output_type": "stream",
     "text": [
      " 80%|████████████████████████████████████████████████████████████████▏               | 150/187 [01:49<00:33,  1.10it/s]"
     ]
    },
    {
     "name": "stdout",
     "output_type": "stream",
     "text": [
      "No abstract\n"
     ]
    },
    {
     "name": "stderr",
     "output_type": "stream",
     "text": [
      " 82%|█████████████████████████████████████████████████████████████████▉              | 154/187 [01:52<00:22,  1.49it/s]"
     ]
    },
    {
     "name": "stdout",
     "output_type": "stream",
     "text": [
      "No abstract\n"
     ]
    },
    {
     "name": "stderr",
     "output_type": "stream",
     "text": [
      " 93%|██████████████████████████████████████████████████████████████████████████▍     | 174/187 [02:06<00:08,  1.49it/s]"
     ]
    },
    {
     "name": "stdout",
     "output_type": "stream",
     "text": [
      "No abstract\n"
     ]
    },
    {
     "name": "stderr",
     "output_type": "stream",
     "text": [
      " 96%|████████████████████████████████████████████████████████████████████████████▌   | 179/187 [02:09<00:04,  1.63it/s]"
     ]
    },
    {
     "name": "stdout",
     "output_type": "stream",
     "text": [
      "No abstract\n"
     ]
    },
    {
     "name": "stderr",
     "output_type": "stream",
     "text": [
      "100%|████████████████████████████████████████████████████████████████████████████████| 187/187 [02:15<00:00,  1.38it/s]\n"
     ]
    }
   ],
   "source": [
    "abstracts_valid = []\n",
    "\n",
    "count = 0\n",
    "for PMID in tqdm(PMIDs[374:]):\n",
    "    count += 1\n",
    "    if count % 10 == 0:\n",
    "        time.sleep(1)\n",
    "        \n",
    "    summary = dt.get_summary(PMID)\n",
    "    abstract = dt.get_abstract_from_summary(summary)\n",
    "    \n",
    "    abstracts_valid.append(abstract)"
   ]
  },
  {
   "cell_type": "code",
   "execution_count": 66,
   "id": "7d84ccde-4b05-405d-b5c7-bf01c7bbe39a",
   "metadata": {},
   "outputs": [
    {
     "name": "stderr",
     "output_type": "stream",
     "text": [
      "100%|███████████████████████████████████████████████████████████████████████████████| 374/374 [00:01<00:00, 296.31it/s]\n"
     ]
    },
    {
     "data": {
      "text/plain": [
       "334"
      ]
     },
     "execution_count": 66,
     "metadata": {},
     "output_type": "execute_result"
    }
   ],
   "source": [
    "nlp = spacy.load(\"annotation_ner\")\n",
    "TRAIN_DATA = []\n",
    "for abstract in tqdm(abstracts):\n",
    "    if abstract != None and abstract != '' and abstract != ' ' and abstract != '\\n':\n",
    "        #dt.test_model(nlp, abstract, 'test.txt')\n",
    "        result = dt.test_model(nlp, abstract)\n",
    "        if result != None:\n",
    "            TRAIN_DATA.append(result)\n",
    "len(TRAIN_DATA)"
   ]
  },
  {
   "cell_type": "code",
   "execution_count": 68,
   "id": "069d1da1-77ac-417b-b8e1-b2b72842884e",
   "metadata": {},
   "outputs": [
    {
     "data": {
      "text/plain": [
       "['Abolishment of anxiolytic-like effects of diazepam occurs during re-exposure to some animal tests of anxiety. We investigated the loss of anxiolytic-like effects of diazepam during Trial 2 on previously undrugged mice, namely one-trial tolerance (OTT). Swiss mice were subjected to 1) Four-Plate Test (FPT) without punishments in Trial 1 or 2) FPT without punishments in both Trials or 3) FPT with spatial modifications in Trial 1 or 4) Elevated Plus Maze (EPM), then 24 h later to FPT, with saline, diazepam (1 mg/kg) or DOI (1 mg/kg). Removing punishments in Trial 1 does not counteract the effect reduction of diazepam in Trial 2, but spatial modifications of the aversive environment. Previous exposure to EPM does not trigger a loss of efficacy of diazepam in FPT. Electric punishments do not trigger OTT to benzodiazepines; whilst knowledge of the environment seems to be responsible for this phenomenon. FPT may be useful to study OTT because punishments potentate OTT in this model of anxiety.',\n",
       " {'entities': [(101, 108, 'SYMPTOMS'), (993, 1000, 'SYMPTOMS')]}]"
      ]
     },
     "execution_count": 68,
     "metadata": {},
     "output_type": "execute_result"
    }
   ],
   "source": [
    "TRAIN_DATA[25]"
   ]
  },
  {
   "cell_type": "code",
   "execution_count": 35,
   "id": "de9527d6-3568-4572-9fa5-5899c79e7b32",
   "metadata": {},
   "outputs": [],
   "source": [
    "dt.save_data(\"data/train_data.json\", TRAIN_DATA)"
   ]
  },
  {
   "cell_type": "code",
   "execution_count": 69,
   "id": "92b5ecb5-a988-4a7b-b018-1f1188c5861b",
   "metadata": {},
   "outputs": [
    {
     "name": "stderr",
     "output_type": "stream",
     "text": [
      "100%|███████████████████████████████████████████████████████████████████████████████| 187/187 [00:00<00:00, 214.78it/s]\n"
     ]
    },
    {
     "data": {
      "text/plain": [
       "175"
      ]
     },
     "execution_count": 69,
     "metadata": {},
     "output_type": "execute_result"
    }
   ],
   "source": [
    "nlp = spacy.load(\"annotation_ner\")\n",
    "TEST_DATA = []\n",
    "for abstract in tqdm(abstracts_valid):\n",
    "    if abstract != None and abstract != '' and abstract != ' ' and abstract != '\\n':\n",
    "        result = dt.test_model(nlp, abstract)\n",
    "        if result != None:\n",
    "            TEST_DATA.append(result)\n",
    "len(TEST_DATA)"
   ]
  },
  {
   "cell_type": "code",
   "execution_count": 70,
   "id": "f5d2e4e1-edd4-4449-b3bb-e5308165a43e",
   "metadata": {},
   "outputs": [
    {
     "data": {
      "text/plain": [
       "[\"Young adults' Ecstasy use trajectories have important implications for individual and population-level consequences of Ecstasy use, but little relevant research has been conducted. This study prospectively examines Ecstasy trajectories in a population-based sample. Data are from the Natural History Study of Drug Use, a retrospective/prospective cohort study conducted in Australia. Population screening identified a probability sample of Ecstasy users aged 19-23 years. Complete data for 30 months of follow-up, comprising 4 time intervals, were available for 297 participants (88.4% of sample). Trajectories were derived using cluster analysis based on recent Ecstasy use at each interval. Trajectory predictors were examined using a generalized ordered logit model and included Ecstasy dependence (World Mental Health Composite International Diagnostic Instrument), psychological distress (Hospital Anxiety Depression Scale), aggression (Young Adult Self Report) and contextual factors (e.g. attendance at electronic/dance music events). Three Ecstasy trajectories were identified (low, intermediate and high use). At its peak, the high-use trajectory involved 1-2 days Ecstasy use per week. Decreasing frequency of use was observed for intermediate and high-use trajectories from 12 months, independently of market factors. Intermediate and high-use trajectory membership was predicted by past Ecstasy consumption (>70 pills) and attendance at electronic/dance music events. High-use trajectory members were unlikely to have used Ecstasy for more than 3 years and tended to report consistently positive subjective effects at baseline. Given the social context and temporal course of Ecstasy use, Ecstasy trajectories might be better understood in terms of instrumental rather than addictive drug use patterns.\",\n",
       " {'entities': [(14, 21, 'PSYCHEDELIC DRUGS'),\n",
       "   (119, 126, 'PSYCHEDELIC DRUGS'),\n",
       "   (215, 222, 'PSYCHEDELIC DRUGS'),\n",
       "   (440, 447, 'PSYCHEDELIC DRUGS'),\n",
       "   (663, 670, 'PSYCHEDELIC DRUGS'),\n",
       "   (782, 789, 'PSYCHEDELIC DRUGS'),\n",
       "   (903, 910, 'SYMPTOMS'),\n",
       "   (911, 921, 'DEPRESSIVE DISORDERS'),\n",
       "   (1048, 1055, 'PSYCHEDELIC DRUGS'),\n",
       "   (1174, 1181, 'PSYCHEDELIC DRUGS'),\n",
       "   (1399, 1406, 'PSYCHEDELIC DRUGS'),\n",
       "   (1535, 1542, 'PSYCHEDELIC DRUGS'),\n",
       "   (1688, 1695, 'PSYCHEDELIC DRUGS'),\n",
       "   (1701, 1708, 'PSYCHEDELIC DRUGS')]}]"
      ]
     },
     "execution_count": 70,
     "metadata": {},
     "output_type": "execute_result"
    }
   ],
   "source": [
    "TEST_DATA[25]"
   ]
  },
  {
   "cell_type": "code",
   "execution_count": 71,
   "id": "ea8be402-b2ac-4b2d-b455-2b681bac03e1",
   "metadata": {},
   "outputs": [],
   "source": [
    "dt.save_data(\"data/test_data.json\", TEST_DATA)"
   ]
  },
  {
   "cell_type": "code",
   "execution_count": 72,
   "id": "6035f6b0-0d56-4850-bd2e-71cb1395fe13",
   "metadata": {},
   "outputs": [],
   "source": [
    "nlp = spacy.blank(\"en\")\n",
    "def v3_train(TRAIN_DATA):\n",
    "    for item in tqdm(TRAIN_DATA):\n",
    "        try:\n",
    "            text, annot = item\n",
    "            doc = nlp.make_doc(text)\n",
    "            ents = []\n",
    "            for start, end, label in annot[\"entities\"]:\n",
    "                span = doc.char_span(start, end, label=label, alignment_mode=\"contract\")\n",
    "                if span is None:\n",
    "                    print(\"Skipping entity\")\n",
    "                else:\n",
    "                    ents.append(span)\n",
    "            doc.ents = ents\n",
    "            db = DocBin()\n",
    "            db.add(doc)\n",
    "        except ValueError:\n",
    "            continue\n",
    "    return db"
   ]
  },
  {
   "cell_type": "code",
   "execution_count": 73,
   "id": "7bb44d75-4a98-4ea1-9ae4-1fa102e2710d",
   "metadata": {},
   "outputs": [
    {
     "name": "stderr",
     "output_type": "stream",
     "text": [
      "100%|███████████████████████████████████████████████████████████████████████████████| 334/334 [00:01<00:00, 190.68it/s]\n"
     ]
    }
   ],
   "source": [
    "TRAIN_DATA = v3_train(TRAIN_DATA)\n",
    "TRAIN_DATA.to_disk(\"data/train.spacy\")"
   ]
  },
  {
   "cell_type": "code",
   "execution_count": 74,
   "id": "ac8e31fb-e58e-469b-9f8f-bbd4e8a8c510",
   "metadata": {},
   "outputs": [
    {
     "name": "stderr",
     "output_type": "stream",
     "text": [
      "100%|███████████████████████████████████████████████████████████████████████████████| 175/175 [00:00<00:00, 198.80it/s]\n"
     ]
    }
   ],
   "source": [
    "TEST_DATA = v3_train(TEST_DATA)\n",
    "TEST_DATA.to_disk(\"data/test.spacy\")"
   ]
  }
 ],
 "metadata": {
  "kernelspec": {
   "display_name": "Python 3 (ipykernel)",
   "language": "python",
   "name": "python3"
  },
  "language_info": {
   "codemirror_mode": {
    "name": "ipython",
    "version": 3
   },
   "file_extension": ".py",
   "mimetype": "text/x-python",
   "name": "python",
   "nbconvert_exporter": "python",
   "pygments_lexer": "ipython3",
   "version": "3.9.13"
  }
 },
 "nbformat": 4,
 "nbformat_minor": 5
}
